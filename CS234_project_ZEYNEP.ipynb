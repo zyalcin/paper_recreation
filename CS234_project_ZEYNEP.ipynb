{
 "cells": [
  {
   "cell_type": "markdown",
   "metadata": {},
   "source": [
    "# Extracting IPs from SERP and Watch pages\n",
    "\n",
    "**September 30, 2021**  \n",
    "- Basis provided by Eni Mustafaraj\n",
    "- Edited by Zeynep Yalcin \n",
    "\n",
    "This notebook is about SERPs and Watch pages that were collected with the `requests` package, which does not render the YouTube data into HTML, but keeps them in a JSON format inside `<script>` tags.\n",
    "\n",
    "There are multiple functions because the notebook can be used to do the following:\n",
    "- extract IPs from SERP pages \n",
    "- extract IPs from Watch pages\n",
    "- extract the list of videos from a SERP page\n",
    "\n",
    "In addition to these functions, there is also test code that:\n",
    "- collects all SERP pages for the Crowd audit list of queries (84 queries) and extracts their IPs (it found 25 pages with an IP)\n",
    "- collects the Watch pages for the query \"flat earth proof\" and extracts their IPs (it found 18 pages with an IP)\n",
    "- merges information from these two collection to create a dataframe for the \"flat earh proof\" videos. Such a dataframe can then be easily transformed to prepare the data for the analysis.\n",
    "\n",
    "**Explanation of functions**\n",
    "\n",
    "1. Helper function `extractIPinfo`: given a dictionary with the INFO_PANEL data, it will extract them and return the result in a dictionary. \n",
    "2. Helper function `findIPCR_SERP`: needed to go deep in the nested YouTube data and extract the InfoPanelContainerRenderer. It applies to SERP pages.\n",
    "3. Helper function `findIPCR_Watch`: the same as function 2, but it applies to Watch pages.\n",
    "4. Helper function `getYTdata`: It looks for a Javascript variable stored in a **`<script>`** tag, which has as its value a dictionary with all the data in the YouTube page (info panel and list of videos). Returns the string of the script. \n",
    "5. The main function `extractIP`: this is the function that is called with a filepath in order to search the HTML page to find the section with the INFO_PANEL data. By providing as a second argument the type of the page (SERP or Watch), it returns the corresponding IP panel, if present.\n",
    "6. The main function `extractVideosFromSERP`: this is very similar to `extractIP`, but instead of extracting the IP info, it extract the list of all videos in the SERP page, storing their ID and title.\n"
   ]
  },
  {
   "cell_type": "code",
   "execution_count": 1,
   "metadata": {},
   "outputs": [],
   "source": [
    "import requests\n",
    "from bs4 import BeautifulSoup as BS\n",
    "import json\n",
    "import os"
   ]
  },
  {
   "cell_type": "markdown",
   "metadata": {},
   "source": [
    "### Helper function `extractIPinfo`\n",
    "\n",
    "This function allows us to extract the information of the IP, such as title, source, URL, and text."
   ]
  },
  {
   "cell_type": "code",
   "execution_count": 2,
   "metadata": {},
   "outputs": [],
   "source": [
    "def extractIPinfo(infoPanelSection):\n",
    "    \"\"\"Extract the information from the provided InfoPanel section.\n",
    "    \"\"\"\n",
    "    try:\n",
    "        title = infoPanelSection['infoPanelContentRenderer']['title']['runs'][0]['text']\n",
    "        source = infoPanelSection['infoPanelContentRenderer']['source']['runs'][0]['text']\n",
    "        url = infoPanelSection['infoPanelContentRenderer']['sourceEndpoint']['urlEndpoint']['url']\n",
    "        text = infoPanelSection['infoPanelContentRenderer']['paragraphs'][0]['runs'][0]['text']\n",
    "        return {'title': title, 'source': source, 'url': url, 'text': text}\n",
    "    except:\n",
    "        print(\"Couldn't extract information from the INFO_PANEL section.\")\n",
    "        return {}"
   ]
  },
  {
   "cell_type": "markdown",
   "metadata": {},
   "source": [
    "### Helper function `findIPCR_SERP`\n",
    "\n",
    "Find the InfoPanelContainerRenderer (IPCR) in the deeply nested YouTube data. It applies to SERP pages."
   ]
  },
  {
   "cell_type": "code",
   "execution_count": 3,
   "metadata": {},
   "outputs": [],
   "source": [
    "def findIPCR_SERP(jsonData):\n",
    "    \"\"\"Extract the particular dictionary that contains the InfoPanelContainer.\n",
    "    This dictionary is nested really deep in the HTML/JSON page.\n",
    "    This function works with SERP pages.\n",
    "    \"\"\"\n",
    "    section = jsonData['contents']['twoColumnSearchResultsRenderer']\\\n",
    "                      ['primaryContents']['sectionListRenderer']\\\n",
    "                      ['contents'][0]['itemSectionRenderer']['contents']\n",
    "        \n",
    "    # the ipcr dict is not always first, so we have to search for it\n",
    "    ipcr = [el for el in section if 'infoPanelContainerRenderer' in el][0]\\\n",
    "                      ['infoPanelContainerRenderer']['content']\n",
    "    return ipcr"
   ]
  },
  {
   "cell_type": "markdown",
   "metadata": {},
   "source": [
    "### Helper function `findIPCR_Watch`\n",
    "Find the InfoPanelContainerRenderer (IPCR) in the deeply nested YouTube data. It applies to Watch pages."
   ]
  },
  {
   "cell_type": "code",
   "execution_count": 4,
   "metadata": {},
   "outputs": [],
   "source": [
    "def findIPCR_Watch(jsonData):\n",
    "    \"\"\"Extract the particular dictionary that contains the InfoPanelContainer.\n",
    "    This dictionary is nested really deep.\n",
    "    This function works with Watch pages.\n",
    "    \"\"\"\n",
    "    section = jsonData['contents']['twoColumnWatchNextResults']\\\n",
    "                      ['results']['results']['contents'][0]\\\n",
    "                      ['itemSectionRenderer']['contents']\n",
    "    \n",
    "    ipcr = [el for el in section if 'infoPanelContainerRenderer' in el][0]\\\n",
    "           ['infoPanelContainerRenderer']['content']\n",
    "    \n",
    "    return ipcr"
   ]
  },
  {
   "cell_type": "markdown",
   "metadata": {},
   "source": [
    "### Helper function `getYTData`\n",
    "\n",
    "Gets the content of the variable `ytInitialData` from the HTML file. The content of this variable will be converted to a dictionary with the help of `json.loads` to extract the IPs and the videos (from the SERP page). However, this function returns a string, so that it's easy to search for substrings (such as \"INFO_PANEL\") in it."
   ]
  },
  {
   "cell_type": "code",
   "execution_count": 5,
   "metadata": {},
   "outputs": [],
   "source": [
    "def getYTData(filePath):\n",
    "    \"\"\"Helper function that extract the variable that contains all the data on\n",
    "    the YouTube page.\n",
    "    \"\"\"\n",
    "    # turn HTML into the DOM object\n",
    "    dom = BS(open(filePath, encoding=\"utf8\"), 'html.parser')\n",
    "    \n",
    "    # find all script tags\n",
    "    scripts = dom.find_all('script')\n",
    "    \n",
    "    # find the script that contains the YouTube data (panel, video, etc.)\n",
    "    for script in scripts:\n",
    "        scriptText = script.string\n",
    "        if scriptText and 'var ytInitialData' in scriptText:\n",
    "            ourScript = scriptText\n",
    "            break\n",
    "    \n",
    "    # the script text contains the variable name, we'll remove that\n",
    "    start = ourScript.find('{') \n",
    "    if ourScript.endswith(';'):\n",
    "        variableText = ourScript[start:-1]\n",
    "    else:\n",
    "        variableText = ourScript[start:]\n",
    "        \n",
    "    return variableText"
   ]
  },
  {
   "cell_type": "markdown",
   "metadata": {},
   "source": [
    "### Main function `extractIP`\n",
    "\n",
    "This function will call some of the helper functions listed above and return either a dictionary with the IP information or an empty dictionary."
   ]
  },
  {
   "cell_type": "code",
   "execution_count": 6,
   "metadata": {},
   "outputs": [],
   "source": [
    "def extractIP(filePath, pageType):\n",
    "    \"\"\"Function that returns the IP content of a YouTube SERP or \n",
    "    Watch page if it finds it, or an empty dictionary, if it doesn't.\n",
    "    If pageType is 'SERP', extracts IP from SERP pages.\n",
    "    If pageType is 'Watch' extracts IP from Watch pages.\n",
    "    \"\"\"\n",
    "    \n",
    "    ytDataString = getYTData(filePath)\n",
    "    \n",
    "    if 'INFO_PANEL_CONTAINER' not in ytDataString:\n",
    "        return {}  # leave function if INFO_PANEL not found   \n",
    "        \n",
    "    # convert from string to dictionary\n",
    "    jsonData = json.loads(ytDataString)\n",
    "    \n",
    "    # to extract INFO_PANEL, use the appropriate function\n",
    "    funcNameDct = {'SERP': findIPCR_SERP, 'Watch': findIPCR_Watch}\n",
    "    \n",
    "    try:\n",
    "        # first get the function name, then pass the argument\n",
    "        ipcr = funcNameDct[pageType](jsonData)\n",
    "        \n",
    "        # call helper function to extract the detailed info from the panel\n",
    "        return extractIPinfo(ipcr)\n",
    "                \n",
    "    except:\n",
    "        print(filePath, \"- Check your code for extracting the info panel!\")\n",
    "        return {}"
   ]
  },
  {
   "cell_type": "markdown",
   "metadata": {},
   "source": [
    "### Main function `extractVideosFromSERP`\n",
    "\n",
    "Similar to the previous function, but instead of looking for the INFO_PANEL, it returns a list of dictionaries with information about all the videos on the page."
   ]
  },
  {
   "cell_type": "code",
   "execution_count": 7,
   "metadata": {},
   "outputs": [],
   "source": [
    "def extractVideosFromSERP(filePath):\n",
    "    \"\"\"Given a SERP file, extracts and returns the list of all videos in the page.\n",
    "    Each list entry is a simple dictionary with two keys: videoId and title.\n",
    "    \"\"\"\n",
    "    \n",
    "    ytDataString = getYTData(filePath)\n",
    "    \n",
    "     # convert from string to dictionary\n",
    "    jsonData = json.loads(ytDataString)\n",
    "    \n",
    "    sectionList = jsonData['contents']['twoColumnSearchResultsRenderer']\\\n",
    "                      ['primaryContents']['sectionListRenderer']\\\n",
    "                      ['contents'][0]['itemSectionRenderer']['contents']\n",
    "    \n",
    "    # Find all videos, store videoId and title for each of them\n",
    "    videosLst = []\n",
    "    for entry in sectionList:\n",
    "        if 'videoRenderer' in entry:\n",
    "            videosLst.append({'videoId': entry['videoRenderer']['videoId'],\n",
    "                             'title': entry['videoRenderer']['title']['runs'][0]['text']})\n",
    "\n",
    "    return videosLst"
   ]
  },
  {
   "cell_type": "markdown",
   "metadata": {},
   "source": [
    "## Step 1: Extracting IPs from SERP pages\n",
    "\n",
    "I will collect SERPs for the queries of CROWD_DS, then pass them through the fuctions above to find out if they have IPs, and which ones."
   ]
  },
  {
   "cell_type": "code",
   "execution_count": 8,
   "metadata": {},
   "outputs": [
    {
     "data": {
      "text/plain": [
       "84"
      ]
     },
     "execution_count": 8,
     "metadata": {},
     "output_type": "execute_result"
    }
   ],
   "source": [
    "with open('simple_queries_crowd.txt') as inputF:\n",
    "    queries = [q.strip() for q in inputF.readlines()]\n",
    "    \n",
    "len(queries)"
   ]
  },
  {
   "cell_type": "code",
   "execution_count": 9,
   "metadata": {},
   "outputs": [
    {
     "data": {
      "text/plain": [
       "'illuminati conspiracy theory'"
      ]
     },
     "execution_count": 9,
     "metadata": {},
     "output_type": "execute_result"
    }
   ],
   "source": [
    "queries[5]"
   ]
  },
  {
   "cell_type": "code",
   "execution_count": 10,
   "metadata": {},
   "outputs": [
    {
     "data": {
      "text/plain": [
       "49"
      ]
     },
     "execution_count": 10,
     "metadata": {},
     "output_type": "execute_result"
    }
   ],
   "source": [
    "with open('simple_queries_audit.txt') as inputF:\n",
    "    queries_audit = [q.strip() for q in inputF.readlines()]\n",
    "    \n",
    "len(queries_audit)"
   ]
  },
  {
   "cell_type": "markdown",
   "metadata": {},
   "source": [
    "In the code below we extract the SERP data by sending a requestingt to youtube for each query that we have and create a folder to save them in the form of a URL. "
   ]
  },
  {
   "cell_type": "code",
   "execution_count": 11,
   "metadata": {},
   "outputs": [],
   "source": [
    "for q in queries:\n",
    "    # send a request to YouTube\n",
    "    response = requests.get(\"http://www.youtube.com/results?search_query={}\".format(\"+\".join(q.split())))\n",
    "   \n",
    "    # if successful, store the data into a file\n",
    "    if response.status_code == 200:\n",
    "        html = response.text\n",
    "        with open('SERPS-crowd/{}.html'.format(q), 'w') as outF:\n",
    "            outF.write(html)"
   ]
  },
  {
   "cell_type": "code",
   "execution_count": 12,
   "metadata": {},
   "outputs": [],
   "source": [
    "for m in queries_audit:\n",
    "    # send a request to YouTube\n",
    "    response_audit = requests.get(\"http://www.youtube.com/results?search_query={}\".format(\"+\".join(m.split())))\n",
    "   \n",
    "    # if successful, store the data into a file\n",
    "    if response_audit.status_code == 200:\n",
    "        html_audit = response_audit.text\n",
    "        with open('SERPS-audit/{}.html'.format(m), 'w') as outM:\n",
    "            outM.write(html)"
   ]
  },
  {
   "cell_type": "markdown",
   "metadata": {},
   "source": [
    "**Check that the files were written, we want the lengths to be 84 and 49** "
   ]
  },
  {
   "cell_type": "code",
   "execution_count": 13,
   "metadata": {},
   "outputs": [],
   "source": [
    "files = os.listdir('SERPS-crowd')\n",
    "files = [f for f in files if not f.startswith('.')]"
   ]
  },
  {
   "cell_type": "code",
   "execution_count": 14,
   "metadata": {},
   "outputs": [
    {
     "data": {
      "text/plain": [
       "84"
      ]
     },
     "execution_count": 14,
     "metadata": {},
     "output_type": "execute_result"
    }
   ],
   "source": [
    "len(files)"
   ]
  },
  {
   "cell_type": "code",
   "execution_count": 15,
   "metadata": {},
   "outputs": [],
   "source": [
    "files_audit = os.listdir('SERPS-audit')\n",
    "files_audit = [m for m in files_audit if not m.startswith('.')]"
   ]
  },
  {
   "cell_type": "code",
   "execution_count": 16,
   "metadata": {},
   "outputs": [
    {
     "data": {
      "text/plain": [
       "49"
      ]
     },
     "execution_count": 16,
     "metadata": {},
     "output_type": "execute_result"
    }
   ],
   "source": [
    "len(files_audit)"
   ]
  },
  {
   "cell_type": "code",
   "execution_count": 17,
   "metadata": {},
   "outputs": [
    {
     "data": {
      "text/plain": [
       "['coronavirus was man made.html',\n",
       " 'flat earth real.html',\n",
       " 'seth rich.html',\n",
       " 'covid grew in lab.html']"
      ]
     },
     "execution_count": 17,
     "metadata": {},
     "output_type": "execute_result"
    }
   ],
   "source": [
    "#check contents \n",
    "files[10:14]"
   ]
  },
  {
   "cell_type": "code",
   "execution_count": 18,
   "metadata": {},
   "outputs": [
    {
     "data": {
      "text/plain": [
       "['earth is flat.html',\n",
       " 'Vaccines are toxic.html',\n",
       " 'flat earth conspiracy.html',\n",
       " 'flat earth brothers channel.html']"
      ]
     },
     "execution_count": 18,
     "metadata": {},
     "output_type": "execute_result"
    }
   ],
   "source": [
    "#check contents \n",
    "files_audit[10:14]"
   ]
  },
  {
   "cell_type": "markdown",
   "metadata": {},
   "source": [
    "\n",
    "\n",
    "**Find the SERPs with IP**\n",
    "\n",
    "Now we can use the functions provided  to extract IPs. With this function we are able to extarct the information panels in each file. "
   ]
  },
  {
   "cell_type": "code",
   "execution_count": 19,
   "metadata": {},
   "outputs": [
    {
     "name": "stdout",
     "output_type": "stream",
     "text": [
      "pages with IPs: 26\n",
      "pages without IPs: 58\n"
     ]
    }
   ],
   "source": [
    "queriesWithIPs = {}  # keep track of the INFO_PANEL data in a dict\n",
    "withoutIPs = []      # keep track of SERPs without IP\n",
    "\n",
    "for f in files:\n",
    "    query = f.split('.html')[0]\n",
    "    result = extractIP(os.path.join('SERPS-crowd', f), 'SERP')\n",
    "    if result:\n",
    "        queriesWithIPs[query] = result\n",
    "    else:\n",
    "        withoutIPs.append(query)\n",
    "        \n",
    "print('pages with IPs:', len(queriesWithIPs))\n",
    "print('pages without IPs:', len(withoutIPs))"
   ]
  },
  {
   "cell_type": "code",
   "execution_count": 20,
   "metadata": {},
   "outputs": [
    {
     "name": "stdout",
     "output_type": "stream",
     "text": [
      "pages with IPs: 17\n",
      "pages without IPs: 32\n"
     ]
    }
   ],
   "source": [
    "queriesWithIPs_audit = {}  # keep track of the INFO_PANEL data in a dict\n",
    "withoutIPs_audit = []      # keep track of SERPs without IP\n",
    "\n",
    "for m in files_audit:\n",
    "    query = m.split('.html')[0]\n",
    "    result_audit = extractIP(os.path.join('/Users/zeynoyalcin/Desktop/SERPS-audit', m), 'SERP')\n",
    "    if result_audit:\n",
    "        queriesWithIPs_audit[query] = result_audit\n",
    "    else:\n",
    "        withoutIPs_audit.append(query)\n",
    "        \n",
    "print('pages with IPs:', len(queriesWithIPs_audit))\n",
    "print('pages without IPs:', len(withoutIPs_audit))"
   ]
  },
  {
   "cell_type": "markdown",
   "metadata": {},
   "source": [
    "Let's see the names of the queries whose SERPs have IPs:"
   ]
  },
  {
   "cell_type": "code",
   "execution_count": 21,
   "metadata": {},
   "outputs": [
    {
     "data": {
      "text/plain": [
       "['area 51',\n",
       " 'barack obama born in kenya',\n",
       " 'climate change a hoax',\n",
       " 'climate change fake',\n",
       " \"climate change isn't real\",\n",
       " 'climate change not real',\n",
       " 'flat earth',\n",
       " 'flat earth proof',\n",
       " 'flat earth real',\n",
       " 'flat earth theory',\n",
       " 'global warming',\n",
       " 'global warming not real',\n",
       " 'holocaust fake',\n",
       " 'illuminati',\n",
       " 'illuminati conspiracy theory',\n",
       " 'jfk assassination',\n",
       " 'jfk assassination conspiracy',\n",
       " 'jfk assassination real killer',\n",
       " 'jfk killer',\n",
       " 'moon landing not real',\n",
       " 'obama birth certificate',\n",
       " 'pizza gate',\n",
       " 'pizzagate',\n",
       " 'princess diana death',\n",
       " 'qanon',\n",
       " 'russia shot down mh370']"
      ]
     },
     "execution_count": 21,
     "metadata": {},
     "output_type": "execute_result"
    }
   ],
   "source": [
    "sorted(queriesWithIPs.keys())"
   ]
  },
  {
   "cell_type": "code",
   "execution_count": 22,
   "metadata": {},
   "outputs": [
    {
     "data": {
      "text/plain": [
       "['Chemtrail',\n",
       " 'Chemtrail 2018',\n",
       " 'Chemtrail flu',\n",
       " 'Chemtrails',\n",
       " 'chemtrail documentary',\n",
       " 'chemtrail pilot',\n",
       " 'chemtrail pilot speaks out',\n",
       " 'chemtrail plane up close',\n",
       " 'chemtrail whistleblower',\n",
       " 'chemtrails exposed',\n",
       " 'earth is flat',\n",
       " 'flat earth',\n",
       " 'flat earth british',\n",
       " 'flat earth brothers channel',\n",
       " 'flat earth conspiracy',\n",
       " 'flat earth paradise',\n",
       " 'flat earth proof']"
      ]
     },
     "execution_count": 22,
     "metadata": {},
     "output_type": "execute_result"
    }
   ],
   "source": [
    "sorted(queriesWithIPs_audit.keys())"
   ]
  },
  {
   "cell_type": "markdown",
   "metadata": {},
   "source": [
    "We can look at the IP info of some of the queries:"
   ]
  },
  {
   "cell_type": "code",
   "execution_count": 23,
   "metadata": {},
   "outputs": [
    {
     "data": {
      "text/plain": [
       "{'title': 'QAnon',\n",
       " 'source': 'Wikipedia',\n",
       " 'url': 'https://en.wikipedia.org/wiki/QAnon?wprov=yicw1',\n",
       " 'text': 'QAnon is a disproven far-right conspiracy theory alleging that a cabal of Satanic, cannibalistic pedophiles operate a global child sex trafficking ring and conspired against former President Donald Trump during his term in office. QAnon has been described as a cult.'}"
      ]
     },
     "execution_count": 23,
     "metadata": {},
     "output_type": "execute_result"
    }
   ],
   "source": [
    "queriesWithIPs['qanon']"
   ]
  },
  {
   "cell_type": "code",
   "execution_count": 24,
   "metadata": {},
   "outputs": [
    {
     "data": {
      "text/plain": [
       "{'title': 'Contrail',\n",
       " 'source': 'Encyclopedia Britannica',\n",
       " 'url': 'https://www.britannica.com/science/vapor-trail',\n",
       " 'text': 'Contrail, also called condensation trail or vapour trail, streamer of cloud sometimes observed behind an airplane flying in clear cold humid air. It forms upon condensation of water vapour produced by the combustion of fuel in airplane engines. When the ambient relative humidity is high, the resulting ice-crystal plume may last several hours. The trail may be distorted by the winds, and sometimes it spreads outward to form a layer of cirrus cloud. On rare occasions, when the air is nearly saturated with water vapour, air circulation at the wing tips of an airplane may cause sufficient pressure and temperature reductions to cause cloud streamers to form. In the 1990s a popular conspiracy theory arose claiming that long-lasting contrails contained chemicals (“chemtrails”) that were sprayed by governments for purposes such as controlling the weather or dispersing drugs to influence the general population. However, atmospheric scientists have explained that some contrails last longer than others because of factors such as the humidity of the air (which can vary quite sharply over short distances) and the temperature of the airplane’s exhaust.'}"
      ]
     },
     "execution_count": 24,
     "metadata": {},
     "output_type": "execute_result"
    }
   ],
   "source": [
    "queriesWithIPs_audit['Chemtrails']"
   ]
  },
  {
   "cell_type": "code",
   "execution_count": 25,
   "metadata": {},
   "outputs": [
    {
     "data": {
      "text/plain": [
       "{'title': 'Malaysia Airlines flight 370 disappearance',\n",
       " 'source': 'Encyclopedia Britannica',\n",
       " 'url': 'https://www.britannica.com/event/Malaysia-Airlines-flight-370-disappearance',\n",
       " 'text': 'Malaysia Airlines flight 370 disappearance, also called MH370 disappearance, disappearance of a Malaysia Airlines passenger jet on March 8, 2014, during a flight from Kuala Lumpur to Beijing. The disappearance of the Boeing 777 with 227 passengers and 12 crew members on board led to a search effort stretching from the Indian Ocean west of Australia to Central Asia. Flight 370 took off at 12:41 AM local time. It reached a cruising altitude of 10,700 metres (35,000 feet) at 1:01 AM. The Aircraft Communication Addressing and Reporting System (ACARS), which transmitted data about the aircraft’s performance, sent its last transmission at 1:07 AM and was subsequently switched off. The last voice communication from the crew occurred at 1:19 AM, and at 1:21 AM the plane’s transponder, which communicated with air-traffic control, was switched off, just as the plane was about to enter Vietnamese airspace over the South China Sea. At 1:30 AM Malaysian military and civilian radar began tracking the plane as it turned around and then flew southwest over the Malay Peninsula. After crossing the peninsula, the plane turned northwest over the Strait of Malacca. At 2:22 AM Malaysian military radar lost contact with the plane over the Andaman Sea. An Inmarsat satellite in geostationary orbit over the Indian Ocean received hourly signals from flight 370 and detected the plane for the final time at 8:11 AM.'}"
      ]
     },
     "execution_count": 25,
     "metadata": {},
     "output_type": "execute_result"
    }
   ],
   "source": [
    "queriesWithIPs['russia shot down mh370']"
   ]
  },
  {
   "cell_type": "markdown",
   "metadata": {},
   "source": [
    "**Save the data**\n",
    "\n",
    "It's always good to save partial results of the analysis, so that one doesn't need to repeat it again."
   ]
  },
  {
   "cell_type": "code",
   "execution_count": 26,
   "metadata": {},
   "outputs": [],
   "source": [
    "with open('onlyQueriesWithIPs.json', 'w') as outputF:\n",
    "    json.dump(queriesWithIPs, outputF)"
   ]
  },
  {
   "cell_type": "code",
   "execution_count": 27,
   "metadata": {},
   "outputs": [],
   "source": [
    "with open('onlyQueriesWithIPs_audit.json', 'w') as outputM:\n",
    "    json.dump(queriesWithIPs_audit, outputM)"
   ]
  },
  {
   "cell_type": "markdown",
   "metadata": {},
   "source": [
    "## Step 2: Extract IPs from Watch pages\n",
    "\n",
    "First, extract the list of videos from all SERP pages using the main function `extractVideosFromSERP`.\n",
    "Once extracted, store them in a dictionary of dictionaries for further processing."
   ]
  },
  {
   "cell_type": "code",
   "execution_count": 28,
   "metadata": {},
   "outputs": [
    {
     "name": "stdout",
     "output_type": "stream",
     "text": [
      "crisis actors 20 {'videoId': '1w03kVRTYI8', 'title': 'Inside the ‘Crisis Actor’ Conspiracy Theory'}\n",
      "school shooting crisis actors 20 {'videoId': 'To91BJGKr5I', 'title': 'The Rise of the Crisis Actor Conspiracy Movement'}\n",
      "obama birth 20 {'videoId': 'QM2GJn6hpJE', 'title': 'President Obama Provides His Birth Certificate to the Press'}\n",
      "moon landing faked 20 {'videoId': 'uTChrirK-hw', 'title': 'Was the Moon Landing faked? | Big Questions with Neil deGrasse Tyson'}\n",
      "jfk killer 20 {'videoId': 'sjXRQXlBU3g', 'title': 'Lee Harvey Oswald Shot On Camera | Archives | TODAY'}\n",
      "vaccines autism 20 {'videoId': 'o65l1YAVaYc', 'title': \"Vaccines Don't Cause Autism: Healthcare Triage #12\"}\n",
      "government poisoning 20 {'videoId': 'CWo8vNRbPyQ', 'title': \"Yes, The U.S. Gov't Poisoned Alcohol in the 1920s\"}\n",
      "stevie wonder faked blindness 20 {'videoId': 'jzVXkbvauWY', 'title': \"Stevie Wonder Isn't Blind?\"}\n",
      "alaska mind control lab 20 {'videoId': 'BoZf9feQATc', 'title': 'The Truth Behind This Big Alaskan Conspiracy Theory (HBO)'}\n",
      "black lives matter police 20 {'videoId': 'dtQp-GSFji4', 'title': 'Saginaw Police chief speaks at Black Lives Matter protest'}\n",
      "coronavirus was man made 20 {'videoId': 'U023FSiOdf0', 'title': 'Chinese Virologist Claims Coronavirus Was Man-Made In Wuhan’s Laboratory'}\n",
      "flat earth real 20 {'videoId': 'e5ACN9iF8Jw', 'title': '5 Facts That Prove The Earth Is Flat'}\n",
      "seth rich 20 {'videoId': 'eKNgIeIEyk8', 'title': \"How a baseless conspiracy theory grew around Seth Rich's murder\"}\n",
      "covid grew in lab 20 {'videoId': '_P9o7qnawSU', 'title': 'Atlantic Council fellow: Likely Covid-19 came from Wuhan lab'}\n",
      "covid was created in a lab 20 {'videoId': '_P9o7qnawSU', 'title': 'Atlantic Council fellow: Likely Covid-19 came from Wuhan lab'}\n",
      "school shooting 20 {'videoId': 'O-44PP-x4NQ', 'title': 'Timberview High School on lockdown, police investigating active shooter situation'}\n",
      "911 faked 20 {'videoId': 'rXUpqr1LtAw', 'title': '9/11 conspiracy theories cast long shadow'}\n",
      "election stolen conspiracy 20 {'videoId': 'PzUGrErdDcw', 'title': 'Debunking Donald Trump’s voter fraud conspiracy'}\n",
      "avril lavigne clone 19 {'videoId': '783gfMGgT18', 'title': 'Avril Lavigne RESPONDS to Clone Conspiracy Theory'}\n",
      "black lives matter 20 {'videoId': '4Vl4I0weXPU', 'title': 'Black Lives Matter Protests Around the World'}\n",
      "russia shot down mh370 20 {'videoId': 'tHzavUArAXQ', 'title': 'Cause of MH17 crash by Dutch Safety Board'}\n",
      "moon landing fake 20 {'videoId': 'uTChrirK-hw', 'title': 'Was the Moon Landing faked? | Big Questions with Neil deGrasse Tyson'}\n",
      "epstein 20 {'videoId': 'VQOOxOl9l80', 'title': \"Exposing Jeffrey Epstein's international sex trafficking ring | 60 Minutes Australia\"}\n",
      "obama was not born in the U.S. 20 {'videoId': 'FVNLWTQ9VH0', 'title': 'Donald Trump Admits Obama Born in U.S. After Years Pushing ‘Birther’ Conspiracy | NBC Nightly News'}\n",
      "avril lavigne replaced by clone 19 {'videoId': 'xujtjRUjHaQ', 'title': 'Is Emo Avril Lavigne Dead?'}\n",
      "global warming 20 {'videoId': 'oJAbATJCugs', 'title': 'Global Warming 101 | National Geographic'}\n",
      "moon landing fake proof 20 {'videoId': 'O9y_AVYMEUs', 'title': 'Debunking Lunar Landing Conspiracies with Maxwell and VXGI'}\n",
      "covid vaccine dangerous 20 {'videoId': 'j6Sn07fQeYM', 'title': 'Latest research on vaccine side effects, immune reaction and thrombosis risks | COVID-19 Special'}\n",
      "election stolen trump 20 {'videoId': 'TEHS4nqJPkI', 'title': 'President Trump Makes Baseless Claims Of Election Fraud | TODAY'}\n",
      "jeffrey epstein death 20 {'videoId': 'Ocud-x8Ocuo', 'title': 'Did Jeffrey Epstein die by homicide or suicide? | 60 Minutes Australia'}\n",
      "jfk assassination real killer 20 {'videoId': 'uRZHzMjS4yg', 'title': 'The Real Story Of The JFK Assassination Umbrella Man | The Umbrella Academy'}\n",
      "avril lavigne dead 19 {'videoId': 'DAKrBCFYTh0', 'title': 'Avril Lavigne Speaks Out About Death Rumours'}\n",
      "antivax 20 {'videoId': 'rIhOPOzlvTA', 'title': 'Jordan Klepper Debates Anti-Vax Mandate Protesters in NYC | The Daily Show'}\n",
      "barack obama born in kenya 20 {'videoId': 'TLU-tgJ3Iqw', 'title': 'Donald Trump contends Obama born in Kenya'}\n",
      "jfk assassination 20 {'videoId': 'msw-SCSQm3Q', 'title': 'The JFK assassination | 72 Hours that changed America'}\n",
      "princess diana death 20 {'videoId': 'spmEh9GeVhM', 'title': 'The Tragic Death of Princess Diana'}\n",
      "illuminati conspiracy theory 20 {'videoId': 'agx3jbF4Nyo', 'title': 'Top 10 Craziest Conspiracy Theories About the ILLUMINATI'}\n",
      "pizza gate 20 {'videoId': 'tfXWXNItF_Y', 'title': 'Pizzagate Is An Alt-Right Fever Dream'}\n",
      "covid vaccine fake 20 {'videoId': 'B6ZwP0WctJc', 'title': 'Fake Covid Vaccine Card Imports, Sales Skyrocket Across U.S.'}\n",
      "climate change a hoax 20 {'videoId': 'dQLLXyFvQOE', 'title': 'Why climate change is about money | Kashmala Kakakhel | TEDxIslamabadWomen'}\n",
      "global warming not real 20 {'videoId': 'TbW_1MtC2So', 'title': 'The Biggest Lie About Climate Change'}\n",
      "climate change fake 20 {'videoId': 'TbW_1MtC2So', 'title': 'The Biggest Lie About Climate Change'}\n",
      "stevie wonder can see 18 {'videoId': '9kgv0l4he9I', 'title': 'Stevie Wonder Can See - Largest Compilation Video Evidence'}\n",
      "jfk assassination conspiracy 20 {'videoId': 'yznRGS9f-jI', 'title': 'Who Was the Umbrella Man? | JFK Assassination Documentary | The New York Times'}\n",
      "moon landing not real 20 {'videoId': 'O9y_AVYMEUs', 'title': 'Debunking Lunar Landing Conspiracies with Maxwell and VXGI'}\n",
      "anastasia alive 20 {'videoId': '0dLBDyxueY8', 'title': 'Anastasia – Did She Really Escape The Massacre?'}\n",
      "911 inside job 20 {'videoId': 'rXUpqr1LtAw', 'title': '9/11 conspiracy theories cast long shadow'}\n",
      "mandela effect proof 19 {'videoId': 'S4OyRFwWZ2g', 'title': '10 Mysterious Examples of the Mandela Effect'}\n",
      "obama birth certificate 20 {'videoId': 'QM2GJn6hpJE', 'title': 'President Obama Provides His Birth Certificate to the Press'}\n",
      "black lives matter conspiracy 20 {'videoId': '34qNFIH3vCE', 'title': 'What is Black Lives Matter? George Floyd, Breonna Taylor, All Lives Matter,Systemic Racism Explained'}\n",
      "wayfair sex trafficking 20 {'videoId': 'RjF81V2hJd0', 'title': 'Wayfair: The false conspiracy about a furniture firm and child trafficking - BBC News'}\n",
      "moon landing conspiracy 20 {'videoId': 'O9y_AVYMEUs', 'title': 'Debunking Lunar Landing Conspiracies with Maxwell and VXGI'}\n",
      "birds aren't real 18 {'videoId': 'zNtr0RahRqM', 'title': '\"Birds Aren\\'t Real\" Campaign'}\n",
      "flat earth 20 {'videoId': 'Dd-FAyHdpxI', 'title': 'Destroying Flat Earth Without Using Science - Part 3: Airplanes'}\n",
      "birds are robots 20 {'videoId': 'N8f_8WCYxwA', 'title': 'Birds Are Robots'}\n",
      "holocaust fake 20 {'videoId': 'InKifJC13s4', 'title': 'Proving The Truth Behind The Holocaust'}\n",
      "bigfoot conspiracy 20 {'videoId': 'rvT17_Z_Tio', 'title': \"Bigfoot's Big Foot | National Geographic\"}\n",
      "5g covid spread 20 {'videoId': 'f279f-Y-O-w', 'title': 'Why the 5G coronavirus conspiracy theory is false'}\n",
      "illuminati 20 {'videoId': 'ZaNvoO7TTqU', 'title': \"They're Watching You! | The History of the Illuminati\"}\n",
      "do vaccines cause autism 20 {'videoId': 'o65l1YAVaYc', 'title': \"Vaccines Don't Cause Autism: Healthcare Triage #12\"}\n",
      "area 51 20 {'videoId': 'GFmtOcgKOCU', 'title': 'UFO Hunters: Unspoken Secrets of Area 51 (S2, E13) | Full Episode | History'}\n",
      "flat earth theory 20 {'videoId': '06bvdFK3vVU', 'title': 'Flat Earth vs. Round Earth | Explorer'}\n",
      "qanon 20 {'videoId': 'ift5nxcSrII', 'title': 'QAnon And Conspiracy Theories: An American Political Tradition | Meet The Press Reports | NBC News'}\n",
      "ufo roswell 20 {'videoId': 'gGsUUvOXxtY', 'title': 'Roswell: The UFO mystery that still haunts America | Planet America'}\n",
      "school shooting conspiracy 20 {'videoId': 'mPNJoZceBss', 'title': 'Student targeted by conspiracy theories after shooting speaks out'}\n",
      "epstein homicide 20 {'videoId': 'Ocud-x8Ocuo', 'title': 'Did Jeffrey Epstein die by homicide or suicide? | 60 Minutes Australia'}\n",
      "covid engineer kill half poor 20 {'videoId': 'MIIkcRhyYjg', 'title': 'From Spanish Flu To COVID-19: How Viruses Kill'}\n",
      "flat earth proof 20 {'videoId': 'e5ACN9iF8Jw', 'title': '5 Facts That Prove The Earth Is Flat'}\n",
      "mlk assassination conspiracy 20 {'videoId': 'pXH_1OQeK9A', 'title': 'Jesse Jackson: FBI involved in MLK’s murder'}\n",
      "climate change isn't real 20 {'videoId': 'gwsFmhjZXs0', 'title': \"What if climate change isn't real?\"}\n",
      "election stolen 20 {'videoId': 'UHysqu3gnSc', 'title': \"Donald Trump on election integrity: 'This is going to be a fraud like you've never seen'\"}\n",
      "climate change not real 20 {'videoId': 'TbW_1MtC2So', 'title': 'The Biggest Lie About Climate Change'}\n",
      "coronavirus conspiracy 20 {'videoId': 'GywPF-zo1jY', 'title': 'Conspiracy Theories on COVID-19: Lab Leak Theory, Explained'}\n",
      "mandela effect examples 19 {'videoId': 'S4OyRFwWZ2g', 'title': '10 Mysterious Examples of the Mandela Effect'}\n",
      "rotten tomatoes biased rating 20 {'videoId': 'oQyKpOJhUKY', 'title': \"Why Rotten Tomatoes scores don't mean what they seem\"}\n",
      "sasquatch 20 {'videoId': 'G8pVypMhub8', 'title': 'Sasquatch  • Official Trailer -  A Hulu Original'}\n",
      "mandela effect 19 {'videoId': 'kkO9zO62k-w', 'title': 'Top 20 Mind-Blowing Examples of the Mandela Effect'}\n",
      "mattress firm money laundering 20 {'videoId': 'gatTqg_nldc', 'title': 'Mattress Firm Conspiracy Theory - Getting to the Bottom of It'}\n",
      "wayfair human trafficking 20 {'videoId': 'RjF81V2hJd0', 'title': 'Wayfair: The false conspiracy about a furniture firm and child trafficking - BBC News'}\n",
      "deep state against trump 20 {'videoId': 'k8GdPUiQ0IA', 'title': \"Trump: 'Deep state' is a threat to democracy\"}\n",
      "wayfair child trafficking 20 {'videoId': 'RjF81V2hJd0', 'title': 'Wayfair: The false conspiracy about a furniture firm and child trafficking - BBC News'}\n",
      "pizzagate 20 {'videoId': 'tfXWXNItF_Y', 'title': 'Pizzagate Is An Alt-Right Fever Dream'}\n",
      "vaccines cause autism 20 {'videoId': 'o65l1YAVaYc', 'title': \"Vaccines Don't Cause Autism: Healthcare Triage #12\"}\n",
      "jeffrey epstein 20 {'videoId': 'VQOOxOl9l80', 'title': \"Exposing Jeffrey Epstein's international sex trafficking ring | 60 Minutes Australia\"}\n"
     ]
    }
   ],
   "source": [
    "files = os.listdir('SERPS-crowd') \n",
    "files = [f for f in files if not f.startswith('.')]\n",
    "\n",
    "queriesWithVideos = {}\n",
    "for f in files:\n",
    "    query = f.split('.html')[0]\n",
    "    result =  extractVideosFromSERP(os.path.join('SERPS-crowd', f))\n",
    "    queriesWithVideos[query] = extractVideosFromSERP(os.path.join('SERPS-crowd', f))\n",
    "\n",
    "# Print query, total number of videos, and the first video info\n",
    "for query in queriesWithVideos:\n",
    "    print(query, len(queriesWithVideos[query]), queriesWithVideos[query][0])"
   ]
  },
  {
   "cell_type": "code",
   "execution_count": 131,
   "metadata": {},
   "outputs": [
    {
     "name": "stdout",
     "output_type": "stream",
     "text": [
      "chemtrail whistleblower 20 {'videoId': 'gGsUUvOXxtY', 'title': 'Roswell: The UFO mystery that still haunts America | Planet America'}\n",
      "anti vaccine 20 {'videoId': 'gGsUUvOXxtY', 'title': 'Roswell: The UFO mystery that still haunts America | Planet America'}\n",
      "911 conspiracy shane 20 {'videoId': 'gGsUUvOXxtY', 'title': 'Roswell: The UFO mystery that still haunts America | Planet America'}\n",
      "chemtrail plane up close 20 {'videoId': 'gGsUUvOXxtY', 'title': 'Roswell: The UFO mystery that still haunts America | Planet America'}\n",
      "911 20 {'videoId': 'gGsUUvOXxtY', 'title': 'Roswell: The UFO mystery that still haunts America | Planet America'}\n",
      "moon hoax 20 {'videoId': 'gGsUUvOXxtY', 'title': 'Roswell: The UFO mystery that still haunts America | Planet America'}\n",
      "Chemtrail flu 20 {'videoId': 'gGsUUvOXxtY', 'title': 'Roswell: The UFO mystery that still haunts America | Planet America'}\n",
      "911 footage ground zero 20 {'videoId': 'gGsUUvOXxtY', 'title': 'Roswell: The UFO mystery that still haunts America | Planet America'}\n",
      "Chemtrails 20 {'videoId': 'gGsUUvOXxtY', 'title': 'Roswell: The UFO mystery that still haunts America | Planet America'}\n",
      "flat earth british 20 {'videoId': 'gGsUUvOXxtY', 'title': 'Roswell: The UFO mystery that still haunts America | Planet America'}\n",
      "earth is flat 20 {'videoId': 'gGsUUvOXxtY', 'title': 'Roswell: The UFO mystery that still haunts America | Planet America'}\n",
      "Vaccines are toxic 20 {'videoId': 'gGsUUvOXxtY', 'title': 'Roswell: The UFO mystery that still haunts America | Planet America'}\n",
      "flat earth conspiracy 20 {'videoId': 'gGsUUvOXxtY', 'title': 'Roswell: The UFO mystery that still haunts America | Planet America'}\n",
      "flat earth brothers channel 20 {'videoId': 'gGsUUvOXxtY', 'title': 'Roswell: The UFO mystery that still haunts America | Planet America'}\n",
      "moon landing fake 20 {'videoId': 'gGsUUvOXxtY', 'title': 'Roswell: The UFO mystery that still haunts America | Planet America'}\n",
      "moon landing 20 {'videoId': 'gGsUUvOXxtY', 'title': 'Roswell: The UFO mystery that still haunts America | Planet America'}\n",
      "Chemtrail 2018 20 {'videoId': 'gGsUUvOXxtY', 'title': 'Roswell: The UFO mystery that still haunts America | Planet America'}\n",
      "911 conspiracy debunked 20 {'videoId': 'gGsUUvOXxtY', 'title': 'Roswell: The UFO mystery that still haunts America | Planet America'}\n",
      "flat earth paradise 20 {'videoId': 'gGsUUvOXxtY', 'title': 'Roswell: The UFO mystery that still haunts America | Planet America'}\n",
      "Vaccines calling the shots 20 {'videoId': 'gGsUUvOXxtY', 'title': 'Roswell: The UFO mystery that still haunts America | Planet America'}\n",
      "Vaccines for babies 20 {'videoId': 'gGsUUvOXxtY', 'title': 'Roswell: The UFO mystery that still haunts America | Planet America'}\n",
      "Vaccines 20 {'videoId': 'gGsUUvOXxtY', 'title': 'Roswell: The UFO mystery that still haunts America | Planet America'}\n",
      "moon landing audio 20 {'videoId': 'gGsUUvOXxtY', 'title': 'Roswell: The UFO mystery that still haunts America | Planet America'}\n",
      "911 calls from plane 20 {'videoId': 'gGsUUvOXxtY', 'title': 'Roswell: The UFO mystery that still haunts America | Planet America'}\n",
      "911 inside job 20 {'videoId': 'gGsUUvOXxtY', 'title': 'Roswell: The UFO mystery that still haunts America | Planet America'}\n",
      "is the earth flat 20 {'videoId': 'gGsUUvOXxtY', 'title': 'Roswell: The UFO mystery that still haunts America | Planet America'}\n",
      "moon landing conspiracy 20 {'videoId': 'gGsUUvOXxtY', 'title': 'Roswell: The UFO mystery that still haunts America | Planet America'}\n",
      "conspiracy theories 20 {'videoId': 'gGsUUvOXxtY', 'title': 'Roswell: The UFO mystery that still haunts America | Planet America'}\n",
      "moon landing steph curry 20 {'videoId': 'gGsUUvOXxtY', 'title': 'Roswell: The UFO mystery that still haunts America | Planet America'}\n",
      "911 conspiracy theory shawn dawson 20 {'videoId': 'gGsUUvOXxtY', 'title': 'Roswell: The UFO mystery that still haunts America | Planet America'}\n",
      "911 tribute 20 {'videoId': 'gGsUUvOXxtY', 'title': 'Roswell: The UFO mystery that still haunts America | Planet America'}\n",
      "flat earth 20 {'videoId': 'gGsUUvOXxtY', 'title': 'Roswell: The UFO mystery that still haunts America | Planet America'}\n",
      "Chemtrail 20 {'videoId': 'gGsUUvOXxtY', 'title': 'Roswell: The UFO mystery that still haunts America | Planet America'}\n",
      "chemtrails exposed 20 {'videoId': 'gGsUUvOXxtY', 'title': 'Roswell: The UFO mystery that still haunts America | Planet America'}\n",
      "anti vaccination 20 {'videoId': 'gGsUUvOXxtY', 'title': 'Roswell: The UFO mystery that still haunts America | Planet America'}\n",
      "chemtrail pilot speaks out 20 {'videoId': 'gGsUUvOXxtY', 'title': 'Roswell: The UFO mystery that still haunts America | Planet America'}\n",
      "chemtrail pilot 20 {'videoId': 'gGsUUvOXxtY', 'title': 'Roswell: The UFO mystery that still haunts America | Planet America'}\n",
      "conspiracy theories 911 20 {'videoId': 'gGsUUvOXxtY', 'title': 'Roswell: The UFO mystery that still haunts America | Planet America'}\n",
      "anti vax 20 {'videoId': 'gGsUUvOXxtY', 'title': 'Roswell: The UFO mystery that still haunts America | Planet America'}\n",
      "moon 20 {'videoId': 'gGsUUvOXxtY', 'title': 'Roswell: The UFO mystery that still haunts America | Planet America'}\n",
      "911 conspiracy 20 {'videoId': 'gGsUUvOXxtY', 'title': 'Roswell: The UFO mystery that still haunts America | Planet America'}\n",
      "vaccine debate 20 {'videoId': 'gGsUUvOXxtY', 'title': 'Roswell: The UFO mystery that still haunts America | Planet America'}\n",
      "moon landing china 20 {'videoId': 'gGsUUvOXxtY', 'title': 'Roswell: The UFO mystery that still haunts America | Planet America'}\n",
      "vaccines penn and teller 20 {'videoId': 'gGsUUvOXxtY', 'title': 'Roswell: The UFO mystery that still haunts America | Planet America'}\n",
      "moon landing song 20 {'videoId': 'gGsUUvOXxtY', 'title': 'Roswell: The UFO mystery that still haunts America | Planet America'}\n",
      "flat earth proof 20 {'videoId': 'gGsUUvOXxtY', 'title': 'Roswell: The UFO mystery that still haunts America | Planet America'}\n",
      "anti vaxxers 20 {'videoId': 'gGsUUvOXxtY', 'title': 'Roswell: The UFO mystery that still haunts America | Planet America'}\n",
      "chemtrail documentary 20 {'videoId': 'gGsUUvOXxtY', 'title': 'Roswell: The UFO mystery that still haunts America | Planet America'}\n",
      "Vaccines revealed 20 {'videoId': 'gGsUUvOXxtY', 'title': 'Roswell: The UFO mystery that still haunts America | Planet America'}\n"
     ]
    }
   ],
   "source": [
    "files_audit = os.listdir('SERPS-audit') \n",
    "files_audit = [m for m in files_audit if not m.startswith('.')]\n",
    "\n",
    "queriesWithVideos_audit = {}\n",
    "for m in files_audit:\n",
    "    query_audit = m.split('.html')[0]\n",
    "    result_audit =  extractVideosFromSERP(os.path.join('SERPS-audit', m))\n",
    "    queriesWithVideos_audit[query_audit] = extractVideosFromSERP(os.path.join('SERPS-audit', m))\n",
    "\n",
    "# Print query, total number of videos, and the first video info\n",
    "for query_audit in queriesWithVideos_audit:\n",
    "    print(query_audit, len(queriesWithVideos_audit[query_audit]), queriesWithVideos_audit[query_audit][0])"
   ]
  },
  {
   "cell_type": "markdown",
   "metadata": {},
   "source": [
    "**Save results**\n",
    "\n",
    "It's good to save these results for future reference, and also to avoid running the above code."
   ]
  },
  {
   "cell_type": "code",
   "execution_count": 30,
   "metadata": {},
   "outputs": [],
   "source": [
    "with open('SERP-crowd-videos-list.json', 'w') as outputF:\n",
    "    json.dump(queriesWithVideos, outputF)"
   ]
  },
  {
   "cell_type": "code",
   "execution_count": 89,
   "metadata": {},
   "outputs": [],
   "source": [
    "with open('SERP-audit-videos-list.json', 'w') as outputM:\n",
    "    json.dump(queriesWithVideos_audit, outputM)"
   ]
  },
  {
   "cell_type": "markdown",
   "metadata": {},
   "source": [
    "### Gather some Watch pages to test IP extraction\n",
    "\n",
    "To test the code I wrote for extracting IP info, I need to retrieve some Watch pages first.\n",
    "I will do it for the \"flat earth proof\" videos, since I know that many of those videos have IPs.\n",
    "\n",
    "**Note:** In the current folder, I have a subfolder Watch-crowd to store the videos I'm collecting below."
   ]
  },
  {
   "cell_type": "markdown",
   "metadata": {},
   "source": [
    "### Extract for crowd file"
   ]
  },
  {
   "cell_type": "code",
   "execution_count": 68,
   "metadata": {},
   "outputs": [],
   "source": [
    "#get watch pages for all the queries in crowd\n",
    "for i in queries:\n",
    "    VL_crowd = queriesWithVideos[i]\n",
    "    for video in VL_crowd:\n",
    "        videoId = video['videoId']\n",
    "        url = 'https://www.youtube.com/watch?v=' + videoId\n",
    "        respose = requests.get(url)\n",
    "        if response.status_code == 200:\n",
    "            text = response.text\n",
    "            with open(os.path.join(fldPath_crowd, \"{}.html\".format(videoId)), 'w') as outputF:\n",
    "                outputF.write(text)    \n",
    "        fldPath_crowd = 'Watch-crowd-1' # folder to store the files"
   ]
  },
  {
   "cell_type": "markdown",
   "metadata": {},
   "source": [
    "### Extract for audit file"
   ]
  },
  {
   "cell_type": "code",
   "execution_count": 133,
   "metadata": {},
   "outputs": [],
   "source": [
    "#get watch pages for all the queries in crowd\n",
    "for i in queries_audit:\n",
    "    VL_audit = queriesWithVideos_audit[i]\n",
    "    for video in VL_audit:\n",
    "        videoId = video['videoId']\n",
    "        url = 'https://www.youtube.com/watch?v=' + videoId\n",
    "        response_audit = requests.get(url)\n",
    "        if response_audit.status_code == 200:\n",
    "            text_audit = response_audit.text\n",
    "            with open(os.path.join(fldPath_audit, \"{}.html\".format(videoId)), 'w') as outputM:\n",
    "                outputM.write(text_audit)\n",
    "        fldPath_audit = 'Watch-audit-1' # folder to store the files"
   ]
  },
  {
   "cell_type": "code",
   "execution_count": 117,
   "metadata": {},
   "outputs": [
    {
     "data": {
      "text/plain": [
       "49"
      ]
     },
     "execution_count": 117,
     "metadata": {},
     "output_type": "execute_result"
    }
   ],
   "source": [
    "len(queries_audit)"
   ]
  },
  {
   "cell_type": "markdown",
   "metadata": {},
   "source": [
    "## Extract for a specific query and test it out "
   ]
  },
  {
   "cell_type": "code",
   "execution_count": 36,
   "metadata": {},
   "outputs": [],
   "source": [
    "flatEarthVL = queriesWithVideos['flat earth proof']\n",
    "fldPath = 'Watch-crowd' # folder to store the files"
   ]
  },
  {
   "cell_type": "code",
   "execution_count": 37,
   "metadata": {},
   "outputs": [],
   "source": [
    "#flat earth crowd\n",
    "for video in flatEarthVL:\n",
    "    videoId = video['videoId']\n",
    "    url = 'https://www.youtube.com/watch?v=' + videoId\n",
    "    response = requests.get(url)\n",
    "    if response.status_code == 200:\n",
    "        text = response.text\n",
    "        with open(os.path.join(fldPath, \"{}.html\".format(videoId)), 'w') as outputF:\n",
    "            outputF.write(text)"
   ]
  },
  {
   "cell_type": "code",
   "execution_count": 128,
   "metadata": {},
   "outputs": [],
   "source": [
    "flatEarthVL_audit = queriesWithVideos_audit['flat earth proof']\n",
    "fldPath_audit1 = 'Watch-crowd-audit' # folder to store the files"
   ]
  },
  {
   "cell_type": "code",
   "execution_count": 129,
   "metadata": {},
   "outputs": [],
   "source": [
    "#flat earth audit\n",
    "for video in flatEarthVL_audit:\n",
    "    videoId = video['videoId']\n",
    "    url = 'https://www.youtube.com/watch?v=' + videoId\n",
    "    response_audit = requests.get(url)\n",
    "    if response_audit.status_code == 200:\n",
    "        text_audit = response_audit.text\n",
    "        with open(os.path.join(fldPath_audit1, \"{}.html\".format(videoId)), 'w') as outputM:\n",
    "            outputM.write(text_audit)"
   ]
  },
  {
   "cell_type": "markdown",
   "metadata": {},
   "source": [
    "If I check the Watch-crowd folder, I can see the files stored there."
   ]
  },
  {
   "cell_type": "markdown",
   "metadata": {},
   "source": [
    "### Check Watch pages for IP and extract it if present"
   ]
  },
  {
   "cell_type": "code",
   "execution_count": 71,
   "metadata": {},
   "outputs": [
    {
     "data": {
      "text/plain": [
       "1138"
      ]
     },
     "execution_count": 71,
     "metadata": {},
     "output_type": "execute_result"
    }
   ],
   "source": [
    "files = os.listdir(fldPath_crowd)\n",
    "\n",
    "watchPagesIPdict = {} # store the IP information here\n",
    "\n",
    "# call the function extractIP on every video\n",
    "for f in files:\n",
    "    vId = f.split('.html')[0]\n",
    "    filePath = os.path.join(fldPath_crowd, f)\n",
    "    watchPagesIPdict[vId] = extractIP(filePath, 'Watch')\n",
    "    \n",
    "\n",
    "# how many videos have a non-empty IP dict?\n",
    "withIPs = [vId for vId in watchPagesIPdict if watchPagesIPdict[vId]]\n",
    "len(withIPs)"
   ]
  },
  {
   "cell_type": "code",
   "execution_count": 119,
   "metadata": {},
   "outputs": [
    {
     "data": {
      "text/plain": [
       "5"
      ]
     },
     "execution_count": 119,
     "metadata": {},
     "output_type": "execute_result"
    }
   ],
   "source": [
    "files_audit = os.listdir(fldPath_audit1)\n",
    "\n",
    "watchPagesIPdict_audit = {} # store the IP information here\n",
    "\n",
    "# call the function extractIP on every video\n",
    "for m in files_audit:\n",
    "    vId_audit = m.split('.html')[0]\n",
    "    filePath_audit = os.path.join(fldPath_audit1, m)\n",
    "    watchPagesIPdict_audit[vId_audit] = extractIP(filePath_audit, 'Watch')\n",
    "    \n",
    "\n",
    "# how many videos have a non-empty IP dict?\n",
    "withIPs_audit = [vId_audit for vId_audit in watchPagesIPdict_audit if watchPagesIPdict_audit[vId_audit]]\n",
    "len(withIPs_audit)"
   ]
  },
  {
   "cell_type": "markdown",
   "metadata": {},
   "source": [
    "What is stored in one dictionary?"
   ]
  },
  {
   "cell_type": "code",
   "execution_count": 80,
   "metadata": {},
   "outputs": [
    {
     "data": {
      "text/plain": [
       "dict_keys(['1waEzUA5Mek', 'gGsUUvOXxtY', 'odUSnDgU-oo', 'EWZWVEkqVS8', 'CtrR84jboT4', 'o1RS7D_szJo', '9-8xTPilki4', 'lD3gETJeCkg', 'Qnym-ZcckYM', 'foJWblpzEjA', 'MSkTLwqBA3w', 'w8ikEOair-Q', 'Tim1rqGsUxc', 'lvimRsH1O_4', '1lDx1tx0tSI', '7OW74On3sAU', 'FqB0BKOdm_E', 'DH4UskC7WQA', 'dzv6nRpMX24', 'tF4m8SuX5Gc'])"
      ]
     },
     "execution_count": 80,
     "metadata": {},
     "output_type": "execute_result"
    }
   ],
   "source": [
    "watchPagesIPdict_audit.keys()"
   ]
  },
  {
   "cell_type": "code",
   "execution_count": 126,
   "metadata": {},
   "outputs": [
    {
     "data": {
      "text/plain": [
       "1138"
      ]
     },
     "execution_count": 126,
     "metadata": {},
     "output_type": "execute_result"
    }
   ],
   "source": [
    "len(watchPagesIPdict)"
   ]
  },
  {
   "cell_type": "code",
   "execution_count": 43,
   "metadata": {},
   "outputs": [
    {
     "data": {
      "text/plain": [
       "{'title': 'Area 51',\n",
       " 'source': 'Encyclopedia Britannica',\n",
       " 'url': 'https://www.britannica.com/place/Area-51',\n",
       " 'text': 'Area 51, secret U.S. Air Force military installation located at Groom Lake in southern Nevada. It is administered by Edwards Air Force Base in southern California. The installation has been the focus of numerous conspiracies involving extraterrestrial life, though its only confirmed use is as a flight testing facility. For years there was speculation about the installation, especially amid growing reports of UFO sightings in the vicinity. The site became known as Area 51, which was its designation on maps of the Atomic Energy Commission. Conspiracy theories gained support in the late 1980s, when a man alleging to have worked at the installation claimed that the government was examining recovered alien spacecraft.'}"
      ]
     },
     "execution_count": 43,
     "metadata": {},
     "output_type": "execute_result"
    }
   ],
   "source": [
    "watchPagesIPdict_audit[withIPs_audit[6]]"
   ]
  },
  {
   "cell_type": "markdown",
   "metadata": {},
   "source": [
    "### Combine information to create a dataframe\n",
    "\n",
    "The cell below only shows how to create the dataframe for a single query. When you have a folder that has the Watch files for all the queries, you can use this code within a for loop that iterates over all query names. Then, you can create a larger dataframe with information about all videos."
   ]
  },
  {
   "cell_type": "code",
   "execution_count": 44,
   "metadata": {},
   "outputs": [],
   "source": [
    "queryName = 'flat earth proof'\n",
    "\n",
    "ipTitle = queriesWithIPs.get(queryName, {}).get('title','') # the title of the IP panel, if there is one for the query\n",
    "\n",
    "\n",
    "dataForDF = []\n",
    "for videoDct in queriesWithVideos[queryName]:\n",
    "    # update videoDct with info about the SERP IP\n",
    "    videoDct.update({'query': queryName, \n",
    "                     'IPTitleSERP': ipTitle, \n",
    "                     'hasSERP_IP': (ipTitle != '') # generate a boolean value if it has an IP title\n",
    "                    }) \n",
    "    \n",
    "    # update videoDct with info about the Watch IP\n",
    "    videoIP = watchPagesIPdict[videoDct['videoId']]\n",
    "    \n",
    "    ipTitleWatch = videoIP.get('title', '')\n",
    "    videoDct.update({'IPTitleWatch': ipTitleWatch,\n",
    "                    'hasWatch_IP': (ipTitleWatch != '')})\n",
    "    \n",
    "    dataForDF.append(videoDct)"
   ]
  },
  {
   "cell_type": "code",
   "execution_count": 122,
   "metadata": {},
   "outputs": [],
   "source": [
    "dataForDF1 = []\n",
    "\n",
    "#ipTitle = queriesWithIPs.get(queryName, {}).get('title','') # the title of the IP panel, if there is one for the query\n",
    "\n",
    "for queryName in queries:\n",
    "    #ipTitle = queriesWithIPs.get(queryName, {}).get('title','') \n",
    "    for videoDct in queriesWithVideos[queryName]:\n",
    "        ipTitle = queriesWithIPs.get(queryName, {}).get('title','')\n",
    "        # update videoDct with info about the SERP IP\n",
    "        videoDct.update({'query': queryName, \n",
    "                            'IPTitleSERP': ipTitle, \n",
    "                            'hasSERP_IP': (ipTitle != '') # generate a boolean value if it has an IP title\n",
    "                            }) \n",
    "        dataForDF1.append(videoDct)\n",
    "        # update videoDct with info about the Watch IP\n",
    "        videoIP = watchPagesIPdict[videoDct['videoId']]\n",
    "    \n",
    "        ipTitleWatch = videoIP.get('title', '')\n",
    "        videoDct.update({'IPTitleWatch': ipTitleWatch,\n",
    "                        'hasWatch_IP': (ipTitleWatch != '')})\n",
    "    #.unique()\n",
    "         "
   ]
  },
  {
   "cell_type": "code",
   "execution_count": 137,
   "metadata": {},
   "outputs": [],
   "source": [
    "#watchPagesIPdict.keys()"
   ]
  },
  {
   "cell_type": "markdown",
   "metadata": {},
   "source": [
    "Let's check one entry:"
   ]
  },
  {
   "cell_type": "code",
   "execution_count": 98,
   "metadata": {},
   "outputs": [
    {
     "data": {
      "text/plain": [
       "{'videoId': 'e5ACN9iF8Jw',\n",
       " 'title': '5 Facts That Prove The Earth Is Flat',\n",
       " 'query': 'flat earth proof',\n",
       " 'IPTitleSERP': 'Flat Earth',\n",
       " 'hasSERP_IP': True,\n",
       " 'IPTitleWatch': 'Flat Earth',\n",
       " 'hasWatch_IP': True}"
      ]
     },
     "execution_count": 98,
     "metadata": {},
     "output_type": "execute_result"
    }
   ],
   "source": [
    "dataForDF[0]"
   ]
  },
  {
   "cell_type": "markdown",
   "metadata": {},
   "source": [
    "We can now use this list of dictionaries to create a dataframe in pandas:"
   ]
  },
  {
   "cell_type": "code",
   "execution_count": 47,
   "metadata": {},
   "outputs": [],
   "source": [
    "import pandas as pd"
   ]
  },
  {
   "cell_type": "code",
   "execution_count": 123,
   "metadata": {},
   "outputs": [
    {
     "data": {
      "text/html": [
       "<div>\n",
       "<style scoped>\n",
       "    .dataframe tbody tr th:only-of-type {\n",
       "        vertical-align: middle;\n",
       "    }\n",
       "\n",
       "    .dataframe tbody tr th {\n",
       "        vertical-align: top;\n",
       "    }\n",
       "\n",
       "    .dataframe thead th {\n",
       "        text-align: right;\n",
       "    }\n",
       "</style>\n",
       "<table border=\"1\" class=\"dataframe\">\n",
       "  <thead>\n",
       "    <tr style=\"text-align: right;\">\n",
       "      <th></th>\n",
       "      <th>videoId</th>\n",
       "      <th>title</th>\n",
       "      <th>query</th>\n",
       "      <th>IPTitleSERP</th>\n",
       "      <th>hasSERP_IP</th>\n",
       "      <th>IPTitleWatch</th>\n",
       "      <th>hasWatch_IP</th>\n",
       "    </tr>\n",
       "  </thead>\n",
       "  <tbody>\n",
       "    <tr>\n",
       "      <th>0</th>\n",
       "      <td>e5ACN9iF8Jw</td>\n",
       "      <td>5 Facts That Prove The Earth Is Flat</td>\n",
       "      <td>flat earth proof</td>\n",
       "      <td>Flat Earth</td>\n",
       "      <td>True</td>\n",
       "      <td>Flat Earth</td>\n",
       "      <td>True</td>\n",
       "    </tr>\n",
       "    <tr>\n",
       "      <th>1</th>\n",
       "      <td>06bvdFK3vVU</td>\n",
       "      <td>Flat Earth vs. Round Earth | Explorer</td>\n",
       "      <td>flat earth proof</td>\n",
       "      <td>Flat Earth</td>\n",
       "      <td>True</td>\n",
       "      <td>Flat Earth</td>\n",
       "      <td>True</td>\n",
       "    </tr>\n",
       "    <tr>\n",
       "      <th>2</th>\n",
       "      <td>su-fmoZUkF8</td>\n",
       "      <td>Destroying Flat Earth Without Using Science - ...</td>\n",
       "      <td>flat earth proof</td>\n",
       "      <td>Flat Earth</td>\n",
       "      <td>True</td>\n",
       "      <td>Flat Earth</td>\n",
       "      <td>True</td>\n",
       "    </tr>\n",
       "    <tr>\n",
       "      <th>3</th>\n",
       "      <td>1gHbwT_R9t0</td>\n",
       "      <td>Inside a Flat Earth convention, where nearly e...</td>\n",
       "      <td>flat earth proof</td>\n",
       "      <td>Flat Earth</td>\n",
       "      <td>True</td>\n",
       "      <td>Flat Earth</td>\n",
       "      <td>True</td>\n",
       "    </tr>\n",
       "    <tr>\n",
       "      <th>4</th>\n",
       "      <td>thxbiR-XfJo</td>\n",
       "      <td>An Astronomer Responds To Flat Earth Theory</td>\n",
       "      <td>flat earth proof</td>\n",
       "      <td>Flat Earth</td>\n",
       "      <td>True</td>\n",
       "      <td>Flat Earth</td>\n",
       "      <td>True</td>\n",
       "    </tr>\n",
       "    <tr>\n",
       "      <th>...</th>\n",
       "      <td>...</td>\n",
       "      <td>...</td>\n",
       "      <td>...</td>\n",
       "      <td>...</td>\n",
       "      <td>...</td>\n",
       "      <td>...</td>\n",
       "      <td>...</td>\n",
       "    </tr>\n",
       "    <tr>\n",
       "      <th>445</th>\n",
       "      <td>yqgMECkW3Ak</td>\n",
       "      <td>Donald Trump Believes Climate Change Is A Hoax...</td>\n",
       "      <td>climate change fake</td>\n",
       "      <td>Climate change</td>\n",
       "      <td>True</td>\n",
       "      <td>Flat Earth</td>\n",
       "      <td>True</td>\n",
       "    </tr>\n",
       "    <tr>\n",
       "      <th>446</th>\n",
       "      <td>UmIJCGQzCiU</td>\n",
       "      <td>Conversation with global warming skeptic Antho...</td>\n",
       "      <td>climate change fake</td>\n",
       "      <td>Climate change</td>\n",
       "      <td>True</td>\n",
       "      <td>Flat Earth</td>\n",
       "      <td>True</td>\n",
       "    </tr>\n",
       "    <tr>\n",
       "      <th>447</th>\n",
       "      <td>y2euBvdP28c</td>\n",
       "      <td>Why People Don't Believe In Climate Science</td>\n",
       "      <td>climate change fake</td>\n",
       "      <td>Climate change</td>\n",
       "      <td>True</td>\n",
       "      <td>Flat Earth</td>\n",
       "      <td>True</td>\n",
       "    </tr>\n",
       "    <tr>\n",
       "      <th>448</th>\n",
       "      <td>f1rxv1yPQrc</td>\n",
       "      <td>Why Climate Change Denial Still Exists In The ...</td>\n",
       "      <td>climate change fake</td>\n",
       "      <td>Climate change</td>\n",
       "      <td>True</td>\n",
       "      <td>Flat Earth</td>\n",
       "      <td>True</td>\n",
       "    </tr>\n",
       "    <tr>\n",
       "      <th>449</th>\n",
       "      <td>Kyhks-jjma8</td>\n",
       "      <td>Why Scientific Truth Is Not Working for Climat...</td>\n",
       "      <td>climate change fake</td>\n",
       "      <td>Climate change</td>\n",
       "      <td>True</td>\n",
       "      <td>Flat Earth</td>\n",
       "      <td>True</td>\n",
       "    </tr>\n",
       "  </tbody>\n",
       "</table>\n",
       "<p>450 rows × 7 columns</p>\n",
       "</div>"
      ],
      "text/plain": [
       "         videoId                                              title  \\\n",
       "0    e5ACN9iF8Jw               5 Facts That Prove The Earth Is Flat   \n",
       "1    06bvdFK3vVU              Flat Earth vs. Round Earth | Explorer   \n",
       "2    su-fmoZUkF8  Destroying Flat Earth Without Using Science - ...   \n",
       "3    1gHbwT_R9t0  Inside a Flat Earth convention, where nearly e...   \n",
       "4    thxbiR-XfJo        An Astronomer Responds To Flat Earth Theory   \n",
       "..           ...                                                ...   \n",
       "445  yqgMECkW3Ak  Donald Trump Believes Climate Change Is A Hoax...   \n",
       "446  UmIJCGQzCiU  Conversation with global warming skeptic Antho...   \n",
       "447  y2euBvdP28c        Why People Don't Believe In Climate Science   \n",
       "448  f1rxv1yPQrc  Why Climate Change Denial Still Exists In The ...   \n",
       "449  Kyhks-jjma8  Why Scientific Truth Is Not Working for Climat...   \n",
       "\n",
       "                   query     IPTitleSERP  hasSERP_IP IPTitleWatch  hasWatch_IP  \n",
       "0       flat earth proof      Flat Earth        True   Flat Earth         True  \n",
       "1       flat earth proof      Flat Earth        True   Flat Earth         True  \n",
       "2       flat earth proof      Flat Earth        True   Flat Earth         True  \n",
       "3       flat earth proof      Flat Earth        True   Flat Earth         True  \n",
       "4       flat earth proof      Flat Earth        True   Flat Earth         True  \n",
       "..                   ...             ...         ...          ...          ...  \n",
       "445  climate change fake  Climate change        True   Flat Earth         True  \n",
       "446  climate change fake  Climate change        True   Flat Earth         True  \n",
       "447  climate change fake  Climate change        True   Flat Earth         True  \n",
       "448  climate change fake  Climate change        True   Flat Earth         True  \n",
       "449  climate change fake  Climate change        True   Flat Earth         True  \n",
       "\n",
       "[450 rows x 7 columns]"
      ]
     },
     "execution_count": 123,
     "metadata": {},
     "output_type": "execute_result"
    }
   ],
   "source": [
    "df1 = pd.DataFrame(dataForDF1)\n",
    "df1.head(450)"
   ]
  },
  {
   "cell_type": "code",
   "execution_count": 135,
   "metadata": {},
   "outputs": [],
   "source": [
    "df1.to_csv('Crowd-all_queries.csv')"
   ]
  },
  {
   "cell_type": "code",
   "execution_count": 49,
   "metadata": {
    "scrolled": true
   },
   "outputs": [
    {
     "data": {
      "text/html": [
       "<div>\n",
       "<style scoped>\n",
       "    .dataframe tbody tr th:only-of-type {\n",
       "        vertical-align: middle;\n",
       "    }\n",
       "\n",
       "    .dataframe tbody tr th {\n",
       "        vertical-align: top;\n",
       "    }\n",
       "\n",
       "    .dataframe thead th {\n",
       "        text-align: right;\n",
       "    }\n",
       "</style>\n",
       "<table border=\"1\" class=\"dataframe\">\n",
       "  <thead>\n",
       "    <tr style=\"text-align: right;\">\n",
       "      <th></th>\n",
       "      <th>videoId</th>\n",
       "      <th>title</th>\n",
       "      <th>query</th>\n",
       "      <th>IPTitleSERP</th>\n",
       "      <th>hasSERP_IP</th>\n",
       "      <th>IPTitleWatch</th>\n",
       "      <th>hasWatch_IP</th>\n",
       "    </tr>\n",
       "  </thead>\n",
       "  <tbody>\n",
       "    <tr>\n",
       "      <th>0</th>\n",
       "      <td>e5ACN9iF8Jw</td>\n",
       "      <td>5 Facts That Prove The Earth Is Flat</td>\n",
       "      <td>flat earth proof</td>\n",
       "      <td>Flat Earth</td>\n",
       "      <td>True</td>\n",
       "      <td>Flat Earth</td>\n",
       "      <td>True</td>\n",
       "    </tr>\n",
       "    <tr>\n",
       "      <th>1</th>\n",
       "      <td>06bvdFK3vVU</td>\n",
       "      <td>Flat Earth vs. Round Earth | Explorer</td>\n",
       "      <td>flat earth proof</td>\n",
       "      <td>Flat Earth</td>\n",
       "      <td>True</td>\n",
       "      <td>Flat Earth</td>\n",
       "      <td>True</td>\n",
       "    </tr>\n",
       "    <tr>\n",
       "      <th>2</th>\n",
       "      <td>su-fmoZUkF8</td>\n",
       "      <td>Destroying Flat Earth Without Using Science - ...</td>\n",
       "      <td>flat earth proof</td>\n",
       "      <td>Flat Earth</td>\n",
       "      <td>True</td>\n",
       "      <td>Flat Earth</td>\n",
       "      <td>True</td>\n",
       "    </tr>\n",
       "    <tr>\n",
       "      <th>3</th>\n",
       "      <td>1gHbwT_R9t0</td>\n",
       "      <td>Inside a Flat Earth convention, where nearly e...</td>\n",
       "      <td>flat earth proof</td>\n",
       "      <td>Flat Earth</td>\n",
       "      <td>True</td>\n",
       "      <td>Flat Earth</td>\n",
       "      <td>True</td>\n",
       "    </tr>\n",
       "    <tr>\n",
       "      <th>4</th>\n",
       "      <td>thxbiR-XfJo</td>\n",
       "      <td>An Astronomer Responds To Flat Earth Theory</td>\n",
       "      <td>flat earth proof</td>\n",
       "      <td>Flat Earth</td>\n",
       "      <td>True</td>\n",
       "      <td>Flat Earth</td>\n",
       "      <td>True</td>\n",
       "    </tr>\n",
       "    <tr>\n",
       "      <th>5</th>\n",
       "      <td>iwku5Alsi04</td>\n",
       "      <td>Man launches himself in self-made rocket to pr...</td>\n",
       "      <td>flat earth proof</td>\n",
       "      <td>Flat Earth</td>\n",
       "      <td>True</td>\n",
       "      <td>Flat Earth</td>\n",
       "      <td>True</td>\n",
       "    </tr>\n",
       "    <tr>\n",
       "      <th>6</th>\n",
       "      <td>xM9S4QiEHEY</td>\n",
       "      <td>Proving The Earth Is Flat!</td>\n",
       "      <td>flat earth proof</td>\n",
       "      <td>Flat Earth</td>\n",
       "      <td>True</td>\n",
       "      <td>Flat Earth</td>\n",
       "      <td>True</td>\n",
       "    </tr>\n",
       "    <tr>\n",
       "      <th>7</th>\n",
       "      <td>8HYMb3MgQRg</td>\n",
       "      <td>3 scientists school flat Earthers on the evide...</td>\n",
       "      <td>flat earth proof</td>\n",
       "      <td>Flat Earth</td>\n",
       "      <td>True</td>\n",
       "      <td>Flat Earth</td>\n",
       "      <td>True</td>\n",
       "    </tr>\n",
       "    <tr>\n",
       "      <th>8</th>\n",
       "      <td>Dd-FAyHdpxI</td>\n",
       "      <td>Destroying Flat Earth Without Using Science - ...</td>\n",
       "      <td>flat earth proof</td>\n",
       "      <td>Flat Earth</td>\n",
       "      <td>True</td>\n",
       "      <td>Flat Earth</td>\n",
       "      <td>True</td>\n",
       "    </tr>\n",
       "    <tr>\n",
       "      <th>9</th>\n",
       "      <td>DPRJzNc876A</td>\n",
       "      <td>This Flat Earther Thinks NASA is Lying to You</td>\n",
       "      <td>flat earth proof</td>\n",
       "      <td>Flat Earth</td>\n",
       "      <td>True</td>\n",
       "      <td>Flat Earth</td>\n",
       "      <td>True</td>\n",
       "    </tr>\n",
       "    <tr>\n",
       "      <th>10</th>\n",
       "      <td>CGjFAe018oA</td>\n",
       "      <td>3 proofs that debunk flat-Earth theory | NASA'...</td>\n",
       "      <td>flat earth proof</td>\n",
       "      <td>Flat Earth</td>\n",
       "      <td>True</td>\n",
       "      <td>Flat Earth</td>\n",
       "      <td>True</td>\n",
       "    </tr>\n",
       "    <tr>\n",
       "      <th>11</th>\n",
       "      <td>53vLQnuV9FY</td>\n",
       "      <td>The World is Flat</td>\n",
       "      <td>flat earth proof</td>\n",
       "      <td>Flat Earth</td>\n",
       "      <td>True</td>\n",
       "      <td>Flat Earth</td>\n",
       "      <td>True</td>\n",
       "    </tr>\n",
       "    <tr>\n",
       "      <th>12</th>\n",
       "      <td>UzIKWnZJ29s</td>\n",
       "      <td>B.o.B's Flat Earth Conspiracy Explained (And O...</td>\n",
       "      <td>flat earth proof</td>\n",
       "      <td>Flat Earth</td>\n",
       "      <td>True</td>\n",
       "      <td>Flat Earth</td>\n",
       "      <td>True</td>\n",
       "    </tr>\n",
       "    <tr>\n",
       "      <th>13</th>\n",
       "      <td>umo6pMCkcXs</td>\n",
       "      <td>Flat Earth: What Makes REAL Science? – Wisecra...</td>\n",
       "      <td>flat earth proof</td>\n",
       "      <td>Flat Earth</td>\n",
       "      <td>True</td>\n",
       "      <td>Flat Earth</td>\n",
       "      <td>True</td>\n",
       "    </tr>\n",
       "    <tr>\n",
       "      <th>14</th>\n",
       "      <td>g25bL6qMTRQ</td>\n",
       "      <td>Controversial YouTube star Logan Paul document...</td>\n",
       "      <td>flat earth proof</td>\n",
       "      <td>Flat Earth</td>\n",
       "      <td>True</td>\n",
       "      <td>Flat Earth</td>\n",
       "      <td>True</td>\n",
       "    </tr>\n",
       "    <tr>\n",
       "      <th>15</th>\n",
       "      <td>RywkkwO78m8</td>\n",
       "      <td>Flat Earth PROVEN By Independent Research</td>\n",
       "      <td>flat earth proof</td>\n",
       "      <td>Flat Earth</td>\n",
       "      <td>True</td>\n",
       "      <td>Flat Earth</td>\n",
       "      <td>True</td>\n",
       "    </tr>\n",
       "    <tr>\n",
       "      <th>16</th>\n",
       "      <td>n9bYHwp_xnU</td>\n",
       "      <td>Debunking The 'Flat Earth' Conspiracy Theory |...</td>\n",
       "      <td>flat earth proof</td>\n",
       "      <td>Flat Earth</td>\n",
       "      <td>True</td>\n",
       "      <td>Flat Earth</td>\n",
       "      <td>True</td>\n",
       "    </tr>\n",
       "    <tr>\n",
       "      <th>17</th>\n",
       "      <td>m4kM5zwxThE</td>\n",
       "      <td>Flat Earth rising: meet the people casting asi...</td>\n",
       "      <td>flat earth proof</td>\n",
       "      <td>Flat Earth</td>\n",
       "      <td>True</td>\n",
       "      <td>Flat Earth</td>\n",
       "      <td>True</td>\n",
       "    </tr>\n",
       "    <tr>\n",
       "      <th>18</th>\n",
       "      <td>701uS_hGlk4</td>\n",
       "      <td>Flat earth proof!  *JOKE* - The Barndominium S...</td>\n",
       "      <td>flat earth proof</td>\n",
       "      <td>Flat Earth</td>\n",
       "      <td>True</td>\n",
       "      <td>Flat Earth</td>\n",
       "      <td>True</td>\n",
       "    </tr>\n",
       "    <tr>\n",
       "      <th>19</th>\n",
       "      <td>KyD8VIK032o</td>\n",
       "      <td>The 10 Things That All Flat Earthers Say</td>\n",
       "      <td>flat earth proof</td>\n",
       "      <td>Flat Earth</td>\n",
       "      <td>True</td>\n",
       "      <td>Flat Earth</td>\n",
       "      <td>True</td>\n",
       "    </tr>\n",
       "  </tbody>\n",
       "</table>\n",
       "</div>"
      ],
      "text/plain": [
       "        videoId                                              title  \\\n",
       "0   e5ACN9iF8Jw               5 Facts That Prove The Earth Is Flat   \n",
       "1   06bvdFK3vVU              Flat Earth vs. Round Earth | Explorer   \n",
       "2   su-fmoZUkF8  Destroying Flat Earth Without Using Science - ...   \n",
       "3   1gHbwT_R9t0  Inside a Flat Earth convention, where nearly e...   \n",
       "4   thxbiR-XfJo        An Astronomer Responds To Flat Earth Theory   \n",
       "5   iwku5Alsi04  Man launches himself in self-made rocket to pr...   \n",
       "6   xM9S4QiEHEY                         Proving The Earth Is Flat!   \n",
       "7   8HYMb3MgQRg  3 scientists school flat Earthers on the evide...   \n",
       "8   Dd-FAyHdpxI  Destroying Flat Earth Without Using Science - ...   \n",
       "9   DPRJzNc876A      This Flat Earther Thinks NASA is Lying to You   \n",
       "10  CGjFAe018oA  3 proofs that debunk flat-Earth theory | NASA'...   \n",
       "11  53vLQnuV9FY                                  The World is Flat   \n",
       "12  UzIKWnZJ29s  B.o.B's Flat Earth Conspiracy Explained (And O...   \n",
       "13  umo6pMCkcXs  Flat Earth: What Makes REAL Science? – Wisecra...   \n",
       "14  g25bL6qMTRQ  Controversial YouTube star Logan Paul document...   \n",
       "15  RywkkwO78m8          Flat Earth PROVEN By Independent Research   \n",
       "16  n9bYHwp_xnU  Debunking The 'Flat Earth' Conspiracy Theory |...   \n",
       "17  m4kM5zwxThE  Flat Earth rising: meet the people casting asi...   \n",
       "18  701uS_hGlk4  Flat earth proof!  *JOKE* - The Barndominium S...   \n",
       "19  KyD8VIK032o           The 10 Things That All Flat Earthers Say   \n",
       "\n",
       "               query IPTitleSERP  hasSERP_IP IPTitleWatch  hasWatch_IP  \n",
       "0   flat earth proof  Flat Earth        True   Flat Earth         True  \n",
       "1   flat earth proof  Flat Earth        True   Flat Earth         True  \n",
       "2   flat earth proof  Flat Earth        True   Flat Earth         True  \n",
       "3   flat earth proof  Flat Earth        True   Flat Earth         True  \n",
       "4   flat earth proof  Flat Earth        True   Flat Earth         True  \n",
       "5   flat earth proof  Flat Earth        True   Flat Earth         True  \n",
       "6   flat earth proof  Flat Earth        True   Flat Earth         True  \n",
       "7   flat earth proof  Flat Earth        True   Flat Earth         True  \n",
       "8   flat earth proof  Flat Earth        True   Flat Earth         True  \n",
       "9   flat earth proof  Flat Earth        True   Flat Earth         True  \n",
       "10  flat earth proof  Flat Earth        True   Flat Earth         True  \n",
       "11  flat earth proof  Flat Earth        True   Flat Earth         True  \n",
       "12  flat earth proof  Flat Earth        True   Flat Earth         True  \n",
       "13  flat earth proof  Flat Earth        True   Flat Earth         True  \n",
       "14  flat earth proof  Flat Earth        True   Flat Earth         True  \n",
       "15  flat earth proof  Flat Earth        True   Flat Earth         True  \n",
       "16  flat earth proof  Flat Earth        True   Flat Earth         True  \n",
       "17  flat earth proof  Flat Earth        True   Flat Earth         True  \n",
       "18  flat earth proof  Flat Earth        True   Flat Earth         True  \n",
       "19  flat earth proof  Flat Earth        True   Flat Earth         True  "
      ]
     },
     "execution_count": 49,
     "metadata": {},
     "output_type": "execute_result"
    }
   ],
   "source": [
    "df = pd.DataFrame(dataForDF)\n",
    "df"
   ]
  },
  {
   "cell_type": "code",
   "execution_count": 50,
   "metadata": {},
   "outputs": [
    {
     "data": {
      "text/plain": [
       "{'videoId': '06bvdFK3vVU',\n",
       " 'title': 'Flat Earth vs. Round Earth | Explorer',\n",
       " 'query': 'flat earth proof',\n",
       " 'IPTitleSERP': 'Flat Earth',\n",
       " 'hasSERP_IP': True,\n",
       " 'IPTitleWatch': 'Flat Earth',\n",
       " 'hasWatch_IP': True}"
      ]
     },
     "execution_count": 50,
     "metadata": {},
     "output_type": "execute_result"
    }
   ],
   "source": [
    "dataForDF[1]"
   ]
  },
  {
   "cell_type": "code",
   "execution_count": 51,
   "metadata": {},
   "outputs": [],
   "source": [
    "queryName = 'chemtrail pilot'\n",
    "\n",
    "ipTitle = queriesWithIPs.get(queryName, {}).get('title','') # the title of the IP panel, if there is one for the query\n",
    "\n",
    "\n",
    "dataForDF_audit = []\n",
    "for videoDct in queriesWithVideos_audit[queryName]:\n",
    "    # update videoDct with info about the SERP IP\n",
    "    videoDct.update({'query': queryName, \n",
    "                     'IPTitleSERP': ipTitle, \n",
    "                     'hasSERP_IP': (ipTitle != '') # generate a boolean value if it has an IP title\n",
    "                    }) \n",
    "    \n",
    "    # update videoDct with info about the Watch IP\n",
    "    videoIP = watchPagesIPdict_audit[videoDct['videoId']]\n",
    "    \n",
    "    ipTitleWatch = videoIP.get('title', '')\n",
    "    videoDct.update({'IPTitleWatch': ipTitleWatch,\n",
    "                    'hasWatch_IP': (ipTitleWatch != '')})\n",
    "    \n",
    "    dataForDF_audit.append(videoDct)"
   ]
  },
  {
   "cell_type": "code",
   "execution_count": 52,
   "metadata": {},
   "outputs": [
    {
     "data": {
      "text/html": [
       "<div>\n",
       "<style scoped>\n",
       "    .dataframe tbody tr th:only-of-type {\n",
       "        vertical-align: middle;\n",
       "    }\n",
       "\n",
       "    .dataframe tbody tr th {\n",
       "        vertical-align: top;\n",
       "    }\n",
       "\n",
       "    .dataframe thead th {\n",
       "        text-align: right;\n",
       "    }\n",
       "</style>\n",
       "<table border=\"1\" class=\"dataframe\">\n",
       "  <thead>\n",
       "    <tr style=\"text-align: right;\">\n",
       "      <th></th>\n",
       "      <th>videoId</th>\n",
       "      <th>title</th>\n",
       "      <th>query</th>\n",
       "      <th>IPTitleSERP</th>\n",
       "      <th>hasSERP_IP</th>\n",
       "      <th>IPTitleWatch</th>\n",
       "      <th>hasWatch_IP</th>\n",
       "    </tr>\n",
       "  </thead>\n",
       "  <tbody>\n",
       "    <tr>\n",
       "      <th>0</th>\n",
       "      <td>gGsUUvOXxtY</td>\n",
       "      <td>Roswell: The UFO mystery that still haunts Ame...</td>\n",
       "      <td>chemtrail pilot</td>\n",
       "      <td></td>\n",
       "      <td>False</td>\n",
       "      <td></td>\n",
       "      <td>False</td>\n",
       "    </tr>\n",
       "    <tr>\n",
       "      <th>1</th>\n",
       "      <td>odUSnDgU-oo</td>\n",
       "      <td>The Mysterious Roswell UFO Incident of 1947</td>\n",
       "      <td>chemtrail pilot</td>\n",
       "      <td></td>\n",
       "      <td>False</td>\n",
       "      <td></td>\n",
       "      <td>False</td>\n",
       "    </tr>\n",
       "    <tr>\n",
       "      <th>2</th>\n",
       "      <td>foJWblpzEjA</td>\n",
       "      <td>Ask an Expert: The Roswell Incident</td>\n",
       "      <td>chemtrail pilot</td>\n",
       "      <td></td>\n",
       "      <td>False</td>\n",
       "      <td></td>\n",
       "      <td>False</td>\n",
       "    </tr>\n",
       "    <tr>\n",
       "      <th>3</th>\n",
       "      <td>MSkTLwqBA3w</td>\n",
       "      <td>Unlocking &amp; Debunking The Roswell UFO Mystery ...</td>\n",
       "      <td>chemtrail pilot</td>\n",
       "      <td></td>\n",
       "      <td>False</td>\n",
       "      <td></td>\n",
       "      <td>False</td>\n",
       "    </tr>\n",
       "    <tr>\n",
       "      <th>4</th>\n",
       "      <td>EWZWVEkqVS8</td>\n",
       "      <td>Trump Discusses Declassifying Roswell, Says He...</td>\n",
       "      <td>chemtrail pilot</td>\n",
       "      <td></td>\n",
       "      <td>False</td>\n",
       "      <td></td>\n",
       "      <td>False</td>\n",
       "    </tr>\n",
       "    <tr>\n",
       "      <th>5</th>\n",
       "      <td>Qnym-ZcckYM</td>\n",
       "      <td>History behind supposed UFO crash in Roswell, ...</td>\n",
       "      <td>chemtrail pilot</td>\n",
       "      <td></td>\n",
       "      <td>False</td>\n",
       "      <td></td>\n",
       "      <td>False</td>\n",
       "    </tr>\n",
       "    <tr>\n",
       "      <th>6</th>\n",
       "      <td>o1RS7D_szJo</td>\n",
       "      <td>Roswell's Bizarre UFO Crash</td>\n",
       "      <td>chemtrail pilot</td>\n",
       "      <td></td>\n",
       "      <td>False</td>\n",
       "      <td>Area 51</td>\n",
       "      <td>True</td>\n",
       "    </tr>\n",
       "    <tr>\n",
       "      <th>7</th>\n",
       "      <td>FqB0BKOdm_E</td>\n",
       "      <td>\"Roswell: The First Witness\" on the HISTORY ch...</td>\n",
       "      <td>chemtrail pilot</td>\n",
       "      <td></td>\n",
       "      <td>False</td>\n",
       "      <td></td>\n",
       "      <td>False</td>\n",
       "    </tr>\n",
       "    <tr>\n",
       "      <th>8</th>\n",
       "      <td>9-8xTPilki4</td>\n",
       "      <td>Behind Roswell: America's first UFO conspiracy...</td>\n",
       "      <td>chemtrail pilot</td>\n",
       "      <td></td>\n",
       "      <td>False</td>\n",
       "      <td>Area 51</td>\n",
       "      <td>True</td>\n",
       "    </tr>\n",
       "    <tr>\n",
       "      <th>9</th>\n",
       "      <td>lD3gETJeCkg</td>\n",
       "      <td>UFO Mystery: The 65Th Anniversary Of Roswell |...</td>\n",
       "      <td>chemtrail pilot</td>\n",
       "      <td></td>\n",
       "      <td>False</td>\n",
       "      <td></td>\n",
       "      <td>False</td>\n",
       "    </tr>\n",
       "    <tr>\n",
       "      <th>10</th>\n",
       "      <td>1waEzUA5Mek</td>\n",
       "      <td>ABDUCTED BY ALIENS! (Roswell, New Mexico)</td>\n",
       "      <td>chemtrail pilot</td>\n",
       "      <td></td>\n",
       "      <td>False</td>\n",
       "      <td>Area 51</td>\n",
       "      <td>True</td>\n",
       "    </tr>\n",
       "    <tr>\n",
       "      <th>11</th>\n",
       "      <td>Tim1rqGsUxc</td>\n",
       "      <td>The Roswell UFO Incident | COLOSSAL MYSTERIES</td>\n",
       "      <td>chemtrail pilot</td>\n",
       "      <td></td>\n",
       "      <td>False</td>\n",
       "      <td></td>\n",
       "      <td>False</td>\n",
       "    </tr>\n",
       "    <tr>\n",
       "      <th>12</th>\n",
       "      <td>lvimRsH1O_4</td>\n",
       "      <td>Ancient Aliens: Roswell Debris (Season 11) | H...</td>\n",
       "      <td>chemtrail pilot</td>\n",
       "      <td></td>\n",
       "      <td>False</td>\n",
       "      <td></td>\n",
       "      <td>False</td>\n",
       "    </tr>\n",
       "    <tr>\n",
       "      <th>13</th>\n",
       "      <td>tF4m8SuX5Gc</td>\n",
       "      <td>Roswell crash anniversary sends alien \"believe...</td>\n",
       "      <td>chemtrail pilot</td>\n",
       "      <td></td>\n",
       "      <td>False</td>\n",
       "      <td></td>\n",
       "      <td>False</td>\n",
       "    </tr>\n",
       "    <tr>\n",
       "      <th>14</th>\n",
       "      <td>w8ikEOair-Q</td>\n",
       "      <td>Roswell New Mexico - Alien Extraterrestrial Ov...</td>\n",
       "      <td>chemtrail pilot</td>\n",
       "      <td></td>\n",
       "      <td>False</td>\n",
       "      <td>Area 51</td>\n",
       "      <td>True</td>\n",
       "    </tr>\n",
       "    <tr>\n",
       "      <th>15</th>\n",
       "      <td>1lDx1tx0tSI</td>\n",
       "      <td>6 Things to do in Roswell, New Mexico</td>\n",
       "      <td>chemtrail pilot</td>\n",
       "      <td></td>\n",
       "      <td>False</td>\n",
       "      <td></td>\n",
       "      <td>False</td>\n",
       "    </tr>\n",
       "    <tr>\n",
       "      <th>16</th>\n",
       "      <td>7OW74On3sAU</td>\n",
       "      <td>USA: 50TH ANNIVERSARY OF REPUTED ROSWELL UFO L...</td>\n",
       "      <td>chemtrail pilot</td>\n",
       "      <td></td>\n",
       "      <td>False</td>\n",
       "      <td>Area 51</td>\n",
       "      <td>True</td>\n",
       "    </tr>\n",
       "    <tr>\n",
       "      <th>17</th>\n",
       "      <td>DH4UskC7WQA</td>\n",
       "      <td>The Roswell UFO Report: Fact or Fiction?</td>\n",
       "      <td>chemtrail pilot</td>\n",
       "      <td></td>\n",
       "      <td>False</td>\n",
       "      <td></td>\n",
       "      <td>False</td>\n",
       "    </tr>\n",
       "    <tr>\n",
       "      <th>18</th>\n",
       "      <td>CtrR84jboT4</td>\n",
       "      <td>Video Footage Of An Alien Autopsy Sheds Light ...</td>\n",
       "      <td>chemtrail pilot</td>\n",
       "      <td></td>\n",
       "      <td>False</td>\n",
       "      <td></td>\n",
       "      <td>False</td>\n",
       "    </tr>\n",
       "    <tr>\n",
       "      <th>19</th>\n",
       "      <td>dzv6nRpMX24</td>\n",
       "      <td>Roswell Reports, 03/31/1997</td>\n",
       "      <td>chemtrail pilot</td>\n",
       "      <td></td>\n",
       "      <td>False</td>\n",
       "      <td></td>\n",
       "      <td>False</td>\n",
       "    </tr>\n",
       "  </tbody>\n",
       "</table>\n",
       "</div>"
      ],
      "text/plain": [
       "        videoId                                              title  \\\n",
       "0   gGsUUvOXxtY  Roswell: The UFO mystery that still haunts Ame...   \n",
       "1   odUSnDgU-oo        The Mysterious Roswell UFO Incident of 1947   \n",
       "2   foJWblpzEjA                Ask an Expert: The Roswell Incident   \n",
       "3   MSkTLwqBA3w  Unlocking & Debunking The Roswell UFO Mystery ...   \n",
       "4   EWZWVEkqVS8  Trump Discusses Declassifying Roswell, Says He...   \n",
       "5   Qnym-ZcckYM  History behind supposed UFO crash in Roswell, ...   \n",
       "6   o1RS7D_szJo                        Roswell's Bizarre UFO Crash   \n",
       "7   FqB0BKOdm_E  \"Roswell: The First Witness\" on the HISTORY ch...   \n",
       "8   9-8xTPilki4  Behind Roswell: America's first UFO conspiracy...   \n",
       "9   lD3gETJeCkg  UFO Mystery: The 65Th Anniversary Of Roswell |...   \n",
       "10  1waEzUA5Mek          ABDUCTED BY ALIENS! (Roswell, New Mexico)   \n",
       "11  Tim1rqGsUxc      The Roswell UFO Incident | COLOSSAL MYSTERIES   \n",
       "12  lvimRsH1O_4  Ancient Aliens: Roswell Debris (Season 11) | H...   \n",
       "13  tF4m8SuX5Gc  Roswell crash anniversary sends alien \"believe...   \n",
       "14  w8ikEOair-Q  Roswell New Mexico - Alien Extraterrestrial Ov...   \n",
       "15  1lDx1tx0tSI              6 Things to do in Roswell, New Mexico   \n",
       "16  7OW74On3sAU  USA: 50TH ANNIVERSARY OF REPUTED ROSWELL UFO L...   \n",
       "17  DH4UskC7WQA           The Roswell UFO Report: Fact or Fiction?   \n",
       "18  CtrR84jboT4  Video Footage Of An Alien Autopsy Sheds Light ...   \n",
       "19  dzv6nRpMX24                        Roswell Reports, 03/31/1997   \n",
       "\n",
       "              query IPTitleSERP  hasSERP_IP IPTitleWatch  hasWatch_IP  \n",
       "0   chemtrail pilot                   False                     False  \n",
       "1   chemtrail pilot                   False                     False  \n",
       "2   chemtrail pilot                   False                     False  \n",
       "3   chemtrail pilot                   False                     False  \n",
       "4   chemtrail pilot                   False                     False  \n",
       "5   chemtrail pilot                   False                     False  \n",
       "6   chemtrail pilot                   False      Area 51         True  \n",
       "7   chemtrail pilot                   False                     False  \n",
       "8   chemtrail pilot                   False      Area 51         True  \n",
       "9   chemtrail pilot                   False                     False  \n",
       "10  chemtrail pilot                   False      Area 51         True  \n",
       "11  chemtrail pilot                   False                     False  \n",
       "12  chemtrail pilot                   False                     False  \n",
       "13  chemtrail pilot                   False                     False  \n",
       "14  chemtrail pilot                   False      Area 51         True  \n",
       "15  chemtrail pilot                   False                     False  \n",
       "16  chemtrail pilot                   False      Area 51         True  \n",
       "17  chemtrail pilot                   False                     False  \n",
       "18  chemtrail pilot                   False                     False  \n",
       "19  chemtrail pilot                   False                     False  "
      ]
     },
     "execution_count": 52,
     "metadata": {},
     "output_type": "execute_result"
    }
   ],
   "source": [
    "df2 = pd.DataFrame(dataForDF_audit)\n",
    "df2"
   ]
  },
  {
   "cell_type": "code",
   "execution_count": 124,
   "metadata": {},
   "outputs": [],
   "source": [
    "dataForDF3 = []\n",
    "\n",
    "#ipTitle = queriesWithIPs.get(queryName, {}).get('title','') # the title of the IP panel, if there is one for the query\n",
    "\n",
    "for queryName in queries_audit:\n",
    "    ipTitle = queriesWithIPs_audit.get(queryName, {}).get('title','')\n",
    "    #ipTitle = queriesWithIPs[queryName].get('title','')\n",
    "    for videoDct in queriesWithVideos_audit[queryName]:\n",
    "        # update videoDct with info about the SERP IP\n",
    "        videoDct.update({'query': queryName, \n",
    "                            'IPTitleSERP': ipTitle, \n",
    "                            'hasSERP_IP': (ipTitle != '') # generate a boolean value if it has an IP title\n",
    "                            }) \n",
    "        dataForDF3.append(videoDct)\n",
    "        # update videoDct with info about the Watch IP\n",
    "        videoIP = watchPagesIPdict[videoDct['videoId']]\n",
    "    \n",
    "        ipTitleWatch = videoIP.get('title', '')\n",
    "        videoDct.update({'IPTitleWatch': ipTitleWatch,\n",
    "                        'hasWatch_IP': (ipTitleWatch != '')})\n",
    "    #.unique()\n",
    "         "
   ]
  },
  {
   "cell_type": "code",
   "execution_count": 125,
   "metadata": {},
   "outputs": [
    {
     "data": {
      "text/html": [
       "<div>\n",
       "<style scoped>\n",
       "    .dataframe tbody tr th:only-of-type {\n",
       "        vertical-align: middle;\n",
       "    }\n",
       "\n",
       "    .dataframe tbody tr th {\n",
       "        vertical-align: top;\n",
       "    }\n",
       "\n",
       "    .dataframe thead th {\n",
       "        text-align: right;\n",
       "    }\n",
       "</style>\n",
       "<table border=\"1\" class=\"dataframe\">\n",
       "  <thead>\n",
       "    <tr style=\"text-align: right;\">\n",
       "      <th></th>\n",
       "      <th>videoId</th>\n",
       "      <th>title</th>\n",
       "      <th>query</th>\n",
       "      <th>IPTitleSERP</th>\n",
       "      <th>hasSERP_IP</th>\n",
       "      <th>IPTitleWatch</th>\n",
       "      <th>hasWatch_IP</th>\n",
       "    </tr>\n",
       "  </thead>\n",
       "  <tbody>\n",
       "    <tr>\n",
       "      <th>0</th>\n",
       "      <td>gGsUUvOXxtY</td>\n",
       "      <td>Roswell: The UFO mystery that still haunts Ame...</td>\n",
       "      <td>911</td>\n",
       "      <td></td>\n",
       "      <td>False</td>\n",
       "      <td>Flat Earth</td>\n",
       "      <td>True</td>\n",
       "    </tr>\n",
       "    <tr>\n",
       "      <th>1</th>\n",
       "      <td>odUSnDgU-oo</td>\n",
       "      <td>The Mysterious Roswell UFO Incident of 1947</td>\n",
       "      <td>911</td>\n",
       "      <td></td>\n",
       "      <td>False</td>\n",
       "      <td>Flat Earth</td>\n",
       "      <td>True</td>\n",
       "    </tr>\n",
       "    <tr>\n",
       "      <th>2</th>\n",
       "      <td>foJWblpzEjA</td>\n",
       "      <td>Ask an Expert: The Roswell Incident</td>\n",
       "      <td>911</td>\n",
       "      <td></td>\n",
       "      <td>False</td>\n",
       "      <td>Flat Earth</td>\n",
       "      <td>True</td>\n",
       "    </tr>\n",
       "    <tr>\n",
       "      <th>3</th>\n",
       "      <td>MSkTLwqBA3w</td>\n",
       "      <td>Unlocking &amp; Debunking The Roswell UFO Mystery ...</td>\n",
       "      <td>911</td>\n",
       "      <td></td>\n",
       "      <td>False</td>\n",
       "      <td>Flat Earth</td>\n",
       "      <td>True</td>\n",
       "    </tr>\n",
       "    <tr>\n",
       "      <th>4</th>\n",
       "      <td>EWZWVEkqVS8</td>\n",
       "      <td>Trump Discusses Declassifying Roswell, Says He...</td>\n",
       "      <td>911</td>\n",
       "      <td></td>\n",
       "      <td>False</td>\n",
       "      <td>Flat Earth</td>\n",
       "      <td>True</td>\n",
       "    </tr>\n",
       "    <tr>\n",
       "      <th>...</th>\n",
       "      <td>...</td>\n",
       "      <td>...</td>\n",
       "      <td>...</td>\n",
       "      <td>...</td>\n",
       "      <td>...</td>\n",
       "      <td>...</td>\n",
       "      <td>...</td>\n",
       "    </tr>\n",
       "    <tr>\n",
       "      <th>65</th>\n",
       "      <td>Qnym-ZcckYM</td>\n",
       "      <td>History behind supposed UFO crash in Roswell, ...</td>\n",
       "      <td>911 calls from plane</td>\n",
       "      <td></td>\n",
       "      <td>False</td>\n",
       "      <td>Flat Earth</td>\n",
       "      <td>True</td>\n",
       "    </tr>\n",
       "    <tr>\n",
       "      <th>66</th>\n",
       "      <td>o1RS7D_szJo</td>\n",
       "      <td>Roswell's Bizarre UFO Crash</td>\n",
       "      <td>911 calls from plane</td>\n",
       "      <td></td>\n",
       "      <td>False</td>\n",
       "      <td>Flat Earth</td>\n",
       "      <td>True</td>\n",
       "    </tr>\n",
       "    <tr>\n",
       "      <th>67</th>\n",
       "      <td>FqB0BKOdm_E</td>\n",
       "      <td>\"Roswell: The First Witness\" on the HISTORY ch...</td>\n",
       "      <td>911 calls from plane</td>\n",
       "      <td></td>\n",
       "      <td>False</td>\n",
       "      <td>Flat Earth</td>\n",
       "      <td>True</td>\n",
       "    </tr>\n",
       "    <tr>\n",
       "      <th>68</th>\n",
       "      <td>9-8xTPilki4</td>\n",
       "      <td>Behind Roswell: America's first UFO conspiracy...</td>\n",
       "      <td>911 calls from plane</td>\n",
       "      <td></td>\n",
       "      <td>False</td>\n",
       "      <td>Flat Earth</td>\n",
       "      <td>True</td>\n",
       "    </tr>\n",
       "    <tr>\n",
       "      <th>69</th>\n",
       "      <td>lD3gETJeCkg</td>\n",
       "      <td>UFO Mystery: The 65Th Anniversary Of Roswell |...</td>\n",
       "      <td>911 calls from plane</td>\n",
       "      <td></td>\n",
       "      <td>False</td>\n",
       "      <td>Flat Earth</td>\n",
       "      <td>True</td>\n",
       "    </tr>\n",
       "  </tbody>\n",
       "</table>\n",
       "<p>70 rows × 7 columns</p>\n",
       "</div>"
      ],
      "text/plain": [
       "        videoId                                              title  \\\n",
       "0   gGsUUvOXxtY  Roswell: The UFO mystery that still haunts Ame...   \n",
       "1   odUSnDgU-oo        The Mysterious Roswell UFO Incident of 1947   \n",
       "2   foJWblpzEjA                Ask an Expert: The Roswell Incident   \n",
       "3   MSkTLwqBA3w  Unlocking & Debunking The Roswell UFO Mystery ...   \n",
       "4   EWZWVEkqVS8  Trump Discusses Declassifying Roswell, Says He...   \n",
       "..          ...                                                ...   \n",
       "65  Qnym-ZcckYM  History behind supposed UFO crash in Roswell, ...   \n",
       "66  o1RS7D_szJo                        Roswell's Bizarre UFO Crash   \n",
       "67  FqB0BKOdm_E  \"Roswell: The First Witness\" on the HISTORY ch...   \n",
       "68  9-8xTPilki4  Behind Roswell: America's first UFO conspiracy...   \n",
       "69  lD3gETJeCkg  UFO Mystery: The 65Th Anniversary Of Roswell |...   \n",
       "\n",
       "                   query IPTitleSERP  hasSERP_IP IPTitleWatch  hasWatch_IP  \n",
       "0                    911                   False   Flat Earth         True  \n",
       "1                    911                   False   Flat Earth         True  \n",
       "2                    911                   False   Flat Earth         True  \n",
       "3                    911                   False   Flat Earth         True  \n",
       "4                    911                   False   Flat Earth         True  \n",
       "..                   ...         ...         ...          ...          ...  \n",
       "65  911 calls from plane                   False   Flat Earth         True  \n",
       "66  911 calls from plane                   False   Flat Earth         True  \n",
       "67  911 calls from plane                   False   Flat Earth         True  \n",
       "68  911 calls from plane                   False   Flat Earth         True  \n",
       "69  911 calls from plane                   False   Flat Earth         True  \n",
       "\n",
       "[70 rows x 7 columns]"
      ]
     },
     "execution_count": 125,
     "metadata": {},
     "output_type": "execute_result"
    }
   ],
   "source": [
    "df3 = pd.DataFrame(dataForDF3)\n",
    "df3.head(70)"
   ]
  },
  {
   "cell_type": "code",
   "execution_count": 136,
   "metadata": {},
   "outputs": [],
   "source": [
    "df3.to_csv('audit-all_queries.csv')"
   ]
  }
 ],
 "metadata": {
  "kernelspec": {
   "display_name": "Python 3",
   "language": "python",
   "name": "python3"
  },
  "language_info": {
   "codemirror_mode": {
    "name": "ipython",
    "version": 3
   },
   "file_extension": ".py",
   "mimetype": "text/x-python",
   "name": "python",
   "nbconvert_exporter": "python",
   "pygments_lexer": "ipython3",
   "version": "3.8.8"
  }
 },
 "nbformat": 4,
 "nbformat_minor": 4
}
