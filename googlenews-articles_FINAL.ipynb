{
 "cells": [
  {
   "cell_type": "markdown",
   "metadata": {},
   "source": [
    "# Exploring News Biases in Local and National News\n",
    "**November 5, 2021**  \n",
    "- Edited by Malika Parkhomchuk, Jenny Chan, Asma Mardini and Zeynep Yalcin  \n",
    "\n",
    "\n",
    "The First part of this notebook is about exploring Google News for biases when it comes to local news sources and national news sources. The Google News pages were collected with the `Selenium` package. \n",
    "The links to article were marked with the `\"DY5T1d\"` tag. \n",
    "Here are some of the functions that the notebook can be used to do:\n",
    "- extract names page of articles from Google News\n",
    "- extract name of news source of article\n",
    "- extract the rank of the news source \n",
    "\n",
    "The Second part of this notebook is about replicating the data provided from the `R` software regarding local and national news and creating a figure using the Gini Index using `matplotlib`. \n",
    "The data from the original research was downloaded, alongside the Gini Index to make this possible. \n",
    "Here are some of the actions that the notebook can be used to do: \n",
    "\n",
    "- load the local and national original data sets\n",
    "- get the Gini index of the search terms for local and national news  \n",
    "- get the average of the Gini index \n",
    "- plot the Gini index for the unique search terms \n",
    "\n",
    "Here are some of the functions in this section that this notebook can be used to do: \n",
    "- return the gini co-efficient for a source found in the local or national data set \n",
    "- return the gini-coefficient with the associated unique term as a list \n",
    "\n",
    "\n"
   ]
  },
  {
   "cell_type": "markdown",
   "metadata": {},
   "source": [
    "# Part 1: Google News Replication \n",
    "## Step 1: Using Selenium and Scraping Google News \n",
    "\n",
    "In this step we will make sure that selenium is installed and can communicate with the Chrome browser. We will create a driverpath so that Selenium can communicate with our browser. \n"
   ]
  },
  {
   "cell_type": "code",
   "execution_count": 3,
   "metadata": {},
   "outputs": [],
   "source": [
    "import requests\n",
    "from bs4 import BeautifulSoup as BS\n",
    "import time"
   ]
  },
  {
   "cell_type": "code",
   "execution_count": 1,
   "metadata": {},
   "outputs": [],
   "source": [
    "import selenium"
   ]
  },
  {
   "cell_type": "markdown",
   "metadata": {},
   "source": [
    "Now we are creating a chrome instance and telling it to open a the web page with the Google News articles that Eni has provided us with:"
   ]
  },
  {
   "cell_type": "code",
   "execution_count": 17,
   "metadata": {},
   "outputs": [],
   "source": [
    "mydriverpath = 'driver/chromedriver' "
   ]
  },
  {
   "cell_type": "code",
   "execution_count": 15,
   "metadata": {},
   "outputs": [
    {
     "ename": "NameError",
     "evalue": "name 'url_list' is not defined",
     "output_type": "error",
     "traceback": [
      "\u001b[0;31m---------------------------------------------------------------------------\u001b[0m",
      "\u001b[0;31mNameError\u001b[0m                                 Traceback (most recent call last)",
      "\u001b[0;32m<ipython-input-15-5ad3be98d1e7>\u001b[0m in \u001b[0;36m<module>\u001b[0;34m\u001b[0m\n\u001b[1;32m      3\u001b[0m \u001b[0;34m\u001b[0m\u001b[0m\n\u001b[1;32m      4\u001b[0m \u001b[0;31m# first get lines from the file -- assuming ad_chrome is your file path?\u001b[0m\u001b[0;34m\u001b[0m\u001b[0;34m\u001b[0m\u001b[0;34m\u001b[0m\u001b[0m\n\u001b[0;32m----> 5\u001b[0;31m \u001b[0;32mwith\u001b[0m \u001b[0mopen\u001b[0m\u001b[0;34m(\u001b[0m\u001b[0murl_list\u001b[0m\u001b[0;34m)\u001b[0m \u001b[0;32mas\u001b[0m \u001b[0mf\u001b[0m\u001b[0;34m:\u001b[0m\u001b[0;34m\u001b[0m\u001b[0;34m\u001b[0m\u001b[0m\n\u001b[0m\u001b[1;32m      6\u001b[0m \u001b[0;34m\u001b[0m\u001b[0m\n\u001b[1;32m      7\u001b[0m     \u001b[0;31m# lines is a list containing each line in the file, as a list item\u001b[0m\u001b[0;34m\u001b[0m\u001b[0;34m\u001b[0m\u001b[0;34m\u001b[0m\u001b[0m\n",
      "\u001b[0;31mNameError\u001b[0m: name 'url_list' is not defined"
     ]
    }
   ],
   "source": [
    "from selenium import webdriver\n",
    "driver = webdriver.Chrome(executable_path=mydriverpath)\n",
    "driver.get('file:///Users/zeynoyalcin/Desktop/google_news_election.html')"
   ]
  },
  {
   "cell_type": "code",
   "execution_count": 10,
   "metadata": {},
   "outputs": [
    {
     "ename": "NameError",
     "evalue": "name 'driver' is not defined",
     "output_type": "error",
     "traceback": [
      "\u001b[0;31m---------------------------------------------------------------------------\u001b[0m",
      "\u001b[0;31mNameError\u001b[0m                                 Traceback (most recent call last)",
      "\u001b[0;32m<ipython-input-10-e968ad9d57aa>\u001b[0m in \u001b[0;36m<module>\u001b[0;34m\u001b[0m\n\u001b[0;32m----> 1\u001b[0;31m \u001b[0mdriver\u001b[0m\u001b[0;34m.\u001b[0m\u001b[0mcurrent_url\u001b[0m\u001b[0;34m\u001b[0m\u001b[0;34m\u001b[0m\u001b[0m\n\u001b[0m",
      "\u001b[0;31mNameError\u001b[0m: name 'driver' is not defined"
     ]
    }
   ],
   "source": [
    "driver.current_url"
   ]
  },
  {
   "cell_type": "markdown",
   "metadata": {},
   "source": [
    "We need to switch to the iframe that wraps all the elements, becasue otherwise you can't find them"
   ]
  },
  {
   "cell_type": "code",
   "execution_count": 6,
   "metadata": {},
   "outputs": [
    {
     "name": "stderr",
     "output_type": "stream",
     "text": [
      "<ipython-input-6-1ac29b64cf2a>:1: DeprecationWarning: find_elements_by_* commands are deprecated. Please use find_elements() instead\n",
      "  driver.find_elements_by_tag_name(\"iframe\")\n"
     ]
    },
    {
     "data": {
      "text/plain": [
       "[]"
      ]
     },
     "execution_count": 6,
     "metadata": {},
     "output_type": "execute_result"
    }
   ],
   "source": [
    "driver.find_elements_by_tag_name(\"iframe\")"
   ]
  },
  {
   "cell_type": "code",
   "execution_count": 7,
   "metadata": {},
   "outputs": [],
   "source": [
    "#browser.switch_to.frame(\"iframe\")"
   ]
  },
  {
   "cell_type": "markdown",
   "metadata": {},
   "source": [
    "The links to the articles have this `\"DY5T1d\"` class name. We are creating a list of elements that have this class name so that we can get all the articles. Here we are finding all of the `<a>` elements with this class."
   ]
  },
  {
   "cell_type": "code",
   "execution_count": 8,
   "metadata": {},
   "outputs": [
    {
     "name": "stderr",
     "output_type": "stream",
     "text": [
      "<ipython-input-8-c2196f8416c6>:1: DeprecationWarning: find_elements_by_* commands are deprecated. Please use find_elements() instead\n",
      "  listOfAelements = driver.find_elements_by_class_name(\"DY5T1d\")\n"
     ]
    }
   ],
   "source": [
    "listOfAelements = driver.find_elements_by_class_name(\"DY5T1d\")"
   ]
  },
  {
   "cell_type": "code",
   "execution_count": 9,
   "metadata": {},
   "outputs": [
    {
     "data": {
      "text/plain": [
       "104"
      ]
     },
     "execution_count": 9,
     "metadata": {},
     "output_type": "execute_result"
    }
   ],
   "source": [
    "len(listOfAelements)"
   ]
  },
  {
   "cell_type": "markdown",
   "metadata": {},
   "source": [
    "Now we are extracting the actual links from `<href>` elements. The `<href>` element allows us to access the hyperlinks presents in a page. We get these attributes for each link and create a list of link present in the Google News page. "
   ]
  },
  {
   "cell_type": "code",
   "execution_count": 10,
   "metadata": {},
   "outputs": [],
   "source": [
    "listOfLinks = [link.get_attribute(\"href\") for link in listOfAelements]"
   ]
  },
  {
   "cell_type": "markdown",
   "metadata": {},
   "source": [
    "Then we are making sure this list is correct by inspecting the number of elements present in it. "
   ]
  },
  {
   "cell_type": "code",
   "execution_count": 11,
   "metadata": {},
   "outputs": [
    {
     "data": {
      "text/plain": [
       "104"
      ]
     },
     "execution_count": 11,
     "metadata": {},
     "output_type": "execute_result"
    }
   ],
   "source": [
    "len(listOfLinks)"
   ]
  },
  {
   "cell_type": "code",
   "execution_count": 13,
   "metadata": {},
   "outputs": [],
   "source": [
    "test = listOfLinks[25:50]\n",
    "#test"
   ]
  },
  {
   "cell_type": "markdown",
   "metadata": {},
   "source": [
    "This function goes through the list of links we have created by getting the `<href>` attribute and it itterates throgh each link to visit the page and get the actual link to the page instead of the hyper google news link. \n",
    "\n",
    "The `sleep` module is used to make sure that the browser is collecting through itteration and not opening all links at once. Once we have the link to the actual website we get the current url and add it to our new list of links. "
   ]
  },
  {
   "cell_type": "code",
   "execution_count": 14,
   "metadata": {},
   "outputs": [
    {
     "name": "stdout",
     "output_type": "stream",
     "text": [
      "https://fivethirtyeight.com/features/everything-you-need-to-know-about-the-2021-elections/\n",
      "https://www.newsweek.com/glenn-youngkin-virginia-contesting-elections-marc-elias-lawyer-trump-1644357\n",
      "https://www.washingtonpost.com/dc-md-va/2021/10/30/virginia-election-when-expect-results/\n",
      "https://www.msnbc.com/opinion/virginia-election-spotlights-biden-s-flailing-party-n1282821\n",
      "https://www.cnn.com/2021/11/01/politics/virginia-governor-race-democrats-trouble/index.html\n",
      "https://www.npr.org/2021/11/01/1050291610/most-americans-trust-elections-are-fair-but-sharp-divides-exist-a-new-poll-finds\n",
      "https://www.cnn.com/2021/10/31/politics/ballot-proposals-november-2021-election/index.html\n",
      "https://www.gwhatchet.com/2021/11/01/getting-to-the-bottom-of-it-preparing-for-the-virginia-elections/\n",
      "https://www.cavalierdaily.com/article/2021/10/chebili-students-should-prioritize-state-elections\n",
      "https://www.inquirer.com/news/pennsylvania-elections-what-to-watch-november-2021-20211101.html\n",
      "https://www.inquirer.com/politics/election/pennsylvania-elections-officials-2021-20211101.html\n",
      "https://www.theguardian.com/us-news/2021/nov/01/us-election-workers-threats-violence\n",
      "https://www.nj.com/politics/2021/10/everything-you-need-to-know-about-njs-big-elections-tuesday-including-the-heated-governors-race.html\n",
      "https://www.wbur.org/news/2021/11/01/election-officials-predict-low-turnout-local-races-massachusetts\n",
      "https://www.nwahomepage.com/news/election-officials-preparing-for-2022-elections/\n",
      "https://www.thereporteronline.com/2021/11/01/montgomery-county-prepares-for-2021-general-election/\n",
      "https://www.apr.org/politics-government/2021-11-01/most-americans-trust-elections-are-fair-but-sharp-divides-exist-a-new-poll-finds\n",
      "https://thebrunswicknews.com/news/local_news/city-elections-set-for-tuesday/article_ecc584ce-c554-52f0-ad74-9952b27464ca.html\n",
      "https://www.cnn.com/2021/10/31/politics/mayoral-races-general-election/index.html\n",
      "https://www.pbs.org/newshour/world/thousands-protest-results-of-georgias-local-elections\n",
      "https://www.henryherald.com/news/5-things-to-know-for-november-1-climate-congress-covid-19-elections-sudan/article_b5fce974-7300-5004-85e8-9b379f2ec558.html\n",
      "https://www.13wmaz.com/article/news/local/what-you-need-to-know-2021-central-georgia-elections/93-d6c313f5-63fd-49ea-9768-6a6e760f1b13\n",
      "https://www.democratandchronicle.com/story/news/2021/11/01/ontario-county-elections-guide-2021-what-you-need-to-know/8581823002/\n",
      "https://www.nytimes.com/2021/10/30/world/asia/japan-election-fumio-kishida.html\n",
      "https://www.uiargonaut.com/2021/10/31/2021-elections-moscow-city-council-candidates-talk-key-community-issues/\n",
      "https://www.longislandpress.com/2021/10/31/oped-long-islands-elections-are-the-true-bellwether/\n",
      "https://www.ktsm.com/news/ag-ken-paxton-forms-election-integrity-unit-to-oversee-secure-elections/\n",
      "https://apnews.com/article/europe-elections-local-elections-northmacedonia-skopje-1edf324bbcc88a4239d625e2884fc794\n",
      "https://www.seattletimes.com/seattle-news/politics/who-will-lead-seattle-competing-approaches-to-citys-challenges-define-pivotal-tuesday-elections/\n",
      "https://www.nytimes.com/2021/10/27/us/politics/election-day-2021-voting-guide.html\n",
      "https://fox2now.com/news/missouri/tuesdays-municipal-elections-will-decide-street-repairs-and-maintenance/\n",
      "https://www.thetimesnews.com/story/news/2021/11/01/alamance-county-nine-cities-towns-municipal-elections-tuesday-vote-polls-north-carolina-nonpartisan/6195527001/\n",
      "https://news.yahoo.com/parties-south-africas-local-elections-022607750.html\n",
      "https://www.axios.com/local/des-moines/2021/11/01/des-moines-area-school-board-election-fundraising\n",
      "https://news.yahoo.com/haverhill-city-elections-tuesday-ballots-003600494.html\n",
      "https://www.usnews.com/news/politics/articles/2021-10-29/fulton-county-holds-elections-amid-state-takeover-threat\n",
      "https://www.masslive.com/politics/2021/10/low-voter-turnout-expected-in-tuesday-elections-several-mayoral-races-to-be-decided.html\n"
     ]
    },
    {
     "ename": "TimeoutException",
     "evalue": "Message: timeout: Timed out receiving message from renderer: 300.000\n  (Session info: chrome=95.0.4638.69)\nStacktrace:\n0   chromedriver                        0x000000010cdf5519 __gxx_personality_v0 + 577193\n1   chromedriver                        0x000000010cd81663 __gxx_personality_v0 + 102387\n2   chromedriver                        0x000000010c948d28 chromedriver + 171304\n3   chromedriver                        0x000000010c9348c7 chromedriver + 88263\n4   chromedriver                        0x000000010c9337c2 chromedriver + 83906\n5   chromedriver                        0x000000010c933bcc chromedriver + 84940\n6   chromedriver                        0x000000010c941371 chromedriver + 140145\n7   chromedriver                        0x000000010c941f32 chromedriver + 143154\n8   chromedriver                        0x000000010c94fa53 chromedriver + 199251\n9   chromedriver                        0x000000010c952b3a chromedriver + 211770\n10  chromedriver                        0x000000010c933eee chromedriver + 85742\n11  chromedriver                        0x000000010c94f7d3 chromedriver + 198611\n12  chromedriver                        0x000000010c9ad7a9 chromedriver + 583593\n13  chromedriver                        0x000000010c99b0a3 chromedriver + 508067\n14  chromedriver                        0x000000010c9715ae chromedriver + 337326\n15  chromedriver                        0x000000010c9728d5 chromedriver + 342229\n16  chromedriver                        0x000000010cdb175f __gxx_personality_v0 + 299247\n17  chromedriver                        0x000000010cdc869a __gxx_personality_v0 + 393258\n18  chromedriver                        0x000000010cdcdf5b __gxx_personality_v0 + 415979\n19  chromedriver                        0x000000010cdc9a3a __gxx_personality_v0 + 398282\n20  chromedriver                        0x000000010cda637c __gxx_personality_v0 + 253196\n21  chromedriver                        0x000000010cde5458 __gxx_personality_v0 + 511464\n22  chromedriver                        0x000000010cde55e1 __gxx_personality_v0 + 511857\n23  chromedriver                        0x000000010cdfc968 __gxx_personality_v0 + 606968\n24  libsystem_pthread.dylib             0x00007fff6e3d1109 _pthread_start + 148\n25  libsystem_pthread.dylib             0x00007fff6e3ccb8b thread_start + 15\n",
     "output_type": "error",
     "traceback": [
      "\u001b[0;31m---------------------------------------------------------------------------\u001b[0m",
      "\u001b[0;31mTimeoutException\u001b[0m                          Traceback (most recent call last)",
      "\u001b[0;32m<ipython-input-14-9ca921b6a2ff>\u001b[0m in \u001b[0;36m<module>\u001b[0;34m\u001b[0m\n\u001b[1;32m      3\u001b[0m     \u001b[0mdriver\u001b[0m\u001b[0;34m.\u001b[0m\u001b[0mget\u001b[0m\u001b[0;34m(\u001b[0m\u001b[0mlink\u001b[0m\u001b[0;34m)\u001b[0m\u001b[0;34m\u001b[0m\u001b[0;34m\u001b[0m\u001b[0m\n\u001b[1;32m      4\u001b[0m     \u001b[0mtime\u001b[0m\u001b[0;34m.\u001b[0m\u001b[0msleep\u001b[0m\u001b[0;34m(\u001b[0m\u001b[0;36m2\u001b[0m\u001b[0;34m)\u001b[0m\u001b[0;34m\u001b[0m\u001b[0;34m\u001b[0m\u001b[0m\n\u001b[0;32m----> 5\u001b[0;31m     \u001b[0mnew_link\u001b[0m \u001b[0;34m=\u001b[0m \u001b[0mdriver\u001b[0m\u001b[0;34m.\u001b[0m\u001b[0mcurrent_url\u001b[0m\u001b[0;34m\u001b[0m\u001b[0;34m\u001b[0m\u001b[0m\n\u001b[0m\u001b[1;32m      6\u001b[0m     \u001b[0mlistof_newLinks\u001b[0m\u001b[0;34m.\u001b[0m\u001b[0mappend\u001b[0m\u001b[0;34m(\u001b[0m\u001b[0mnew_link\u001b[0m\u001b[0;34m)\u001b[0m\u001b[0;34m\u001b[0m\u001b[0;34m\u001b[0m\u001b[0m\n\u001b[1;32m      7\u001b[0m     \u001b[0mprint\u001b[0m\u001b[0;34m(\u001b[0m\u001b[0mnew_link\u001b[0m\u001b[0;34m)\u001b[0m\u001b[0;34m\u001b[0m\u001b[0;34m\u001b[0m\u001b[0m\n",
      "\u001b[0;32m/opt/anaconda3/lib/python3.8/site-packages/selenium/webdriver/remote/webdriver.py\u001b[0m in \u001b[0;36mcurrent_url\u001b[0;34m(self)\u001b[0m\n\u001b[1;32m    906\u001b[0m                 \u001b[0mdriver\u001b[0m\u001b[0;34m.\u001b[0m\u001b[0mcurrent_url\u001b[0m\u001b[0;34m\u001b[0m\u001b[0;34m\u001b[0m\u001b[0m\n\u001b[1;32m    907\u001b[0m         \"\"\"\n\u001b[0;32m--> 908\u001b[0;31m         \u001b[0;32mreturn\u001b[0m \u001b[0mself\u001b[0m\u001b[0;34m.\u001b[0m\u001b[0mexecute\u001b[0m\u001b[0;34m(\u001b[0m\u001b[0mCommand\u001b[0m\u001b[0;34m.\u001b[0m\u001b[0mGET_CURRENT_URL\u001b[0m\u001b[0;34m)\u001b[0m\u001b[0;34m[\u001b[0m\u001b[0;34m'value'\u001b[0m\u001b[0;34m]\u001b[0m\u001b[0;34m\u001b[0m\u001b[0;34m\u001b[0m\u001b[0m\n\u001b[0m\u001b[1;32m    909\u001b[0m \u001b[0;34m\u001b[0m\u001b[0m\n\u001b[1;32m    910\u001b[0m     \u001b[0;34m@\u001b[0m\u001b[0mproperty\u001b[0m\u001b[0;34m\u001b[0m\u001b[0;34m\u001b[0m\u001b[0m\n",
      "\u001b[0;32m/opt/anaconda3/lib/python3.8/site-packages/selenium/webdriver/remote/webdriver.py\u001b[0m in \u001b[0;36mexecute\u001b[0;34m(self, driver_command, params)\u001b[0m\n\u001b[1;32m    416\u001b[0m         \u001b[0mresponse\u001b[0m \u001b[0;34m=\u001b[0m \u001b[0mself\u001b[0m\u001b[0;34m.\u001b[0m\u001b[0mcommand_executor\u001b[0m\u001b[0;34m.\u001b[0m\u001b[0mexecute\u001b[0m\u001b[0;34m(\u001b[0m\u001b[0mdriver_command\u001b[0m\u001b[0;34m,\u001b[0m \u001b[0mparams\u001b[0m\u001b[0;34m)\u001b[0m\u001b[0;34m\u001b[0m\u001b[0;34m\u001b[0m\u001b[0m\n\u001b[1;32m    417\u001b[0m         \u001b[0;32mif\u001b[0m \u001b[0mresponse\u001b[0m\u001b[0;34m:\u001b[0m\u001b[0;34m\u001b[0m\u001b[0;34m\u001b[0m\u001b[0m\n\u001b[0;32m--> 418\u001b[0;31m             \u001b[0mself\u001b[0m\u001b[0;34m.\u001b[0m\u001b[0merror_handler\u001b[0m\u001b[0;34m.\u001b[0m\u001b[0mcheck_response\u001b[0m\u001b[0;34m(\u001b[0m\u001b[0mresponse\u001b[0m\u001b[0;34m)\u001b[0m\u001b[0;34m\u001b[0m\u001b[0;34m\u001b[0m\u001b[0m\n\u001b[0m\u001b[1;32m    419\u001b[0m             response['value'] = self._unwrap_value(\n\u001b[1;32m    420\u001b[0m                 response.get('value', None))\n",
      "\u001b[0;32m/opt/anaconda3/lib/python3.8/site-packages/selenium/webdriver/remote/errorhandler.py\u001b[0m in \u001b[0;36mcheck_response\u001b[0;34m(self, response)\u001b[0m\n\u001b[1;32m    241\u001b[0m                 \u001b[0malert_text\u001b[0m \u001b[0;34m=\u001b[0m \u001b[0mvalue\u001b[0m\u001b[0;34m[\u001b[0m\u001b[0;34m'alert'\u001b[0m\u001b[0;34m]\u001b[0m\u001b[0;34m.\u001b[0m\u001b[0mget\u001b[0m\u001b[0;34m(\u001b[0m\u001b[0;34m'text'\u001b[0m\u001b[0;34m)\u001b[0m\u001b[0;34m\u001b[0m\u001b[0;34m\u001b[0m\u001b[0m\n\u001b[1;32m    242\u001b[0m             \u001b[0;32mraise\u001b[0m \u001b[0mexception_class\u001b[0m\u001b[0;34m(\u001b[0m\u001b[0mmessage\u001b[0m\u001b[0;34m,\u001b[0m \u001b[0mscreen\u001b[0m\u001b[0;34m,\u001b[0m \u001b[0mstacktrace\u001b[0m\u001b[0;34m,\u001b[0m \u001b[0malert_text\u001b[0m\u001b[0;34m)\u001b[0m  \u001b[0;31m# type: ignore[call-arg]  # mypy is not smart enough here\u001b[0m\u001b[0;34m\u001b[0m\u001b[0;34m\u001b[0m\u001b[0m\n\u001b[0;32m--> 243\u001b[0;31m         \u001b[0;32mraise\u001b[0m \u001b[0mexception_class\u001b[0m\u001b[0;34m(\u001b[0m\u001b[0mmessage\u001b[0m\u001b[0;34m,\u001b[0m \u001b[0mscreen\u001b[0m\u001b[0;34m,\u001b[0m \u001b[0mstacktrace\u001b[0m\u001b[0;34m)\u001b[0m\u001b[0;34m\u001b[0m\u001b[0;34m\u001b[0m\u001b[0m\n\u001b[0m\u001b[1;32m    244\u001b[0m \u001b[0;34m\u001b[0m\u001b[0m\n\u001b[1;32m    245\u001b[0m     \u001b[0;32mdef\u001b[0m \u001b[0m_value_or_default\u001b[0m\u001b[0;34m(\u001b[0m\u001b[0mself\u001b[0m\u001b[0;34m,\u001b[0m \u001b[0mobj\u001b[0m\u001b[0;34m:\u001b[0m \u001b[0mMapping\u001b[0m\u001b[0;34m[\u001b[0m\u001b[0m_KT\u001b[0m\u001b[0;34m,\u001b[0m \u001b[0m_VT\u001b[0m\u001b[0;34m]\u001b[0m\u001b[0;34m,\u001b[0m \u001b[0mkey\u001b[0m\u001b[0;34m:\u001b[0m \u001b[0m_KT\u001b[0m\u001b[0;34m,\u001b[0m \u001b[0mdefault\u001b[0m\u001b[0;34m:\u001b[0m \u001b[0m_VT\u001b[0m\u001b[0;34m)\u001b[0m \u001b[0;34m->\u001b[0m \u001b[0m_VT\u001b[0m\u001b[0;34m:\u001b[0m\u001b[0;34m\u001b[0m\u001b[0;34m\u001b[0m\u001b[0m\n",
      "\u001b[0;31mTimeoutException\u001b[0m: Message: timeout: Timed out receiving message from renderer: 300.000\n  (Session info: chrome=95.0.4638.69)\nStacktrace:\n0   chromedriver                        0x000000010cdf5519 __gxx_personality_v0 + 577193\n1   chromedriver                        0x000000010cd81663 __gxx_personality_v0 + 102387\n2   chromedriver                        0x000000010c948d28 chromedriver + 171304\n3   chromedriver                        0x000000010c9348c7 chromedriver + 88263\n4   chromedriver                        0x000000010c9337c2 chromedriver + 83906\n5   chromedriver                        0x000000010c933bcc chromedriver + 84940\n6   chromedriver                        0x000000010c941371 chromedriver + 140145\n7   chromedriver                        0x000000010c941f32 chromedriver + 143154\n8   chromedriver                        0x000000010c94fa53 chromedriver + 199251\n9   chromedriver                        0x000000010c952b3a chromedriver + 211770\n10  chromedriver                        0x000000010c933eee chromedriver + 85742\n11  chromedriver                        0x000000010c94f7d3 chromedriver + 198611\n12  chromedriver                        0x000000010c9ad7a9 chromedriver + 583593\n13  chromedriver                        0x000000010c99b0a3 chromedriver + 508067\n14  chromedriver                        0x000000010c9715ae chromedriver + 337326\n15  chromedriver                        0x000000010c9728d5 chromedriver + 342229\n16  chromedriver                        0x000000010cdb175f __gxx_personality_v0 + 299247\n17  chromedriver                        0x000000010cdc869a __gxx_personality_v0 + 393258\n18  chromedriver                        0x000000010cdcdf5b __gxx_personality_v0 + 415979\n19  chromedriver                        0x000000010cdc9a3a __gxx_personality_v0 + 398282\n20  chromedriver                        0x000000010cda637c __gxx_personality_v0 + 253196\n21  chromedriver                        0x000000010cde5458 __gxx_personality_v0 + 511464\n22  chromedriver                        0x000000010cde55e1 __gxx_personality_v0 + 511857\n23  chromedriver                        0x000000010cdfc968 __gxx_personality_v0 + 606968\n24  libsystem_pthread.dylib             0x00007fff6e3d1109 _pthread_start + 148\n25  libsystem_pthread.dylib             0x00007fff6e3ccb8b thread_start + 15\n"
     ]
    }
   ],
   "source": [
    "listof_newLinks= []\n",
    "for link in listOfLinks: \n",
    "    driver.get(link)\n",
    "    time.sleep(2)\n",
    "    new_link = driver.current_url\n",
    "    listof_newLinks.append(new_link)\n",
    "    print(new_link)"
   ]
  },
  {
   "cell_type": "markdown",
   "metadata": {},
   "source": [
    "We are repeating the steps for the links after a certain amount of links has been visited because the browser tends to get stuck so breaking it up into chunks where selenium can keep runnning is very helpful. "
   ]
  },
  {
   "cell_type": "code",
   "execution_count": 24,
   "metadata": {},
   "outputs": [
    {
     "name": "stdout",
     "output_type": "stream",
     "text": [
      "https://www.postandcourier.com/politics/there-are-elections-tuesday-across-sc-including-in-charleston-mount-pleasant/article_e2a0c46c-3361-11ec-8e67-3bbf86f735de.html\n",
      "https://kansasreflector.com/2021/11/01/history-recycled-in-this-years-kansas-school-board-elections/\n",
      "https://www.wsj.com/articles/japanese-elections-fail-to-produce-gains-for-women-11635765296\n",
      "https://www.hometownsource.com/monticello_times/opinion/school-board-elections-offer-valuable-volunteer-opportunities/article_c577d302-3a92-11ec-af43-eb3911d0edd7.html\n",
      "https://www.iowastatedaily.com/news/iowa-state-university-november-2-election-local-voting-city-of-ames/article_7ac0892a-3a6b-11ec-9a07-637b3ec4f667.html\n",
      "https://www.inquirer.com/news/two-pa-swing-counties-elections-could-offer-clues-year-ahead-20211029.html\n",
      "https://www.yakimaherald.com/news/elections/yakima-county-election-turnout-about-15-friday-with-ballots-due-tuesday/article_ad4865fe-ef73-5027-aad5-e7c18265b5ab.html\n",
      "https://www.cleveland.com/community/2021/11/voters-to-decide-city-leader-elections-in-lakewood-north-olmsted-olmsted-falls-and-olmsted-township.html\n",
      "https://www.kcci.com/article/politics-playing-a-role-in-iowa-school-board-elections/38118075\n",
      "https://www.wsj.com/articles/mask-mandates-critical-race-theory-heat-up-school-board-elections-11635598800\n",
      "https://www.metrowestdailynews.com/story/news/2021/11/01/municipal-elections-tuesday-framingham-marlborough-and-franklin/6195126001/\n",
      "https://www.gjsentinel.com/news/western_colorado/officials-counter-false-election-claims/article_d9380b56-3681-11ec-be3e-3b0711ba0170.html\n",
      "https://www.greenvilleonline.com/story/news/2021/10/29/south-carolina-elections-greenville-county-vote-what-know-candidates/6137413001/\n",
      "https://www.gzeromedia.com/what-were-watching-biden-in-europe-gulf-states-vs-lebanon-elections-in-nicaragua-south-africa-virginia\n",
      "https://www.wemu.org/post/washtenaws-director-elections-outlines-what-voters-are-deciding-november-2nd-election#stream/0\n",
      "https://www.bloomberg.com/news/articles/2021-11-01/upstart-japan-right-wing-party-surprises-with-big-election-gains\n",
      "https://patch.com/new-york/merrick/cannabis-voting-boosters-elections\n",
      "https://www.ajc.com/politics/a-new-era-of-voting-in-georgia-is-about-to-begin-are-we-ready/JZMCRVBBKBAQ5A7ZKCD2ELBPRE/\n",
      "https://www.wlwt.com/article/ohio-secretary-of-state-visits-hamilton-county-board-of-elections-ahead-of-election-day/38115773\n",
      "https://lancasteronline.com/opinion/editorials/municipal-elections-are-important-please-lancaster-county-voters-have-your-say-in-tuesdays-election-editorial/article_ca1424c0-38de-11ec-a871-b77b7c483cae.html\n",
      "https://cobbcountycourier.com/2021/10/cobb-elections-board-meet-november-2/\n",
      "https://www.11alive.com/article/news/local/atlanta-election-guide-2021/85-7352b1ea-3992-44b3-94f5-7ae6c929608c\n",
      "https://cw.ua.edu/83555/news/administrator-responds-to-homecoming-elections/\n",
      "https://www.wbez.org/stories/why-the-upcoming-elections-in-virginia-and-new-jersey-matter/2fccf34e-a574-4bdf-9fc1-5becb7e65da8\n",
      "https://www.kniakrls.com/2021/11/01/city-and-school-elections-tomorrow/\n",
      "https://www.tampabay.com/news/florida-politics/elections/2021/10/29/everything-you-need-to-know-about-tuesdays-st-petersburg-municipal-election/\n",
      "https://www.nbcnews.com/politics/donald-trump/trump-s-stolen-election-lie-ballot-2022-thanks-these-candidates-n1281680\n",
      "https://www.jsonline.com/restricted/?return=https%3A%2F%2Fwww.jsonline.com%2Fstory%2Fnews%2Fpolitics%2F2021%2F10%2F29%2Fwisconsin-gop-election-commissioner-says-republicans-looking-scapegoat%2F6197843001%2F\n",
      "https://www.telegram.com/story/news/local/2021/10/31/worcester-municipal-election-city-council-school-committee-nov-2/8580048002/\n",
      "https://www.fox19.com/2021/11/01/election-day-2021-what-you-need-know/\n",
      "https://www.ehextra.com/news/menominee-elections-tuesday-for-city-council-township-millage-proposals/article_e5c127e9-e11e-5bac-8d72-4ea49246d1ea.html\n",
      "http://dailyorange.com/2021/11/syracuse-university-mayoral-election-results/\n",
      "https://www.texastribune.org/2021/10/11/texas-house-special-election-san-antonio/\n",
      "https://www.reuters.com/business/global-markets-wrapup-1-2021-11-01/\n",
      "https://www.washingtonpost.com/outlook/2021/10/13/manipulating-elections-is-conservative-tradition/\n",
      "https://www.tryondailybulletin.com/2021/10/31/municipal-election-is-tuesday/\n",
      "https://www.santafenewmexican.com/news/local_news/the-great-and-the-ghastly-seven-moments-in-election-history/article_0d74a91e-373c-11ec-af7e-9b5edfed39e5.html\n",
      "https://www.aarp.org/politics-society/government-elections/info-2021/voting-turnout-mayor-election.html\n",
      "https://www.npr.org/2021/10/10/1044821515/polls-open-in-iraqs-general-elections-amid-tight-security\n",
      "https://www.cnbc.com/2021/10/30/trumps-attorney-told-pence-his-refusal-to-overturn-the-election-caused-the-jan-6-riot.html\n",
      "https://www.salemnews.com/election/candidates-talk-traffic-construction-in-salems-ward-3/article_ee7aab88-39f9-11ec-9239-9fea0f500fb8.html\n",
      "https://www.npr.org/2021/10/20/1047532269/school-board-elections-will-be-an-early-test-of-what-issues-motivate-voters\n",
      "https://boston.cbslocal.com/2021/11/01/boston-mayoral-election-halloween-weekend-campaigning-michelle-wu-annissa-essaibi-george/\n",
      "https://www.nytimes.com/2021/10/11/us/fulton-county-election-workers-fired.html\n",
      "https://www.nytimes.com/2021/10/07/world/middleeast/iraq-elections.html\n"
     ]
    },
    {
     "ename": "TimeoutException",
     "evalue": "Message: timeout: Timed out receiving message from renderer: -814.905\n  (Session info: chrome=95.0.4638.69)\nStacktrace:\n0   chromedriver                        0x000000010fe8d519 __gxx_personality_v0 + 577193\n1   chromedriver                        0x000000010fe19663 __gxx_personality_v0 + 102387\n2   chromedriver                        0x000000010f9e0d28 chromedriver + 171304\n3   chromedriver                        0x000000010f9cc8c7 chromedriver + 88263\n4   chromedriver                        0x000000010f9cb7c2 chromedriver + 83906\n5   chromedriver                        0x000000010f9cbbcc chromedriver + 84940\n6   chromedriver                        0x000000010f9d9371 chromedriver + 140145\n7   chromedriver                        0x000000010f9d9f32 chromedriver + 143154\n8   chromedriver                        0x000000010f9e7a53 chromedriver + 199251\n9   chromedriver                        0x000000010f9eab3a chromedriver + 211770\n10  chromedriver                        0x000000010f9cbeee chromedriver + 85742\n11  chromedriver                        0x000000010f9e77d3 chromedriver + 198611\n12  chromedriver                        0x000000010fa45cc1 chromedriver + 584897\n13  chromedriver                        0x000000010fa330a3 chromedriver + 508067\n14  chromedriver                        0x000000010fa095ae chromedriver + 337326\n15  chromedriver                        0x000000010fa0a8d5 chromedriver + 342229\n16  chromedriver                        0x000000010fe4975f __gxx_personality_v0 + 299247\n17  chromedriver                        0x000000010fe6069a __gxx_personality_v0 + 393258\n18  chromedriver                        0x000000010fe65f5b __gxx_personality_v0 + 415979\n19  chromedriver                        0x000000010fe61a3a __gxx_personality_v0 + 398282\n20  chromedriver                        0x000000010fe3e37c __gxx_personality_v0 + 253196\n21  chromedriver                        0x000000010fe7d458 __gxx_personality_v0 + 511464\n22  chromedriver                        0x000000010fe7d5e1 __gxx_personality_v0 + 511857\n23  chromedriver                        0x000000010fe94968 __gxx_personality_v0 + 606968\n24  libsystem_pthread.dylib             0x00007fff6e3d1109 _pthread_start + 148\n25  libsystem_pthread.dylib             0x00007fff6e3ccb8b thread_start + 15\n",
     "output_type": "error",
     "traceback": [
      "\u001b[0;31m---------------------------------------------------------------------------\u001b[0m",
      "\u001b[0;31mTimeoutException\u001b[0m                          Traceback (most recent call last)",
      "\u001b[0;32m<ipython-input-24-49ac298c46cd>\u001b[0m in \u001b[0;36m<module>\u001b[0;34m\u001b[0m\n\u001b[1;32m      1\u001b[0m \u001b[0mlistof_newLinks_2\u001b[0m\u001b[0;34m=\u001b[0m \u001b[0;34m[\u001b[0m\u001b[0;34m]\u001b[0m\u001b[0;34m\u001b[0m\u001b[0;34m\u001b[0m\u001b[0m\n\u001b[1;32m      2\u001b[0m \u001b[0;32mfor\u001b[0m \u001b[0mlink\u001b[0m \u001b[0;32min\u001b[0m \u001b[0mlistOfLinks\u001b[0m\u001b[0;34m[\u001b[0m\u001b[0;36m38\u001b[0m\u001b[0;34m:\u001b[0m\u001b[0;34m]\u001b[0m\u001b[0;34m:\u001b[0m\u001b[0;34m\u001b[0m\u001b[0;34m\u001b[0m\u001b[0m\n\u001b[0;32m----> 3\u001b[0;31m     \u001b[0mdriver\u001b[0m\u001b[0;34m.\u001b[0m\u001b[0mget\u001b[0m\u001b[0;34m(\u001b[0m\u001b[0mlink\u001b[0m\u001b[0;34m)\u001b[0m\u001b[0;34m\u001b[0m\u001b[0;34m\u001b[0m\u001b[0m\n\u001b[0m\u001b[1;32m      4\u001b[0m     \u001b[0mtime\u001b[0m\u001b[0;34m.\u001b[0m\u001b[0msleep\u001b[0m\u001b[0;34m(\u001b[0m\u001b[0;36m2\u001b[0m\u001b[0;34m)\u001b[0m\u001b[0;34m\u001b[0m\u001b[0;34m\u001b[0m\u001b[0m\n\u001b[1;32m      5\u001b[0m     \u001b[0mnew_link\u001b[0m \u001b[0;34m=\u001b[0m \u001b[0mdriver\u001b[0m\u001b[0;34m.\u001b[0m\u001b[0mcurrent_url\u001b[0m\u001b[0;34m\u001b[0m\u001b[0;34m\u001b[0m\u001b[0m\n",
      "\u001b[0;32m/opt/anaconda3/lib/python3.8/site-packages/selenium/webdriver/remote/webdriver.py\u001b[0m in \u001b[0;36mget\u001b[0;34m(self, url)\u001b[0m\n\u001b[1;32m    428\u001b[0m         \u001b[0mLoads\u001b[0m \u001b[0ma\u001b[0m \u001b[0mweb\u001b[0m \u001b[0mpage\u001b[0m \u001b[0;32min\u001b[0m \u001b[0mthe\u001b[0m \u001b[0mcurrent\u001b[0m \u001b[0mbrowser\u001b[0m \u001b[0msession\u001b[0m\u001b[0;34m.\u001b[0m\u001b[0;34m\u001b[0m\u001b[0;34m\u001b[0m\u001b[0m\n\u001b[1;32m    429\u001b[0m         \"\"\"\n\u001b[0;32m--> 430\u001b[0;31m         \u001b[0mself\u001b[0m\u001b[0;34m.\u001b[0m\u001b[0mexecute\u001b[0m\u001b[0;34m(\u001b[0m\u001b[0mCommand\u001b[0m\u001b[0;34m.\u001b[0m\u001b[0mGET\u001b[0m\u001b[0;34m,\u001b[0m \u001b[0;34m{\u001b[0m\u001b[0;34m'url'\u001b[0m\u001b[0;34m:\u001b[0m \u001b[0murl\u001b[0m\u001b[0;34m}\u001b[0m\u001b[0;34m)\u001b[0m\u001b[0;34m\u001b[0m\u001b[0;34m\u001b[0m\u001b[0m\n\u001b[0m\u001b[1;32m    431\u001b[0m \u001b[0;34m\u001b[0m\u001b[0m\n\u001b[1;32m    432\u001b[0m     \u001b[0;34m@\u001b[0m\u001b[0mproperty\u001b[0m\u001b[0;34m\u001b[0m\u001b[0;34m\u001b[0m\u001b[0m\n",
      "\u001b[0;32m/opt/anaconda3/lib/python3.8/site-packages/selenium/webdriver/remote/webdriver.py\u001b[0m in \u001b[0;36mexecute\u001b[0;34m(self, driver_command, params)\u001b[0m\n\u001b[1;32m    416\u001b[0m         \u001b[0mresponse\u001b[0m \u001b[0;34m=\u001b[0m \u001b[0mself\u001b[0m\u001b[0;34m.\u001b[0m\u001b[0mcommand_executor\u001b[0m\u001b[0;34m.\u001b[0m\u001b[0mexecute\u001b[0m\u001b[0;34m(\u001b[0m\u001b[0mdriver_command\u001b[0m\u001b[0;34m,\u001b[0m \u001b[0mparams\u001b[0m\u001b[0;34m)\u001b[0m\u001b[0;34m\u001b[0m\u001b[0;34m\u001b[0m\u001b[0m\n\u001b[1;32m    417\u001b[0m         \u001b[0;32mif\u001b[0m \u001b[0mresponse\u001b[0m\u001b[0;34m:\u001b[0m\u001b[0;34m\u001b[0m\u001b[0;34m\u001b[0m\u001b[0m\n\u001b[0;32m--> 418\u001b[0;31m             \u001b[0mself\u001b[0m\u001b[0;34m.\u001b[0m\u001b[0merror_handler\u001b[0m\u001b[0;34m.\u001b[0m\u001b[0mcheck_response\u001b[0m\u001b[0;34m(\u001b[0m\u001b[0mresponse\u001b[0m\u001b[0;34m)\u001b[0m\u001b[0;34m\u001b[0m\u001b[0;34m\u001b[0m\u001b[0m\n\u001b[0m\u001b[1;32m    419\u001b[0m             response['value'] = self._unwrap_value(\n\u001b[1;32m    420\u001b[0m                 response.get('value', None))\n",
      "\u001b[0;32m/opt/anaconda3/lib/python3.8/site-packages/selenium/webdriver/remote/errorhandler.py\u001b[0m in \u001b[0;36mcheck_response\u001b[0;34m(self, response)\u001b[0m\n\u001b[1;32m    241\u001b[0m                 \u001b[0malert_text\u001b[0m \u001b[0;34m=\u001b[0m \u001b[0mvalue\u001b[0m\u001b[0;34m[\u001b[0m\u001b[0;34m'alert'\u001b[0m\u001b[0;34m]\u001b[0m\u001b[0;34m.\u001b[0m\u001b[0mget\u001b[0m\u001b[0;34m(\u001b[0m\u001b[0;34m'text'\u001b[0m\u001b[0;34m)\u001b[0m\u001b[0;34m\u001b[0m\u001b[0;34m\u001b[0m\u001b[0m\n\u001b[1;32m    242\u001b[0m             \u001b[0;32mraise\u001b[0m \u001b[0mexception_class\u001b[0m\u001b[0;34m(\u001b[0m\u001b[0mmessage\u001b[0m\u001b[0;34m,\u001b[0m \u001b[0mscreen\u001b[0m\u001b[0;34m,\u001b[0m \u001b[0mstacktrace\u001b[0m\u001b[0;34m,\u001b[0m \u001b[0malert_text\u001b[0m\u001b[0;34m)\u001b[0m  \u001b[0;31m# type: ignore[call-arg]  # mypy is not smart enough here\u001b[0m\u001b[0;34m\u001b[0m\u001b[0;34m\u001b[0m\u001b[0m\n\u001b[0;32m--> 243\u001b[0;31m         \u001b[0;32mraise\u001b[0m \u001b[0mexception_class\u001b[0m\u001b[0;34m(\u001b[0m\u001b[0mmessage\u001b[0m\u001b[0;34m,\u001b[0m \u001b[0mscreen\u001b[0m\u001b[0;34m,\u001b[0m \u001b[0mstacktrace\u001b[0m\u001b[0;34m)\u001b[0m\u001b[0;34m\u001b[0m\u001b[0;34m\u001b[0m\u001b[0m\n\u001b[0m\u001b[1;32m    244\u001b[0m \u001b[0;34m\u001b[0m\u001b[0m\n\u001b[1;32m    245\u001b[0m     \u001b[0;32mdef\u001b[0m \u001b[0m_value_or_default\u001b[0m\u001b[0;34m(\u001b[0m\u001b[0mself\u001b[0m\u001b[0;34m,\u001b[0m \u001b[0mobj\u001b[0m\u001b[0;34m:\u001b[0m \u001b[0mMapping\u001b[0m\u001b[0;34m[\u001b[0m\u001b[0m_KT\u001b[0m\u001b[0;34m,\u001b[0m \u001b[0m_VT\u001b[0m\u001b[0;34m]\u001b[0m\u001b[0;34m,\u001b[0m \u001b[0mkey\u001b[0m\u001b[0;34m:\u001b[0m \u001b[0m_KT\u001b[0m\u001b[0;34m,\u001b[0m \u001b[0mdefault\u001b[0m\u001b[0;34m:\u001b[0m \u001b[0m_VT\u001b[0m\u001b[0;34m)\u001b[0m \u001b[0;34m->\u001b[0m \u001b[0m_VT\u001b[0m\u001b[0;34m:\u001b[0m\u001b[0;34m\u001b[0m\u001b[0;34m\u001b[0m\u001b[0m\n",
      "\u001b[0;31mTimeoutException\u001b[0m: Message: timeout: Timed out receiving message from renderer: -814.905\n  (Session info: chrome=95.0.4638.69)\nStacktrace:\n0   chromedriver                        0x000000010fe8d519 __gxx_personality_v0 + 577193\n1   chromedriver                        0x000000010fe19663 __gxx_personality_v0 + 102387\n2   chromedriver                        0x000000010f9e0d28 chromedriver + 171304\n3   chromedriver                        0x000000010f9cc8c7 chromedriver + 88263\n4   chromedriver                        0x000000010f9cb7c2 chromedriver + 83906\n5   chromedriver                        0x000000010f9cbbcc chromedriver + 84940\n6   chromedriver                        0x000000010f9d9371 chromedriver + 140145\n7   chromedriver                        0x000000010f9d9f32 chromedriver + 143154\n8   chromedriver                        0x000000010f9e7a53 chromedriver + 199251\n9   chromedriver                        0x000000010f9eab3a chromedriver + 211770\n10  chromedriver                        0x000000010f9cbeee chromedriver + 85742\n11  chromedriver                        0x000000010f9e77d3 chromedriver + 198611\n12  chromedriver                        0x000000010fa45cc1 chromedriver + 584897\n13  chromedriver                        0x000000010fa330a3 chromedriver + 508067\n14  chromedriver                        0x000000010fa095ae chromedriver + 337326\n15  chromedriver                        0x000000010fa0a8d5 chromedriver + 342229\n16  chromedriver                        0x000000010fe4975f __gxx_personality_v0 + 299247\n17  chromedriver                        0x000000010fe6069a __gxx_personality_v0 + 393258\n18  chromedriver                        0x000000010fe65f5b __gxx_personality_v0 + 415979\n19  chromedriver                        0x000000010fe61a3a __gxx_personality_v0 + 398282\n20  chromedriver                        0x000000010fe3e37c __gxx_personality_v0 + 253196\n21  chromedriver                        0x000000010fe7d458 __gxx_personality_v0 + 511464\n22  chromedriver                        0x000000010fe7d5e1 __gxx_personality_v0 + 511857\n23  chromedriver                        0x000000010fe94968 __gxx_personality_v0 + 606968\n24  libsystem_pthread.dylib             0x00007fff6e3d1109 _pthread_start + 148\n25  libsystem_pthread.dylib             0x00007fff6e3ccb8b thread_start + 15\n"
     ]
    }
   ],
   "source": [
    "for link in listOfLinks[38:]: \n",
    "    driver.get(link)\n",
    "    time.sleep(2)\n",
    "    new_link = driver.current_url\n",
    "    listof_newLinks.append(new_link)\n",
    "    print(new_link)"
   ]
  },
  {
   "cell_type": "code",
   "execution_count": 26,
   "metadata": {},
   "outputs": [
    {
     "name": "stdout",
     "output_type": "stream",
     "text": [
      "https://www.reuters.com/world/europe/centre-left-seen-winning-main-cities-italian-mayoral-elections-exit-poll-2021-10-04/\n",
      "https://www.idahoednews.org/news/analysis-novembers-school-board-elections-reflect-their-turbulent-time/\n",
      "https://www.cnn.com/2021/10/20/politics/senate-freedom-to-vote-act-republicans/index.html\n",
      "https://www.cnn.com/2021/10/13/europe/eu-us-tensions-venezuela-election-intl-cmd/index.html\n",
      "https://www.poynter.org/shop/reporting-editing/redistricting-and-elections-november-2021/\n",
      "https://www.desmoinesregister.com/story/news/politics/2021/10/12/iowa-city-council-school-board-elections-2021-early-voting-has-begun-heres-how-absentee-ballot/6055865001/\n",
      "https://www.foxnews.com/politics/whitmer-vetoes-election-bills-michigan\n",
      "https://www.cnn.com/2021/10/26/politics/secretaries-of-state-personal-threats-trump-election-lies/index.html\n",
      "https://www.cnn.com/2021/10/25/politics/voting-rights-candidates-georgia-arizona-pennsylvania/index.html\n",
      "https://www.npr.org/2021/10/15/1046519831/how-insights-from-2020s-election-officials-could-help-safeguard-future-elections\n",
      "https://www.reuters.com/world/europe/czechs-vote-final-day-election-pm-babis-seeks-cling-power-2021-10-08/\n",
      "https://www.lohud.com/story/news/politics/elections/2021/10/18/election-day-nov-2-2021-lower-hudson-valley-whos-running/8500103002/\n",
      "https://www.reuters.com/world/middle-east/polls-open-iraq-general-election-state-tv-2021-10-10/\n",
      "https://www.cnn.com/2021/10/26/politics/kim-wyman-election-security-announcement/index.html\n",
      "https://www.nytimes.com/2021/10/01/us/arizona-election-review.html\n",
      "https://www.cnn.com/2021/10/09/politics/independent-voters-what-matters/index.html\n",
      "https://www.wsj.com/articles/president-donald-trump-2020-election-fraud-pennsylvania-ballots-11635280347\n",
      "https://www.nytimes.com/2021/10/06/us/politics/governor-races-democrats.html\n",
      "https://www.bbc.com/news/world-europe-58813215\n",
      "https://www.politico.com/news/2021/10/27/liberty-university-jerry-prevo-influence-517303\n"
     ]
    }
   ],
   "source": [
    "for link in listOfLinks[84:]: \n",
    "    driver.get(link)\n",
    "    time.sleep(2)\n",
    "    new_link = driver.current_url\n",
    "    listof_newLinks.append(new_link)\n",
    "    print(new_link)"
   ]
  },
  {
   "cell_type": "markdown",
   "metadata": {},
   "source": [
    "Here we are printing the list of new links to make sure it has all the correct links: "
   ]
  },
  {
   "cell_type": "code",
   "execution_count": 27,
   "metadata": {},
   "outputs": [
    {
     "name": "stdout",
     "output_type": "stream",
     "text": [
      "['https://fivethirtyeight.com/features/everything-you-need-to-know-about-the-2021-elections/', 'https://www.newsweek.com/glenn-youngkin-virginia-contesting-elections-marc-elias-lawyer-trump-1644357', 'https://www.washingtonpost.com/dc-md-va/2021/10/30/virginia-election-when-expect-results/', 'https://www.msnbc.com/opinion/virginia-election-spotlights-biden-s-flailing-party-n1282821', 'https://www.cnn.com/2021/11/01/politics/virginia-governor-race-democrats-trouble/index.html', 'https://www.npr.org/2021/11/01/1050291610/most-americans-trust-elections-are-fair-but-sharp-divides-exist-a-new-poll-finds', 'https://www.cnn.com/2021/10/31/politics/ballot-proposals-november-2021-election/index.html', 'https://www.gwhatchet.com/2021/11/01/getting-to-the-bottom-of-it-preparing-for-the-virginia-elections/', 'https://www.cavalierdaily.com/article/2021/10/chebili-students-should-prioritize-state-elections', 'https://www.inquirer.com/news/pennsylvania-elections-what-to-watch-november-2021-20211101.html', 'https://www.inquirer.com/politics/election/pennsylvania-elections-officials-2021-20211101.html', 'https://www.theguardian.com/us-news/2021/nov/01/us-election-workers-threats-violence', 'https://www.nj.com/politics/2021/10/everything-you-need-to-know-about-njs-big-elections-tuesday-including-the-heated-governors-race.html', 'https://www.wbur.org/news/2021/11/01/election-officials-predict-low-turnout-local-races-massachusetts', 'https://www.nwahomepage.com/news/election-officials-preparing-for-2022-elections/', 'https://www.thereporteronline.com/2021/11/01/montgomery-county-prepares-for-2021-general-election/', 'https://www.apr.org/politics-government/2021-11-01/most-americans-trust-elections-are-fair-but-sharp-divides-exist-a-new-poll-finds', 'https://thebrunswicknews.com/news/local_news/city-elections-set-for-tuesday/article_ecc584ce-c554-52f0-ad74-9952b27464ca.html', 'https://www.cnn.com/2021/10/31/politics/mayoral-races-general-election/index.html', 'https://www.pbs.org/newshour/world/thousands-protest-results-of-georgias-local-elections', 'https://www.henryherald.com/news/5-things-to-know-for-november-1-climate-congress-covid-19-elections-sudan/article_b5fce974-7300-5004-85e8-9b379f2ec558.html', 'https://www.13wmaz.com/article/news/local/what-you-need-to-know-2021-central-georgia-elections/93-d6c313f5-63fd-49ea-9768-6a6e760f1b13', 'https://www.democratandchronicle.com/story/news/2021/11/01/ontario-county-elections-guide-2021-what-you-need-to-know/8581823002/', 'https://www.nytimes.com/2021/10/30/world/asia/japan-election-fumio-kishida.html', 'https://www.uiargonaut.com/2021/10/31/2021-elections-moscow-city-council-candidates-talk-key-community-issues/', 'https://www.longislandpress.com/2021/10/31/oped-long-islands-elections-are-the-true-bellwether/', 'https://www.ktsm.com/news/ag-ken-paxton-forms-election-integrity-unit-to-oversee-secure-elections/', 'https://apnews.com/article/europe-elections-local-elections-northmacedonia-skopje-1edf324bbcc88a4239d625e2884fc794', 'https://www.seattletimes.com/seattle-news/politics/who-will-lead-seattle-competing-approaches-to-citys-challenges-define-pivotal-tuesday-elections/', 'https://www.nytimes.com/2021/10/27/us/politics/election-day-2021-voting-guide.html', 'https://fox2now.com/news/missouri/tuesdays-municipal-elections-will-decide-street-repairs-and-maintenance/', 'https://www.thetimesnews.com/story/news/2021/11/01/alamance-county-nine-cities-towns-municipal-elections-tuesday-vote-polls-north-carolina-nonpartisan/6195527001/', 'https://news.yahoo.com/parties-south-africas-local-elections-022607750.html', 'https://www.axios.com/local/des-moines/2021/11/01/des-moines-area-school-board-election-fundraising', 'https://news.yahoo.com/haverhill-city-elections-tuesday-ballots-003600494.html', 'https://www.usnews.com/news/politics/articles/2021-10-29/fulton-county-holds-elections-amid-state-takeover-threat', 'https://www.masslive.com/politics/2021/10/low-voter-turnout-expected-in-tuesday-elections-several-mayoral-races-to-be-decided.html', 'https://www.masslive.com/politics/2021/10/low-voter-turnout-expected-in-tuesday-elections-several-mayoral-races-to-be-decided.html', 'https://www.postandcourier.com/politics/there-are-elections-tuesday-across-sc-including-in-charleston-mount-pleasant/article_e2a0c46c-3361-11ec-8e67-3bbf86f735de.html', 'https://kansasreflector.com/2021/11/01/history-recycled-in-this-years-kansas-school-board-elections/', 'https://www.wsj.com/articles/japanese-elections-fail-to-produce-gains-for-women-11635765296', 'https://www.hometownsource.com/monticello_times/opinion/school-board-elections-offer-valuable-volunteer-opportunities/article_c577d302-3a92-11ec-af43-eb3911d0edd7.html', 'https://www.iowastatedaily.com/news/iowa-state-university-november-2-election-local-voting-city-of-ames/article_7ac0892a-3a6b-11ec-9a07-637b3ec4f667.html', 'https://www.inquirer.com/news/two-pa-swing-counties-elections-could-offer-clues-year-ahead-20211029.html', 'https://www.yakimaherald.com/news/elections/yakima-county-election-turnout-about-15-friday-with-ballots-due-tuesday/article_ad4865fe-ef73-5027-aad5-e7c18265b5ab.html', 'https://www.cleveland.com/community/2021/11/voters-to-decide-city-leader-elections-in-lakewood-north-olmsted-olmsted-falls-and-olmsted-township.html', 'https://www.kcci.com/article/politics-playing-a-role-in-iowa-school-board-elections/38118075', 'https://www.wsj.com/articles/mask-mandates-critical-race-theory-heat-up-school-board-elections-11635598800', 'https://www.metrowestdailynews.com/story/news/2021/11/01/municipal-elections-tuesday-framingham-marlborough-and-franklin/6195126001/', 'https://www.gjsentinel.com/news/western_colorado/officials-counter-false-election-claims/article_d9380b56-3681-11ec-be3e-3b0711ba0170.html', 'https://www.greenvilleonline.com/story/news/2021/10/29/south-carolina-elections-greenville-county-vote-what-know-candidates/6137413001/', 'https://www.gzeromedia.com/what-were-watching-biden-in-europe-gulf-states-vs-lebanon-elections-in-nicaragua-south-africa-virginia', 'https://www.wemu.org/post/washtenaws-director-elections-outlines-what-voters-are-deciding-november-2nd-election#stream/0', 'https://www.bloomberg.com/news/articles/2021-11-01/upstart-japan-right-wing-party-surprises-with-big-election-gains', 'https://patch.com/new-york/merrick/cannabis-voting-boosters-elections', 'https://www.ajc.com/politics/a-new-era-of-voting-in-georgia-is-about-to-begin-are-we-ready/JZMCRVBBKBAQ5A7ZKCD2ELBPRE/', 'https://www.wlwt.com/article/ohio-secretary-of-state-visits-hamilton-county-board-of-elections-ahead-of-election-day/38115773', 'https://lancasteronline.com/opinion/editorials/municipal-elections-are-important-please-lancaster-county-voters-have-your-say-in-tuesdays-election-editorial/article_ca1424c0-38de-11ec-a871-b77b7c483cae.html', 'https://cobbcountycourier.com/2021/10/cobb-elections-board-meet-november-2/', 'https://www.11alive.com/article/news/local/atlanta-election-guide-2021/85-7352b1ea-3992-44b3-94f5-7ae6c929608c', 'https://cw.ua.edu/83555/news/administrator-responds-to-homecoming-elections/', 'https://www.wbez.org/stories/why-the-upcoming-elections-in-virginia-and-new-jersey-matter/2fccf34e-a574-4bdf-9fc1-5becb7e65da8', 'https://www.kniakrls.com/2021/11/01/city-and-school-elections-tomorrow/', 'https://www.tampabay.com/news/florida-politics/elections/2021/10/29/everything-you-need-to-know-about-tuesdays-st-petersburg-municipal-election/', 'https://www.nbcnews.com/politics/donald-trump/trump-s-stolen-election-lie-ballot-2022-thanks-these-candidates-n1281680', 'https://www.jsonline.com/restricted/?return=https%3A%2F%2Fwww.jsonline.com%2Fstory%2Fnews%2Fpolitics%2F2021%2F10%2F29%2Fwisconsin-gop-election-commissioner-says-republicans-looking-scapegoat%2F6197843001%2F', 'https://www.telegram.com/story/news/local/2021/10/31/worcester-municipal-election-city-council-school-committee-nov-2/8580048002/', 'https://www.fox19.com/2021/11/01/election-day-2021-what-you-need-know/', 'https://www.ehextra.com/news/menominee-elections-tuesday-for-city-council-township-millage-proposals/article_e5c127e9-e11e-5bac-8d72-4ea49246d1ea.html', 'http://dailyorange.com/2021/11/syracuse-university-mayoral-election-results/', 'https://www.texastribune.org/2021/10/11/texas-house-special-election-san-antonio/', 'https://www.reuters.com/business/global-markets-wrapup-1-2021-11-01/', 'https://www.washingtonpost.com/outlook/2021/10/13/manipulating-elections-is-conservative-tradition/', 'https://www.tryondailybulletin.com/2021/10/31/municipal-election-is-tuesday/', 'https://www.santafenewmexican.com/news/local_news/the-great-and-the-ghastly-seven-moments-in-election-history/article_0d74a91e-373c-11ec-af7e-9b5edfed39e5.html', 'https://www.aarp.org/politics-society/government-elections/info-2021/voting-turnout-mayor-election.html', 'https://www.npr.org/2021/10/10/1044821515/polls-open-in-iraqs-general-elections-amid-tight-security', 'https://www.cnbc.com/2021/10/30/trumps-attorney-told-pence-his-refusal-to-overturn-the-election-caused-the-jan-6-riot.html', 'https://www.salemnews.com/election/candidates-talk-traffic-construction-in-salems-ward-3/article_ee7aab88-39f9-11ec-9239-9fea0f500fb8.html', 'https://www.npr.org/2021/10/20/1047532269/school-board-elections-will-be-an-early-test-of-what-issues-motivate-voters', 'https://boston.cbslocal.com/2021/11/01/boston-mayoral-election-halloween-weekend-campaigning-michelle-wu-annissa-essaibi-george/', 'https://www.nytimes.com/2021/10/11/us/fulton-county-election-workers-fired.html', 'https://www.nytimes.com/2021/10/07/world/middleeast/iraq-elections.html', 'https://www.reuters.com/world/europe/centre-left-seen-winning-main-cities-italian-mayoral-elections-exit-poll-2021-10-04/', 'https://www.idahoednews.org/news/analysis-novembers-school-board-elections-reflect-their-turbulent-time/', 'https://www.cnn.com/2021/10/20/politics/senate-freedom-to-vote-act-republicans/index.html', 'https://www.cnn.com/2021/10/13/europe/eu-us-tensions-venezuela-election-intl-cmd/index.html', 'https://www.poynter.org/shop/reporting-editing/redistricting-and-elections-november-2021/', 'https://www.desmoinesregister.com/story/news/politics/2021/10/12/iowa-city-council-school-board-elections-2021-early-voting-has-begun-heres-how-absentee-ballot/6055865001/', 'https://www.foxnews.com/politics/whitmer-vetoes-election-bills-michigan', 'https://www.cnn.com/2021/10/26/politics/secretaries-of-state-personal-threats-trump-election-lies/index.html', 'https://www.cnn.com/2021/10/25/politics/voting-rights-candidates-georgia-arizona-pennsylvania/index.html', 'https://www.npr.org/2021/10/15/1046519831/how-insights-from-2020s-election-officials-could-help-safeguard-future-elections', 'https://www.reuters.com/world/europe/czechs-vote-final-day-election-pm-babis-seeks-cling-power-2021-10-08/', 'https://www.lohud.com/story/news/politics/elections/2021/10/18/election-day-nov-2-2021-lower-hudson-valley-whos-running/8500103002/', 'https://www.reuters.com/world/middle-east/polls-open-iraq-general-election-state-tv-2021-10-10/', 'https://www.cnn.com/2021/10/26/politics/kim-wyman-election-security-announcement/index.html', 'https://www.nytimes.com/2021/10/01/us/arizona-election-review.html', 'https://www.cnn.com/2021/10/09/politics/independent-voters-what-matters/index.html', 'https://www.wsj.com/articles/president-donald-trump-2020-election-fraud-pennsylvania-ballots-11635280347', 'https://www.nytimes.com/2021/10/06/us/politics/governor-races-democrats.html', 'https://www.bbc.com/news/world-europe-58813215', 'https://www.politico.com/news/2021/10/27/liberty-university-jerry-prevo-influence-517303']\n"
     ]
    }
   ],
   "source": [
    "print(listof_newLinks)"
   ]
  },
  {
   "cell_type": "markdown",
   "metadata": {},
   "source": [
    "# For testing purposes"
   ]
  },
  {
   "cell_type": "code",
   "execution_count": null,
   "metadata": {},
   "outputs": [],
   "source": [
    "#browser.get('https://news.google.com/articles/CBMiWmh0dHBzOi8vZml2ZXRoaXJ0eWVpZ2h0LmNvbS9mZWF0dXJlcy9ldmVyeXRoaW5nLXlvdS1uZWVkLXRvLWtub3ctYWJvdXQtdGhlLTIwMjEtZWxlY3Rpb25zL9IBXmh0dHBzOi8vZml2ZXRoaXJ0eWVpZ2h0LmNvbS9mZWF0dXJlcy9ldmVyeXRoaW5nLXlvdS1uZWVkLXRvLWtub3ctYWJvdXQtdGhlLTIwMjEtZWxlY3Rpb25zL2FtcC8?hl=en-US&gl=US&ceid=US%3Aen')"
   ]
  },
  {
   "cell_type": "code",
   "execution_count": null,
   "metadata": {},
   "outputs": [],
   "source": [
    "#print(browser.title)"
   ]
  },
  {
   "cell_type": "code",
   "execution_count": null,
   "metadata": {},
   "outputs": [],
   "source": [
    "browser.close"
   ]
  },
  {
   "cell_type": "markdown",
   "metadata": {},
   "source": [
    "## Step 2: Creating a Dataframe and Getting the Names of Sources\n",
    "\n",
    "In this part we will create a dataframe with all the links we have collected and then get the names of each website and determine how many times the name of a website occurs and make a composite dataframe from this information. \n"
   ]
  },
  {
   "cell_type": "code",
   "execution_count": 16,
   "metadata": {},
   "outputs": [],
   "source": [
    "import pandas as pd"
   ]
  },
  {
   "cell_type": "code",
   "execution_count": 126,
   "metadata": {},
   "outputs": [
    {
     "data": {
      "text/html": [
       "<div>\n",
       "<style scoped>\n",
       "    .dataframe tbody tr th:only-of-type {\n",
       "        vertical-align: middle;\n",
       "    }\n",
       "\n",
       "    .dataframe tbody tr th {\n",
       "        vertical-align: top;\n",
       "    }\n",
       "\n",
       "    .dataframe thead th {\n",
       "        text-align: right;\n",
       "    }\n",
       "</style>\n",
       "<table border=\"1\" class=\"dataframe\">\n",
       "  <thead>\n",
       "    <tr style=\"text-align: right;\">\n",
       "      <th></th>\n",
       "      <th>article</th>\n",
       "    </tr>\n",
       "  </thead>\n",
       "  <tbody>\n",
       "    <tr>\n",
       "      <th>0</th>\n",
       "      <td>https://fivethirtyeight.com/features/everythin...</td>\n",
       "    </tr>\n",
       "    <tr>\n",
       "      <th>1</th>\n",
       "      <td>https://www.newsweek.com/glenn-youngkin-virgin...</td>\n",
       "    </tr>\n",
       "    <tr>\n",
       "      <th>2</th>\n",
       "      <td>https://www.washingtonpost.com/dc-md-va/2021/1...</td>\n",
       "    </tr>\n",
       "    <tr>\n",
       "      <th>3</th>\n",
       "      <td>https://www.msnbc.com/opinion/virginia-electio...</td>\n",
       "    </tr>\n",
       "    <tr>\n",
       "      <th>4</th>\n",
       "      <td>https://www.cnn.com/2021/11/01/politics/virgin...</td>\n",
       "    </tr>\n",
       "    <tr>\n",
       "      <th>...</th>\n",
       "      <td>...</td>\n",
       "    </tr>\n",
       "    <tr>\n",
       "      <th>98</th>\n",
       "      <td>https://www.cnn.com/2021/10/09/politics/indepe...</td>\n",
       "    </tr>\n",
       "    <tr>\n",
       "      <th>99</th>\n",
       "      <td>https://www.wsj.com/articles/president-donald-...</td>\n",
       "    </tr>\n",
       "    <tr>\n",
       "      <th>100</th>\n",
       "      <td>https://www.nytimes.com/2021/10/06/us/politics...</td>\n",
       "    </tr>\n",
       "    <tr>\n",
       "      <th>101</th>\n",
       "      <td>https://www.bbc.com/news/world-europe-58813215</td>\n",
       "    </tr>\n",
       "    <tr>\n",
       "      <th>102</th>\n",
       "      <td>https://www.politico.com/news/2021/10/27/liber...</td>\n",
       "    </tr>\n",
       "  </tbody>\n",
       "</table>\n",
       "<p>103 rows × 1 columns</p>\n",
       "</div>"
      ],
      "text/plain": [
       "                                               article\n",
       "0    https://fivethirtyeight.com/features/everythin...\n",
       "1    https://www.newsweek.com/glenn-youngkin-virgin...\n",
       "2    https://www.washingtonpost.com/dc-md-va/2021/1...\n",
       "3    https://www.msnbc.com/opinion/virginia-electio...\n",
       "4    https://www.cnn.com/2021/11/01/politics/virgin...\n",
       "..                                                 ...\n",
       "98   https://www.cnn.com/2021/10/09/politics/indepe...\n",
       "99   https://www.wsj.com/articles/president-donald-...\n",
       "100  https://www.nytimes.com/2021/10/06/us/politics...\n",
       "101     https://www.bbc.com/news/world-europe-58813215\n",
       "102  https://www.politico.com/news/2021/10/27/liber...\n",
       "\n",
       "[103 rows x 1 columns]"
      ]
     },
     "execution_count": 126,
     "metadata": {},
     "output_type": "execute_result"
    }
   ],
   "source": [
    "news_df = pd.DataFrame(listof_newLinks, columns=['article'])\n",
    "news_df"
   ]
  },
  {
   "cell_type": "markdown",
   "metadata": {},
   "source": [
    "In this part we will get the name of the website using the URLs that we have collected. Since the URLs are actual links to the websites and not hyperlinks we can just itterate through each one to get the names. \n",
    "\n",
    "To get the domain name by parsing the URL and extracting the string between www. and the '/' slash we are creating a function `domain_name` which parses through the punctuation: "
   ]
  },
  {
   "cell_type": "code",
   "execution_count": 29,
   "metadata": {},
   "outputs": [],
   "source": [
    "import re\n",
    "\n",
    "def domain_name(url):\n",
    "    return url.split(\"www.\")[-1].split(\"//\")[-1].split(\".\")[0]"
   ]
  },
  {
   "cell_type": "code",
   "execution_count": 30,
   "metadata": {},
   "outputs": [
    {
     "data": {
      "text/plain": [
       "'longislandpress'"
      ]
     },
     "execution_count": 30,
     "metadata": {},
     "output_type": "execute_result"
    }
   ],
   "source": [
    "domain_name('https://www.longislandpress.com/2021/10/31/oped-long-islands-elections-are-the-true-bellwether/')"
   ]
  },
  {
   "cell_type": "markdown",
   "metadata": {},
   "source": [
    "Parse throught the entire list of links and extract the domain name using the function `domain_name` and printing the result to make sure that the domain names are correct. "
   ]
  },
  {
   "cell_type": "code",
   "execution_count": 31,
   "metadata": {},
   "outputs": [
    {
     "name": "stdout",
     "output_type": "stream",
     "text": [
      "fivethirtyeight\n",
      "newsweek\n",
      "washingtonpost\n",
      "msnbc\n",
      "cnn\n",
      "npr\n",
      "cnn\n",
      "gwhatchet\n",
      "cavalierdaily\n",
      "inquirer\n",
      "inquirer\n",
      "theguardian\n",
      "nj\n",
      "wbur\n",
      "nwahomepage\n",
      "thereporteronline\n",
      "apr\n",
      "thebrunswicknews\n",
      "cnn\n",
      "pbs\n",
      "henryherald\n",
      "13wmaz\n",
      "democratandchronicle\n",
      "nytimes\n",
      "uiargonaut\n",
      "longislandpress\n",
      "ktsm\n",
      "apnews\n",
      "seattletimes\n",
      "nytimes\n",
      "fox2now\n",
      "thetimesnews\n",
      "news\n",
      "axios\n",
      "news\n",
      "usnews\n",
      "masslive\n",
      "masslive\n",
      "postandcourier\n",
      "kansasreflector\n",
      "wsj\n",
      "hometownsource\n",
      "iowastatedaily\n",
      "inquirer\n",
      "yakimaherald\n",
      "cleveland\n",
      "kcci\n",
      "wsj\n",
      "metrowestdailynews\n",
      "gjsentinel\n",
      "greenvilleonline\n",
      "gzeromedia\n",
      "wemu\n",
      "bloomberg\n",
      "patch\n",
      "ajc\n",
      "wlwt\n",
      "lancasteronline\n",
      "cobbcountycourier\n",
      "11alive\n",
      "cw\n",
      "wbez\n",
      "kniakrls\n",
      "tampabay\n",
      "nbcnews\n",
      "jsonline\n",
      "telegram\n",
      "fox19\n",
      "ehextra\n",
      "dailyorange\n",
      "texastribune\n",
      "reuters\n",
      "washingtonpost\n",
      "tryondailybulletin\n",
      "santafenewmexican\n",
      "aarp\n",
      "npr\n",
      "cnbc\n",
      "salemnews\n",
      "npr\n",
      "boston\n",
      "nytimes\n",
      "nytimes\n",
      "reuters\n",
      "idahoednews\n",
      "cnn\n",
      "cnn\n",
      "poynter\n",
      "desmoinesregister\n",
      "foxnews\n",
      "cnn\n",
      "cnn\n",
      "npr\n",
      "reuters\n",
      "lohud\n",
      "reuters\n",
      "cnn\n",
      "nytimes\n",
      "cnn\n",
      "wsj\n",
      "nytimes\n",
      "bbc\n",
      "politico\n"
     ]
    }
   ],
   "source": [
    "domains= []\n",
    "for link in listof_newLinks: \n",
    "    domain = domain_name(link)\n",
    "    domains.append(domain)\n",
    "    print(domain)"
   ]
  },
  {
   "cell_type": "markdown",
   "metadata": {},
   "source": [
    "Add the collected domain names to the dataframe: "
   ]
  },
  {
   "cell_type": "code",
   "execution_count": 127,
   "metadata": {},
   "outputs": [
    {
     "data": {
      "text/html": [
       "<div>\n",
       "<style scoped>\n",
       "    .dataframe tbody tr th:only-of-type {\n",
       "        vertical-align: middle;\n",
       "    }\n",
       "\n",
       "    .dataframe tbody tr th {\n",
       "        vertical-align: top;\n",
       "    }\n",
       "\n",
       "    .dataframe thead th {\n",
       "        text-align: right;\n",
       "    }\n",
       "</style>\n",
       "<table border=\"1\" class=\"dataframe\">\n",
       "  <thead>\n",
       "    <tr style=\"text-align: right;\">\n",
       "      <th></th>\n",
       "      <th>article</th>\n",
       "      <th>name</th>\n",
       "    </tr>\n",
       "  </thead>\n",
       "  <tbody>\n",
       "    <tr>\n",
       "      <th>0</th>\n",
       "      <td>https://fivethirtyeight.com/features/everythin...</td>\n",
       "      <td>fivethirtyeight</td>\n",
       "    </tr>\n",
       "    <tr>\n",
       "      <th>1</th>\n",
       "      <td>https://www.newsweek.com/glenn-youngkin-virgin...</td>\n",
       "      <td>newsweek</td>\n",
       "    </tr>\n",
       "    <tr>\n",
       "      <th>2</th>\n",
       "      <td>https://www.washingtonpost.com/dc-md-va/2021/1...</td>\n",
       "      <td>washingtonpost</td>\n",
       "    </tr>\n",
       "    <tr>\n",
       "      <th>3</th>\n",
       "      <td>https://www.msnbc.com/opinion/virginia-electio...</td>\n",
       "      <td>msnbc</td>\n",
       "    </tr>\n",
       "    <tr>\n",
       "      <th>4</th>\n",
       "      <td>https://www.cnn.com/2021/11/01/politics/virgin...</td>\n",
       "      <td>cnn</td>\n",
       "    </tr>\n",
       "    <tr>\n",
       "      <th>...</th>\n",
       "      <td>...</td>\n",
       "      <td>...</td>\n",
       "    </tr>\n",
       "    <tr>\n",
       "      <th>98</th>\n",
       "      <td>https://www.cnn.com/2021/10/09/politics/indepe...</td>\n",
       "      <td>cnn</td>\n",
       "    </tr>\n",
       "    <tr>\n",
       "      <th>99</th>\n",
       "      <td>https://www.wsj.com/articles/president-donald-...</td>\n",
       "      <td>wsj</td>\n",
       "    </tr>\n",
       "    <tr>\n",
       "      <th>100</th>\n",
       "      <td>https://www.nytimes.com/2021/10/06/us/politics...</td>\n",
       "      <td>nytimes</td>\n",
       "    </tr>\n",
       "    <tr>\n",
       "      <th>101</th>\n",
       "      <td>https://www.bbc.com/news/world-europe-58813215</td>\n",
       "      <td>bbc</td>\n",
       "    </tr>\n",
       "    <tr>\n",
       "      <th>102</th>\n",
       "      <td>https://www.politico.com/news/2021/10/27/liber...</td>\n",
       "      <td>politico</td>\n",
       "    </tr>\n",
       "  </tbody>\n",
       "</table>\n",
       "<p>103 rows × 2 columns</p>\n",
       "</div>"
      ],
      "text/plain": [
       "                                               article             name\n",
       "0    https://fivethirtyeight.com/features/everythin...  fivethirtyeight\n",
       "1    https://www.newsweek.com/glenn-youngkin-virgin...         newsweek\n",
       "2    https://www.washingtonpost.com/dc-md-va/2021/1...   washingtonpost\n",
       "3    https://www.msnbc.com/opinion/virginia-electio...            msnbc\n",
       "4    https://www.cnn.com/2021/11/01/politics/virgin...              cnn\n",
       "..                                                 ...              ...\n",
       "98   https://www.cnn.com/2021/10/09/politics/indepe...              cnn\n",
       "99   https://www.wsj.com/articles/president-donald-...              wsj\n",
       "100  https://www.nytimes.com/2021/10/06/us/politics...          nytimes\n",
       "101     https://www.bbc.com/news/world-europe-58813215              bbc\n",
       "102  https://www.politico.com/news/2021/10/27/liber...         politico\n",
       "\n",
       "[103 rows x 2 columns]"
      ]
     },
     "execution_count": 127,
     "metadata": {},
     "output_type": "execute_result"
    }
   ],
   "source": [
    "news_df['name'] = domains\n",
    "news_df"
   ]
  },
  {
   "cell_type": "markdown",
   "metadata": {},
   "source": [
    "Now we will get the number of times a domain name occurs by using the funciton `sorty.by_values` and then adding that as the index to show us the number of times a domain name occurs"
   ]
  },
  {
   "cell_type": "code",
   "execution_count": 172,
   "metadata": {},
   "outputs": [],
   "source": [
    "news_final = news_df.drop(columns= ['rank'])\n",
    "news_final.sort_values(by=['occurance'], ascending=False)\n",
    "final = news_final.set_index('occurance')\n",
    "final_df = final.sort_index(ascending=False)"
   ]
  },
  {
   "cell_type": "markdown",
   "metadata": {},
   "source": [
    "Here is our final dataframe: "
   ]
  },
  {
   "cell_type": "code",
   "execution_count": 173,
   "metadata": {},
   "outputs": [
    {
     "data": {
      "text/html": [
       "<div>\n",
       "<style scoped>\n",
       "    .dataframe tbody tr th:only-of-type {\n",
       "        vertical-align: middle;\n",
       "    }\n",
       "\n",
       "    .dataframe tbody tr th {\n",
       "        vertical-align: top;\n",
       "    }\n",
       "\n",
       "    .dataframe thead th {\n",
       "        text-align: right;\n",
       "    }\n",
       "</style>\n",
       "<table border=\"1\" class=\"dataframe\">\n",
       "  <thead>\n",
       "    <tr style=\"text-align: right;\">\n",
       "      <th></th>\n",
       "      <th>article</th>\n",
       "      <th>name</th>\n",
       "    </tr>\n",
       "    <tr>\n",
       "      <th>occurance</th>\n",
       "      <th></th>\n",
       "      <th></th>\n",
       "    </tr>\n",
       "  </thead>\n",
       "  <tbody>\n",
       "    <tr>\n",
       "      <th>9</th>\n",
       "      <td>https://www.cnn.com/2021/10/09/politics/indepe...</td>\n",
       "      <td>cnn</td>\n",
       "    </tr>\n",
       "    <tr>\n",
       "      <th>8</th>\n",
       "      <td>https://www.cnn.com/2021/10/26/politics/kim-wy...</td>\n",
       "      <td>cnn</td>\n",
       "    </tr>\n",
       "    <tr>\n",
       "      <th>7</th>\n",
       "      <td>https://www.cnn.com/2021/10/25/politics/voting...</td>\n",
       "      <td>cnn</td>\n",
       "    </tr>\n",
       "    <tr>\n",
       "      <th>6</th>\n",
       "      <td>https://www.cnn.com/2021/10/26/politics/secret...</td>\n",
       "      <td>cnn</td>\n",
       "    </tr>\n",
       "    <tr>\n",
       "      <th>6</th>\n",
       "      <td>https://www.nytimes.com/2021/10/06/us/politics...</td>\n",
       "      <td>nytimes</td>\n",
       "    </tr>\n",
       "    <tr>\n",
       "      <th>...</th>\n",
       "      <td>...</td>\n",
       "      <td>...</td>\n",
       "    </tr>\n",
       "    <tr>\n",
       "      <th>1</th>\n",
       "      <td>https://www.axios.com/local/des-moines/2021/11...</td>\n",
       "      <td>axios</td>\n",
       "    </tr>\n",
       "    <tr>\n",
       "      <th>1</th>\n",
       "      <td>https://news.yahoo.com/parties-south-africas-l...</td>\n",
       "      <td>news</td>\n",
       "    </tr>\n",
       "    <tr>\n",
       "      <th>1</th>\n",
       "      <td>https://www.thetimesnews.com/story/news/2021/1...</td>\n",
       "      <td>thetimesnews</td>\n",
       "    </tr>\n",
       "    <tr>\n",
       "      <th>1</th>\n",
       "      <td>https://fox2now.com/news/missouri/tuesdays-mun...</td>\n",
       "      <td>fox2now</td>\n",
       "    </tr>\n",
       "    <tr>\n",
       "      <th>1</th>\n",
       "      <td>https://www.politico.com/news/2021/10/27/liber...</td>\n",
       "      <td>politico</td>\n",
       "    </tr>\n",
       "  </tbody>\n",
       "</table>\n",
       "<p>103 rows × 2 columns</p>\n",
       "</div>"
      ],
      "text/plain": [
       "                                                     article          name\n",
       "occurance                                                                 \n",
       "9          https://www.cnn.com/2021/10/09/politics/indepe...           cnn\n",
       "8          https://www.cnn.com/2021/10/26/politics/kim-wy...           cnn\n",
       "7          https://www.cnn.com/2021/10/25/politics/voting...           cnn\n",
       "6          https://www.cnn.com/2021/10/26/politics/secret...           cnn\n",
       "6          https://www.nytimes.com/2021/10/06/us/politics...       nytimes\n",
       "...                                                      ...           ...\n",
       "1          https://www.axios.com/local/des-moines/2021/11...         axios\n",
       "1          https://news.yahoo.com/parties-south-africas-l...          news\n",
       "1          https://www.thetimesnews.com/story/news/2021/1...  thetimesnews\n",
       "1          https://fox2now.com/news/missouri/tuesdays-mun...       fox2now\n",
       "1          https://www.politico.com/news/2021/10/27/liber...      politico\n",
       "\n",
       "[103 rows x 2 columns]"
      ]
     },
     "execution_count": 173,
     "metadata": {},
     "output_type": "execute_result"
    }
   ],
   "source": [
    "final_df"
   ]
  },
  {
   "cell_type": "markdown",
   "metadata": {},
   "source": [
    "# Part 2: Gini Index for Individual Searches Replication\n",
    "\n",
    "## Step 1: Getting data for  Local News\n",
    "\n",
    "In this step we will download the data that was collected by the original researchers of the paper. The data is in r format so we will download it as a CSV file and then use this CSV file which contains all the original data to do our replication. We are doing this here for the local data that the researchers have collected. "
   ]
  },
  {
   "cell_type": "code",
   "execution_count": 1,
   "metadata": {},
   "outputs": [],
   "source": [
    "import pandas as pd\n",
    "\n",
    "df_local = pd.read_csv('local.csv') # also works for Rds"
   ]
  },
  {
   "cell_type": "code",
   "execution_count": 2,
   "metadata": {
    "scrolled": true
   },
   "outputs": [
    {
     "data": {
      "text/html": [
       "<div>\n",
       "<style scoped>\n",
       "    .dataframe tbody tr th:only-of-type {\n",
       "        vertical-align: middle;\n",
       "    }\n",
       "\n",
       "    .dataframe tbody tr th {\n",
       "        vertical-align: top;\n",
       "    }\n",
       "\n",
       "    .dataframe thead th {\n",
       "        text-align: right;\n",
       "    }\n",
       "</style>\n",
       "<table border=\"1\" class=\"dataframe\">\n",
       "  <thead>\n",
       "    <tr style=\"text-align: right;\">\n",
       "      <th></th>\n",
       "      <th>Unnamed: 0</th>\n",
       "      <th>term</th>\n",
       "      <th>fips</th>\n",
       "      <th>County</th>\n",
       "      <th>State</th>\n",
       "      <th>source</th>\n",
       "      <th>rank_2</th>\n",
       "      <th>ord_weight</th>\n",
       "      <th>frac_weight</th>\n",
       "      <th>source_timestamp</th>\n",
       "      <th>...</th>\n",
       "      <th>pct_some_college</th>\n",
       "      <th>pct_assoc_deg</th>\n",
       "      <th>pct_bach_deg</th>\n",
       "      <th>pct_doctorate_deg</th>\n",
       "      <th>pct_master_deg</th>\n",
       "      <th>pct_prof_deg</th>\n",
       "      <th>pct_college_deg</th>\n",
       "      <th>pct_with_comp_broadband</th>\n",
       "      <th>log_papers</th>\n",
       "      <th>state_capital</th>\n",
       "    </tr>\n",
       "  </thead>\n",
       "  <tbody>\n",
       "    <tr>\n",
       "      <th>0</th>\n",
       "      <td>0</td>\n",
       "      <td>accident</td>\n",
       "      <td>37199.0</td>\n",
       "      <td>Yancey</td>\n",
       "      <td>NC</td>\n",
       "      <td>baltimore sun</td>\n",
       "      <td>5</td>\n",
       "      <td>96.0</td>\n",
       "      <td>0.200000</td>\n",
       "      <td>Yesterday</td>\n",
       "      <td>...</td>\n",
       "      <td>0.150412</td>\n",
       "      <td>0.071684</td>\n",
       "      <td>0.091622</td>\n",
       "      <td>0.009202</td>\n",
       "      <td>0.033797</td>\n",
       "      <td>0.011417</td>\n",
       "      <td>0.217722</td>\n",
       "      <td>0.250043</td>\n",
       "      <td>0.0</td>\n",
       "      <td>0.0</td>\n",
       "    </tr>\n",
       "    <tr>\n",
       "      <th>1</th>\n",
       "      <td>1</td>\n",
       "      <td>accident</td>\n",
       "      <td>37199.0</td>\n",
       "      <td>Yancey</td>\n",
       "      <td>NC</td>\n",
       "      <td>kswo</td>\n",
       "      <td>7</td>\n",
       "      <td>94.0</td>\n",
       "      <td>0.142857</td>\n",
       "      <td>Yesterday</td>\n",
       "      <td>...</td>\n",
       "      <td>0.150412</td>\n",
       "      <td>0.071684</td>\n",
       "      <td>0.091622</td>\n",
       "      <td>0.009202</td>\n",
       "      <td>0.033797</td>\n",
       "      <td>0.011417</td>\n",
       "      <td>0.217722</td>\n",
       "      <td>0.250043</td>\n",
       "      <td>0.0</td>\n",
       "      <td>0.0</td>\n",
       "    </tr>\n",
       "    <tr>\n",
       "      <th>2</th>\n",
       "      <td>2</td>\n",
       "      <td>accident</td>\n",
       "      <td>37199.0</td>\n",
       "      <td>Yancey</td>\n",
       "      <td>NC</td>\n",
       "      <td>state journal-register</td>\n",
       "      <td>17</td>\n",
       "      <td>84.0</td>\n",
       "      <td>0.058824</td>\n",
       "      <td>Last month</td>\n",
       "      <td>...</td>\n",
       "      <td>0.150412</td>\n",
       "      <td>0.071684</td>\n",
       "      <td>0.091622</td>\n",
       "      <td>0.009202</td>\n",
       "      <td>0.033797</td>\n",
       "      <td>0.011417</td>\n",
       "      <td>0.217722</td>\n",
       "      <td>0.250043</td>\n",
       "      <td>0.0</td>\n",
       "      <td>0.0</td>\n",
       "    </tr>\n",
       "    <tr>\n",
       "      <th>3</th>\n",
       "      <td>3</td>\n",
       "      <td>accident</td>\n",
       "      <td>37199.0</td>\n",
       "      <td>Yancey</td>\n",
       "      <td>NC</td>\n",
       "      <td>wafb</td>\n",
       "      <td>18</td>\n",
       "      <td>83.0</td>\n",
       "      <td>0.055556</td>\n",
       "      <td>Yesterday</td>\n",
       "      <td>...</td>\n",
       "      <td>0.150412</td>\n",
       "      <td>0.071684</td>\n",
       "      <td>0.091622</td>\n",
       "      <td>0.009202</td>\n",
       "      <td>0.033797</td>\n",
       "      <td>0.011417</td>\n",
       "      <td>0.217722</td>\n",
       "      <td>0.250043</td>\n",
       "      <td>0.0</td>\n",
       "      <td>0.0</td>\n",
       "    </tr>\n",
       "    <tr>\n",
       "      <th>4</th>\n",
       "      <td>4</td>\n",
       "      <td>accident</td>\n",
       "      <td>37199.0</td>\n",
       "      <td>Yancey</td>\n",
       "      <td>NC</td>\n",
       "      <td>advocate</td>\n",
       "      <td>21</td>\n",
       "      <td>80.0</td>\n",
       "      <td>0.047619</td>\n",
       "      <td>Yesterday</td>\n",
       "      <td>...</td>\n",
       "      <td>0.150412</td>\n",
       "      <td>0.071684</td>\n",
       "      <td>0.091622</td>\n",
       "      <td>0.009202</td>\n",
       "      <td>0.033797</td>\n",
       "      <td>0.011417</td>\n",
       "      <td>0.217722</td>\n",
       "      <td>0.250043</td>\n",
       "      <td>0.0</td>\n",
       "      <td>0.0</td>\n",
       "    </tr>\n",
       "    <tr>\n",
       "      <th>...</th>\n",
       "      <td>...</td>\n",
       "      <td>...</td>\n",
       "      <td>...</td>\n",
       "      <td>...</td>\n",
       "      <td>...</td>\n",
       "      <td>...</td>\n",
       "      <td>...</td>\n",
       "      <td>...</td>\n",
       "      <td>...</td>\n",
       "      <td>...</td>\n",
       "      <td>...</td>\n",
       "      <td>...</td>\n",
       "      <td>...</td>\n",
       "      <td>...</td>\n",
       "      <td>...</td>\n",
       "      <td>...</td>\n",
       "      <td>...</td>\n",
       "      <td>...</td>\n",
       "      <td>...</td>\n",
       "      <td>...</td>\n",
       "      <td>...</td>\n",
       "    </tr>\n",
       "    <tr>\n",
       "      <th>3918215</th>\n",
       "      <td>3918215</td>\n",
       "      <td>weather</td>\n",
       "      <td>21003.0</td>\n",
       "      <td>Allen</td>\n",
       "      <td>KY</td>\n",
       "      <td>accuweather.com</td>\n",
       "      <td>76</td>\n",
       "      <td>25.0</td>\n",
       "      <td>0.013158</td>\n",
       "      <td>Yesterday</td>\n",
       "      <td>...</td>\n",
       "      <td>0.120613</td>\n",
       "      <td>0.057834</td>\n",
       "      <td>0.061761</td>\n",
       "      <td>0.001794</td>\n",
       "      <td>0.028360</td>\n",
       "      <td>0.006157</td>\n",
       "      <td>0.155905</td>\n",
       "      <td>0.226973</td>\n",
       "      <td>0.0</td>\n",
       "      <td>0.0</td>\n",
       "    </tr>\n",
       "    <tr>\n",
       "      <th>3918216</th>\n",
       "      <td>3918216</td>\n",
       "      <td>weather</td>\n",
       "      <td>21003.0</td>\n",
       "      <td>Allen</td>\n",
       "      <td>KY</td>\n",
       "      <td>accuweather.com</td>\n",
       "      <td>85</td>\n",
       "      <td>16.0</td>\n",
       "      <td>0.011765</td>\n",
       "      <td>Yesterday</td>\n",
       "      <td>...</td>\n",
       "      <td>0.120613</td>\n",
       "      <td>0.057834</td>\n",
       "      <td>0.061761</td>\n",
       "      <td>0.001794</td>\n",
       "      <td>0.028360</td>\n",
       "      <td>0.006157</td>\n",
       "      <td>0.155905</td>\n",
       "      <td>0.226973</td>\n",
       "      <td>0.0</td>\n",
       "      <td>0.0</td>\n",
       "    </tr>\n",
       "    <tr>\n",
       "      <th>3918217</th>\n",
       "      <td>3918217</td>\n",
       "      <td>weather</td>\n",
       "      <td>21003.0</td>\n",
       "      <td>Allen</td>\n",
       "      <td>KY</td>\n",
       "      <td>mlive.com</td>\n",
       "      <td>91</td>\n",
       "      <td>10.0</td>\n",
       "      <td>0.010989</td>\n",
       "      <td>2 days ago</td>\n",
       "      <td>...</td>\n",
       "      <td>0.120613</td>\n",
       "      <td>0.057834</td>\n",
       "      <td>0.061761</td>\n",
       "      <td>0.001794</td>\n",
       "      <td>0.028360</td>\n",
       "      <td>0.006157</td>\n",
       "      <td>0.155905</td>\n",
       "      <td>0.226973</td>\n",
       "      <td>0.0</td>\n",
       "      <td>0.0</td>\n",
       "    </tr>\n",
       "    <tr>\n",
       "      <th>3918218</th>\n",
       "      <td>3918218</td>\n",
       "      <td>weather</td>\n",
       "      <td>21003.0</td>\n",
       "      <td>Allen</td>\n",
       "      <td>KY</td>\n",
       "      <td>accuweather.com</td>\n",
       "      <td>97</td>\n",
       "      <td>4.0</td>\n",
       "      <td>0.010309</td>\n",
       "      <td>3 days ago</td>\n",
       "      <td>...</td>\n",
       "      <td>0.120613</td>\n",
       "      <td>0.057834</td>\n",
       "      <td>0.061761</td>\n",
       "      <td>0.001794</td>\n",
       "      <td>0.028360</td>\n",
       "      <td>0.006157</td>\n",
       "      <td>0.155905</td>\n",
       "      <td>0.226973</td>\n",
       "      <td>0.0</td>\n",
       "      <td>0.0</td>\n",
       "    </tr>\n",
       "    <tr>\n",
       "      <th>3918219</th>\n",
       "      <td>3918219</td>\n",
       "      <td>weather</td>\n",
       "      <td>21003.0</td>\n",
       "      <td>Allen</td>\n",
       "      <td>KY</td>\n",
       "      <td>wkbn.com</td>\n",
       "      <td>98</td>\n",
       "      <td>3.0</td>\n",
       "      <td>0.010204</td>\n",
       "      <td>Yesterday</td>\n",
       "      <td>...</td>\n",
       "      <td>0.120613</td>\n",
       "      <td>0.057834</td>\n",
       "      <td>0.061761</td>\n",
       "      <td>0.001794</td>\n",
       "      <td>0.028360</td>\n",
       "      <td>0.006157</td>\n",
       "      <td>0.155905</td>\n",
       "      <td>0.226973</td>\n",
       "      <td>0.0</td>\n",
       "      <td>0.0</td>\n",
       "    </tr>\n",
       "  </tbody>\n",
       "</table>\n",
       "<p>3918220 rows × 50 columns</p>\n",
       "</div>"
      ],
      "text/plain": [
       "         Unnamed: 0      term     fips  County State                  source  \\\n",
       "0                 0  accident  37199.0  Yancey    NC           baltimore sun   \n",
       "1                 1  accident  37199.0  Yancey    NC                    kswo   \n",
       "2                 2  accident  37199.0  Yancey    NC  state journal-register   \n",
       "3                 3  accident  37199.0  Yancey    NC                    wafb   \n",
       "4                 4  accident  37199.0  Yancey    NC                advocate   \n",
       "...             ...       ...      ...     ...   ...                     ...   \n",
       "3918215     3918215   weather  21003.0   Allen    KY         accuweather.com   \n",
       "3918216     3918216   weather  21003.0   Allen    KY         accuweather.com   \n",
       "3918217     3918217   weather  21003.0   Allen    KY               mlive.com   \n",
       "3918218     3918218   weather  21003.0   Allen    KY         accuweather.com   \n",
       "3918219     3918219   weather  21003.0   Allen    KY                wkbn.com   \n",
       "\n",
       "         rank_2  ord_weight  frac_weight source_timestamp  ...  \\\n",
       "0             5        96.0     0.200000        Yesterday  ...   \n",
       "1             7        94.0     0.142857        Yesterday  ...   \n",
       "2            17        84.0     0.058824       Last month  ...   \n",
       "3            18        83.0     0.055556        Yesterday  ...   \n",
       "4            21        80.0     0.047619        Yesterday  ...   \n",
       "...         ...         ...          ...              ...  ...   \n",
       "3918215      76        25.0     0.013158        Yesterday  ...   \n",
       "3918216      85        16.0     0.011765        Yesterday  ...   \n",
       "3918217      91        10.0     0.010989       2 days ago  ...   \n",
       "3918218      97         4.0     0.010309       3 days ago  ...   \n",
       "3918219      98         3.0     0.010204        Yesterday  ...   \n",
       "\n",
       "        pct_some_college pct_assoc_deg  pct_bach_deg pct_doctorate_deg  \\\n",
       "0               0.150412      0.071684      0.091622          0.009202   \n",
       "1               0.150412      0.071684      0.091622          0.009202   \n",
       "2               0.150412      0.071684      0.091622          0.009202   \n",
       "3               0.150412      0.071684      0.091622          0.009202   \n",
       "4               0.150412      0.071684      0.091622          0.009202   \n",
       "...                  ...           ...           ...               ...   \n",
       "3918215         0.120613      0.057834      0.061761          0.001794   \n",
       "3918216         0.120613      0.057834      0.061761          0.001794   \n",
       "3918217         0.120613      0.057834      0.061761          0.001794   \n",
       "3918218         0.120613      0.057834      0.061761          0.001794   \n",
       "3918219         0.120613      0.057834      0.061761          0.001794   \n",
       "\n",
       "         pct_master_deg  pct_prof_deg  pct_college_deg  \\\n",
       "0              0.033797      0.011417         0.217722   \n",
       "1              0.033797      0.011417         0.217722   \n",
       "2              0.033797      0.011417         0.217722   \n",
       "3              0.033797      0.011417         0.217722   \n",
       "4              0.033797      0.011417         0.217722   \n",
       "...                 ...           ...              ...   \n",
       "3918215        0.028360      0.006157         0.155905   \n",
       "3918216        0.028360      0.006157         0.155905   \n",
       "3918217        0.028360      0.006157         0.155905   \n",
       "3918218        0.028360      0.006157         0.155905   \n",
       "3918219        0.028360      0.006157         0.155905   \n",
       "\n",
       "         pct_with_comp_broadband  log_papers  state_capital  \n",
       "0                       0.250043         0.0            0.0  \n",
       "1                       0.250043         0.0            0.0  \n",
       "2                       0.250043         0.0            0.0  \n",
       "3                       0.250043         0.0            0.0  \n",
       "4                       0.250043         0.0            0.0  \n",
       "...                          ...         ...            ...  \n",
       "3918215                 0.226973         0.0            0.0  \n",
       "3918216                 0.226973         0.0            0.0  \n",
       "3918217                 0.226973         0.0            0.0  \n",
       "3918218                 0.226973         0.0            0.0  \n",
       "3918219                 0.226973         0.0            0.0  \n",
       "\n",
       "[3918220 rows x 50 columns]"
      ]
     },
     "execution_count": 2,
     "metadata": {},
     "output_type": "execute_result"
    }
   ],
   "source": [
    "df_local"
   ]
  },
  {
   "cell_type": "markdown",
   "metadata": {},
   "source": [
    "We will find each unique term used for queries by using the method `unqiue`  and print the unique search queries."
   ]
  },
  {
   "cell_type": "code",
   "execution_count": 55,
   "metadata": {},
   "outputs": [
    {
     "data": {
      "text/plain": [
       "array(['accident', 'college', 'crime', 'death', 'emergency%20services',\n",
       "       'governor', 'high%20school', 'hospital', 'mayor', 'obituary',\n",
       "       'police', 'school%20board', 'traffic', 'transit', 'university',\n",
       "       'weather'], dtype=object)"
      ]
     },
     "execution_count": 55,
     "metadata": {},
     "output_type": "execute_result"
    }
   ],
   "source": [
    "df_local['term'].unique()"
   ]
  },
  {
   "cell_type": "markdown",
   "metadata": {},
   "source": [
    "## Step 2: Getting the Gini Index \n",
    "\n",
    "Here is a brief description of the functions that you will see in this step of the notebook. \n",
    "- The function `get_gini` helps calculate the associated gini value \n",
    "- The function `gini_local_term` itterates through the local dataframe and returns the gini co-efficient for each source assocaited with a query \n",
    "- The function `gini_local` itterates through the local dataframe and gets every unqiue term and retuns the gini co-efficients with teh associated term as a list. \n",
    "\n",
    "We have created a function  `get_gini` that goes through the sorted list and helps calculate the gini value."
   ]
  },
  {
   "cell_type": "code",
   "execution_count": 2,
   "metadata": {},
   "outputs": [],
   "source": [
    "def get_gini(fips):\n",
    "    sorted_list = sorted(fips)\n",
    "    height, area = 0, 0\n",
    "    for value in sorted_list:\n",
    "        height += value\n",
    "        area += height - value / 2.\n",
    "    fair_area = height * len(fips) / 2.\n",
    "    return (fair_area - area) / fair_area"
   ]
  },
  {
   "cell_type": "code",
   "execution_count": 1,
   "metadata": {},
   "outputs": [
    {
     "ename": "NameError",
     "evalue": "name 'testDf' is not defined",
     "output_type": "error",
     "traceback": [
      "\u001b[0;31m---------------------------------------------------------------------------\u001b[0m",
      "\u001b[0;31mNameError\u001b[0m                                 Traceback (most recent call last)",
      "\u001b[0;32m<ipython-input-1-b32a33a41f09>\u001b[0m in \u001b[0;36m<module>\u001b[0;34m\u001b[0m\n\u001b[0;32m----> 1\u001b[0;31m \u001b[0mtestDf\u001b[0m\u001b[0;34m\u001b[0m\u001b[0;34m\u001b[0m\u001b[0m\n\u001b[0m",
      "\u001b[0;31mNameError\u001b[0m: name 'testDf' is not defined"
     ]
    }
   ],
   "source": [
    "testDf"
   ]
  },
  {
   "cell_type": "code",
   "execution_count": 4,
   "metadata": {},
   "outputs": [
    {
     "ename": "NameError",
     "evalue": "name 'df_local' is not defined",
     "output_type": "error",
     "traceback": [
      "\u001b[0;31m---------------------------------------------------------------------------\u001b[0m",
      "\u001b[0;31mNameError\u001b[0m                                 Traceback (most recent call last)",
      "\u001b[0;32m<ipython-input-4-729535a4bf51>\u001b[0m in \u001b[0;36m<module>\u001b[0;34m\u001b[0m\n\u001b[1;32m      1\u001b[0m \u001b[0;32mfrom\u001b[0m \u001b[0mcollections\u001b[0m \u001b[0;32mimport\u001b[0m \u001b[0mCounter\u001b[0m\u001b[0;34m\u001b[0m\u001b[0;34m\u001b[0m\u001b[0m\n\u001b[0;32m----> 2\u001b[0;31m \u001b[0mtestDf\u001b[0m \u001b[0;34m=\u001b[0m \u001b[0mdf_local\u001b[0m\u001b[0;34m[\u001b[0m\u001b[0;34m[\u001b[0m\u001b[0;34m\"term\"\u001b[0m\u001b[0;34m,\u001b[0m \u001b[0;34m\"source\"\u001b[0m\u001b[0;34m]\u001b[0m\u001b[0;34m]\u001b[0m\u001b[0;34m\u001b[0m\u001b[0;34m\u001b[0m\u001b[0m\n\u001b[0m\u001b[1;32m      3\u001b[0m \u001b[0mbyES\u001b[0m \u001b[0;34m=\u001b[0m \u001b[0mtestDf\u001b[0m\u001b[0;34m[\u001b[0m\u001b[0mtestDf\u001b[0m\u001b[0;34m[\u001b[0m\u001b[0;34m'term'\u001b[0m\u001b[0;34m]\u001b[0m\u001b[0;34m]\u001b[0m\u001b[0;34m\u001b[0m\u001b[0;34m\u001b[0m\u001b[0m\n\u001b[1;32m      4\u001b[0m \u001b[0msources\u001b[0m \u001b[0;34m=\u001b[0m \u001b[0mbyES\u001b[0m\u001b[0;34m[\u001b[0m\u001b[0;34m'source'\u001b[0m\u001b[0;34m]\u001b[0m\u001b[0;34m.\u001b[0m\u001b[0mto_numpy\u001b[0m\u001b[0;34m(\u001b[0m\u001b[0;34m)\u001b[0m\u001b[0;34m\u001b[0m\u001b[0;34m\u001b[0m\u001b[0m\n\u001b[1;32m      5\u001b[0m \u001b[0md\u001b[0m \u001b[0;34m=\u001b[0m \u001b[0mCounter\u001b[0m\u001b[0;34m(\u001b[0m\u001b[0msources\u001b[0m\u001b[0;34m)\u001b[0m\u001b[0;34m\u001b[0m\u001b[0;34m\u001b[0m\u001b[0m\n",
      "\u001b[0;31mNameError\u001b[0m: name 'df_local' is not defined"
     ]
    }
   ],
   "source": [
    "from collections import Counter\n",
    "testDf = df_local[[\"term\", \"source\"]]\n",
    "byES = testDf[testDf['term']]\n",
    "sources = byES['source'].to_numpy()\n",
    "d = Counter(sources)\n",
    "d"
   ]
  },
  {
   "cell_type": "code",
   "execution_count": 29,
   "metadata": {},
   "outputs": [],
   "source": [
    "import numpy as np"
   ]
  },
  {
   "cell_type": "code",
   "execution_count": 57,
   "metadata": {},
   "outputs": [
    {
     "data": {
      "text/plain": [
       "69.21019707994245"
      ]
     },
     "execution_count": 57,
     "metadata": {},
     "output_type": "execute_result"
    }
   ],
   "source": [
    "gini(d.values())*100"
   ]
  },
  {
   "cell_type": "markdown",
   "metadata": {},
   "source": [
    "### Step 2.1: Get the gini index for the local term: \n",
    "\n",
    "This step has two parts, first we are defining the function `gini_local_term` to get itterate through the local dataframe and extract the terms and the sources associated with the terms, then we are using the previously defined `gini` function to get the get the gini co-efficient with the sources and we are making sure this function returns the gini co-efficient. \n",
    "\n",
    "Then we are defining a new function `gini_local` that gets the local tuple values for each of the unique search queries used. We are defining this set of tuples as `local_tuple` and then we are printing the local tuple to make sure all the queries are correct and have the right values associated with them. \n",
    "\n"
   ]
  },
  {
   "cell_type": "code",
   "execution_count": 136,
   "metadata": {},
   "outputs": [],
   "source": [
    "def gini_local_term(term, dataframe):\n",
    "    localDf = dataframe[dataframe['term']== term]\n",
    "    dictSources = Counter(localDf['source'].to_numpy())\n",
    "    giniCoef = gini(dictSources.values())\n",
    "    return giniCoef"
   ]
  },
  {
   "cell_type": "markdown",
   "metadata": {},
   "source": [
    "To make sure the terms generated by this function match the stype of the original graph we are capitalizing the first letter of each unique query by using the function `title` and we are replacing the %20 that appears as the spacebar with a space. \n",
    "\n",
    "This allows us to prin the gini co-efficient list with the terms that match the style and the correct gini co-efficient we got by using the previous function that returns the gini co-efficient. This function returns a a list. "
   ]
  },
  {
   "cell_type": "code",
   "execution_count": 165,
   "metadata": {},
   "outputs": [],
   "source": [
    "def gini_local(dataframe):\n",
    "    ginicoeflist=[]\n",
    "    for term in dataframe['term'].unique():\n",
    "        ginicoef= gini_local_term(term, dataframe)\n",
    "        updatedTerm = term.title().replace(\"%20\", \" \")\n",
    "        ginicoeflist.append((updatedTerm,ginicoef))\n",
    "    return ginicoeflist"
   ]
  },
  {
   "cell_type": "markdown",
   "metadata": {},
   "source": [
    "We are getting the `local_tuple`'s by going through the local data frame and using the previously defined function `gini_local` and getting a list of tuples. "
   ]
  },
  {
   "cell_type": "code",
   "execution_count": 166,
   "metadata": {},
   "outputs": [],
   "source": [
    "local_tuple = gini_local(df_local)"
   ]
  },
  {
   "cell_type": "code",
   "execution_count": 167,
   "metadata": {},
   "outputs": [],
   "source": [
    "local_tuple.sort(key = lambda x: x[1])"
   ]
  },
  {
   "cell_type": "markdown",
   "metadata": {},
   "source": [
    "We are printing the tuples to make sure they have the correct search term in the format that matches the original research and the right associated gini value. "
   ]
  },
  {
   "cell_type": "code",
   "execution_count": 168,
   "metadata": {},
   "outputs": [
    {
     "data": {
      "text/plain": [
       "[('Mayor', 0.538842728830399),\n",
       " ('High School', 0.5779671081165435),\n",
       " ('Transit', 0.5791819391590596),\n",
       " ('Traffic', 0.5819759883173112),\n",
       " ('School Board', 0.5853677953281521),\n",
       " ('Crime', 0.5937493994811001),\n",
       " ('Accident', 0.6069459796540895),\n",
       " ('Hospital', 0.6108970816103629),\n",
       " ('College', 0.6185458181624285),\n",
       " ('Police', 0.660337540932091),\n",
       " ('Death', 0.679613005884612),\n",
       " ('University', 0.6844085055884959),\n",
       " ('Emergency Services', 0.6921019707994245),\n",
       " ('Governor', 0.6959180249056709),\n",
       " ('Weather', 0.7087058427408132),\n",
       " ('Obituary', 0.8483164664472639)]"
      ]
     },
     "execution_count": 168,
     "metadata": {},
     "output_type": "execute_result"
    }
   ],
   "source": [
    "local_tuple"
   ]
  },
  {
   "cell_type": "markdown",
   "metadata": {},
   "source": [
    "### Step 2.2: Get the average gini value for the local term\n",
    "\n",
    "In this step we get the average Gini value for the local term. We do this by itterating through the local terms and coefficients of the local tuples. We add all the values associated with the terms in the `local_tuple` and then we divide by the amount of terms to get the average. "
   ]
  },
  {
   "cell_type": "code",
   "execution_count": 169,
   "metadata": {},
   "outputs": [
    {
     "data": {
      "text/plain": [
       "0.6414296997473635"
      ]
     },
     "execution_count": 169,
     "metadata": {},
     "output_type": "execute_result"
    }
   ],
   "source": [
    "total=0\n",
    "for term, coef in local_tuple:\n",
    "    total+=coef\n",
    "avg_local=total/len(local_tuple)\n",
    "avg_local"
   ]
  },
  {
   "cell_type": "markdown",
   "metadata": {},
   "source": [
    "### Step 2.3: Plot the Gini Values for the Local Terms \n",
    "\n",
    "For this step we used `matplotlib` and used a bar chart to recreate the original graph. \n",
    "- Iterate through the local_tuple to get the name, this is item[0] of the tuple\n",
    "- Iterate through the local_tuple to get the value associated, this is item[1] of the tuple \n",
    "- Plot the average as a dashed line by using the average we previously calculated \n",
    "- Make sure the x axis gaps match the original by assigning values increasing by +0.25 \n",
    "\n",
    "By using matplotlib and the data we had collected for the Gini index we were able to perfectly recreate the original graph, we made sure to also match the style by using silver for the color of the bars and red dashed line for the average value. "
   ]
  },
  {
   "cell_type": "code",
   "execution_count": 170,
   "metadata": {},
   "outputs": [
    {
     "data": {
      "text/plain": [
       "<BarContainer object of 16 artists>"
      ]
     },
     "execution_count": 170,
     "metadata": {},
     "output_type": "execute_result"
    },
    {
     "data": {
      "image/png": "[encoded data removed]",
      "text/plain": [
       "<Figure size 288x720 with 1 Axes>"
      ]
     },
     "metadata": {
      "needs_background": "light"
     },
     "output_type": "display_data"
    }
   ],
   "source": [
    "import matplotlib.pyplot as plt\n",
    "\n",
    "plt.figure(figsize=(4,10))\n",
    "barg= plt.barh([item[0] for item in local_tuple], [item[1] for item in local_tuple], color='silver')\n",
    "plt.axvline(x=avg_local, color='red', linestyle='dashed', linewidth=1)\n",
    "plt.xlabel(\"Gini Index\")\n",
    "x=[0, 0.25,0.50,0.75,1]\n",
    "plt.xticks(x)\n",
    "barg"
   ]
  },
  {
   "cell_type": "markdown",
   "metadata": {},
   "source": [
    "## Step 3: Getting data for National news\n",
    "\n",
    "In this step we will download the data that was collected by the original researchers of the paper. The data is in r format so we will download it as a CSV file and then use this CSV file which contains all the original data to do our replication. We are doing that here for the national data that has been collected by the researchers. "
   ]
  },
  {
   "cell_type": "code",
   "execution_count": 171,
   "metadata": {},
   "outputs": [
    {
     "name": "stderr",
     "output_type": "stream",
     "text": [
      "/opt/anaconda3/lib/python3.8/site-packages/IPython/core/interactiveshell.py:3165: DtypeWarning: Columns (13,19,23) have mixed types.Specify dtype option on import or set low_memory=False.\n",
      "  has_raised = await self.run_ast_nodes(code_ast.body, cell_name,\n"
     ]
    }
   ],
   "source": [
    "df_national = pd.read_csv('national.csv') # also works for Rds"
   ]
  },
  {
   "cell_type": "code",
   "execution_count": 123,
   "metadata": {},
   "outputs": [
    {
     "data": {
      "text/html": [
       "<div>\n",
       "<style scoped>\n",
       "    .dataframe tbody tr th:only-of-type {\n",
       "        vertical-align: middle;\n",
       "    }\n",
       "\n",
       "    .dataframe tbody tr th {\n",
       "        vertical-align: top;\n",
       "    }\n",
       "\n",
       "    .dataframe thead th {\n",
       "        text-align: right;\n",
       "    }\n",
       "</style>\n",
       "<table border=\"1\" class=\"dataframe\">\n",
       "  <thead>\n",
       "    <tr style=\"text-align: right;\">\n",
       "      <th></th>\n",
       "      <th>Unnamed: 0</th>\n",
       "      <th>term</th>\n",
       "      <th>rank</th>\n",
       "      <th>fips</th>\n",
       "      <th>County</th>\n",
       "      <th>State</th>\n",
       "      <th>source</th>\n",
       "      <th>rank_2</th>\n",
       "      <th>ord_weight</th>\n",
       "      <th>frac_weight</th>\n",
       "      <th>...</th>\n",
       "      <th>website</th>\n",
       "      <th>twitter</th>\n",
       "      <th>youtube</th>\n",
       "      <th>facebook</th>\n",
       "      <th>owner</th>\n",
       "      <th>medium</th>\n",
       "      <th>collection_date</th>\n",
       "      <th>source.y</th>\n",
       "      <th>name</th>\n",
       "      <th>Source_Timestamp</th>\n",
       "    </tr>\n",
       "  </thead>\n",
       "  <tbody>\n",
       "    <tr>\n",
       "      <th>0</th>\n",
       "      <td>0</td>\n",
       "      <td>abortion</td>\n",
       "      <td>1.0</td>\n",
       "      <td>28099.0</td>\n",
       "      <td>Neshoba</td>\n",
       "      <td>MS</td>\n",
       "      <td>usa today</td>\n",
       "      <td>1</td>\n",
       "      <td>100.0</td>\n",
       "      <td>1.000000</td>\n",
       "      <td>...</td>\n",
       "      <td>NaN</td>\n",
       "      <td>NaN</td>\n",
       "      <td>NaN</td>\n",
       "      <td>NaN</td>\n",
       "      <td>NaN</td>\n",
       "      <td>NaN</td>\n",
       "      <td>NaN</td>\n",
       "      <td>NaN</td>\n",
       "      <td>NaN</td>\n",
       "      <td>today</td>\n",
       "    </tr>\n",
       "    <tr>\n",
       "      <th>1</th>\n",
       "      <td>1</td>\n",
       "      <td>abortion</td>\n",
       "      <td>2.0</td>\n",
       "      <td>28099.0</td>\n",
       "      <td>Neshoba</td>\n",
       "      <td>MS</td>\n",
       "      <td>new york times</td>\n",
       "      <td>2</td>\n",
       "      <td>99.0</td>\n",
       "      <td>0.500000</td>\n",
       "      <td>...</td>\n",
       "      <td>NaN</td>\n",
       "      <td>NaN</td>\n",
       "      <td>NaN</td>\n",
       "      <td>NaN</td>\n",
       "      <td>NaN</td>\n",
       "      <td>NaN</td>\n",
       "      <td>NaN</td>\n",
       "      <td>NaN</td>\n",
       "      <td>NaN</td>\n",
       "      <td>5 hours ago</td>\n",
       "    </tr>\n",
       "    <tr>\n",
       "      <th>2</th>\n",
       "      <td>2</td>\n",
       "      <td>abortion</td>\n",
       "      <td>3.0</td>\n",
       "      <td>28099.0</td>\n",
       "      <td>Neshoba</td>\n",
       "      <td>MS</td>\n",
       "      <td>daily beast</td>\n",
       "      <td>3</td>\n",
       "      <td>98.0</td>\n",
       "      <td>0.333333</td>\n",
       "      <td>...</td>\n",
       "      <td>NaN</td>\n",
       "      <td>NaN</td>\n",
       "      <td>NaN</td>\n",
       "      <td>NaN</td>\n",
       "      <td>NaN</td>\n",
       "      <td>NaN</td>\n",
       "      <td>NaN</td>\n",
       "      <td>NaN</td>\n",
       "      <td>NaN</td>\n",
       "      <td>yesterday</td>\n",
       "    </tr>\n",
       "    <tr>\n",
       "      <th>3</th>\n",
       "      <td>3</td>\n",
       "      <td>abortion</td>\n",
       "      <td>4.0</td>\n",
       "      <td>28099.0</td>\n",
       "      <td>Neshoba</td>\n",
       "      <td>MS</td>\n",
       "      <td>des moines register</td>\n",
       "      <td>4</td>\n",
       "      <td>97.0</td>\n",
       "      <td>0.250000</td>\n",
       "      <td>...</td>\n",
       "      <td>http://www.desmoinesregister.com</td>\n",
       "      <td>dmregister</td>\n",
       "      <td>http://www.youtube.com/user/DMRegister</td>\n",
       "      <td>https://www.facebook.com/DesMoinesRegister</td>\n",
       "      <td>NaN</td>\n",
       "      <td>Newspapers</td>\n",
       "      <td>2018-08-02 14:55:24.612585</td>\n",
       "      <td>usnpl.com</td>\n",
       "      <td>NaN</td>\n",
       "      <td>yesterday</td>\n",
       "    </tr>\n",
       "    <tr>\n",
       "      <th>4</th>\n",
       "      <td>4</td>\n",
       "      <td>abortion</td>\n",
       "      <td>6.0</td>\n",
       "      <td>28099.0</td>\n",
       "      <td>Neshoba</td>\n",
       "      <td>MS</td>\n",
       "      <td>hill</td>\n",
       "      <td>6</td>\n",
       "      <td>95.0</td>\n",
       "      <td>0.166667</td>\n",
       "      <td>...</td>\n",
       "      <td>NaN</td>\n",
       "      <td>NaN</td>\n",
       "      <td>NaN</td>\n",
       "      <td>NaN</td>\n",
       "      <td>NaN</td>\n",
       "      <td>NaN</td>\n",
       "      <td>NaN</td>\n",
       "      <td>NaN</td>\n",
       "      <td>NaN</td>\n",
       "      <td>yesterday</td>\n",
       "    </tr>\n",
       "    <tr>\n",
       "      <th>...</th>\n",
       "      <td>...</td>\n",
       "      <td>...</td>\n",
       "      <td>...</td>\n",
       "      <td>...</td>\n",
       "      <td>...</td>\n",
       "      <td>...</td>\n",
       "      <td>...</td>\n",
       "      <td>...</td>\n",
       "      <td>...</td>\n",
       "      <td>...</td>\n",
       "      <td>...</td>\n",
       "      <td>...</td>\n",
       "      <td>...</td>\n",
       "      <td>...</td>\n",
       "      <td>...</td>\n",
       "      <td>...</td>\n",
       "      <td>...</td>\n",
       "      <td>...</td>\n",
       "      <td>...</td>\n",
       "      <td>...</td>\n",
       "      <td>...</td>\n",
       "    </tr>\n",
       "    <tr>\n",
       "      <th>8912157</th>\n",
       "      <td>8912157</td>\n",
       "      <td>taxes</td>\n",
       "      <td>48.0</td>\n",
       "      <td>20103.0</td>\n",
       "      <td>Leavenworth</td>\n",
       "      <td>KS</td>\n",
       "      <td>cnycentral.com</td>\n",
       "      <td>46</td>\n",
       "      <td>35.0</td>\n",
       "      <td>0.021739</td>\n",
       "      <td>...</td>\n",
       "      <td>http://www.cnycentral.com</td>\n",
       "      <td>NaN</td>\n",
       "      <td>NaN</td>\n",
       "      <td>NaN</td>\n",
       "      <td>Sinclair</td>\n",
       "      <td>TV station</td>\n",
       "      <td>2018-08-02 14:55:24.612585</td>\n",
       "      <td>sbgi.net</td>\n",
       "      <td>wstq</td>\n",
       "      <td>today</td>\n",
       "    </tr>\n",
       "    <tr>\n",
       "      <th>8912158</th>\n",
       "      <td>8912158</td>\n",
       "      <td>taxes</td>\n",
       "      <td>51.0</td>\n",
       "      <td>20103.0</td>\n",
       "      <td>Leavenworth</td>\n",
       "      <td>KS</td>\n",
       "      <td>al.com</td>\n",
       "      <td>49</td>\n",
       "      <td>32.0</td>\n",
       "      <td>0.020408</td>\n",
       "      <td>...</td>\n",
       "      <td>http://www.al.com/birmingham</td>\n",
       "      <td>ALcomBirmingham</td>\n",
       "      <td>NaN</td>\n",
       "      <td>https://www.facebook.com/birminghamnews</td>\n",
       "      <td>NaN</td>\n",
       "      <td>Newspapers</td>\n",
       "      <td>2018-08-02 14:55:24.612585</td>\n",
       "      <td>usnpl.com</td>\n",
       "      <td>birmingham news</td>\n",
       "      <td>yesterday</td>\n",
       "    </tr>\n",
       "    <tr>\n",
       "      <th>8912159</th>\n",
       "      <td>8912159</td>\n",
       "      <td>taxes</td>\n",
       "      <td>55.0</td>\n",
       "      <td>20103.0</td>\n",
       "      <td>Leavenworth</td>\n",
       "      <td>KS</td>\n",
       "      <td>vox.com</td>\n",
       "      <td>53</td>\n",
       "      <td>28.0</td>\n",
       "      <td>0.018868</td>\n",
       "      <td>...</td>\n",
       "      <td>NaN</td>\n",
       "      <td>NaN</td>\n",
       "      <td>NaN</td>\n",
       "      <td>NaN</td>\n",
       "      <td>NaN</td>\n",
       "      <td>NaN</td>\n",
       "      <td>NaN</td>\n",
       "      <td>NaN</td>\n",
       "      <td>NaN</td>\n",
       "      <td>15 days ago</td>\n",
       "    </tr>\n",
       "    <tr>\n",
       "      <th>8912160</th>\n",
       "      <td>8912160</td>\n",
       "      <td>taxes</td>\n",
       "      <td>66.0</td>\n",
       "      <td>20103.0</td>\n",
       "      <td>Leavenworth</td>\n",
       "      <td>KS</td>\n",
       "      <td>al.com</td>\n",
       "      <td>64</td>\n",
       "      <td>17.0</td>\n",
       "      <td>0.015625</td>\n",
       "      <td>...</td>\n",
       "      <td>http://www.al.com/birmingham</td>\n",
       "      <td>ALcomBirmingham</td>\n",
       "      <td>NaN</td>\n",
       "      <td>https://www.facebook.com/birminghamnews</td>\n",
       "      <td>NaN</td>\n",
       "      <td>Newspapers</td>\n",
       "      <td>2018-08-02 14:55:24.612585</td>\n",
       "      <td>usnpl.com</td>\n",
       "      <td>birmingham news</td>\n",
       "      <td>2 days ago</td>\n",
       "    </tr>\n",
       "    <tr>\n",
       "      <th>8912161</th>\n",
       "      <td>8912161</td>\n",
       "      <td>taxes</td>\n",
       "      <td>72.0</td>\n",
       "      <td>20103.0</td>\n",
       "      <td>Leavenworth</td>\n",
       "      <td>KS</td>\n",
       "      <td>nbcnews.com</td>\n",
       "      <td>70</td>\n",
       "      <td>11.0</td>\n",
       "      <td>0.014286</td>\n",
       "      <td>...</td>\n",
       "      <td>NaN</td>\n",
       "      <td>NaN</td>\n",
       "      <td>NaN</td>\n",
       "      <td>NaN</td>\n",
       "      <td>NaN</td>\n",
       "      <td>NaN</td>\n",
       "      <td>NaN</td>\n",
       "      <td>NaN</td>\n",
       "      <td>NaN</td>\n",
       "      <td>19 days ago</td>\n",
       "    </tr>\n",
       "  </tbody>\n",
       "</table>\n",
       "<p>8912162 rows × 25 columns</p>\n",
       "</div>"
      ],
      "text/plain": [
       "         Unnamed: 0      term  rank     fips       County State  \\\n",
       "0                 0  abortion   1.0  28099.0      Neshoba    MS   \n",
       "1                 1  abortion   2.0  28099.0      Neshoba    MS   \n",
       "2                 2  abortion   3.0  28099.0      Neshoba    MS   \n",
       "3                 3  abortion   4.0  28099.0      Neshoba    MS   \n",
       "4                 4  abortion   6.0  28099.0      Neshoba    MS   \n",
       "...             ...       ...   ...      ...          ...   ...   \n",
       "8912157     8912157     taxes  48.0  20103.0  Leavenworth    KS   \n",
       "8912158     8912158     taxes  51.0  20103.0  Leavenworth    KS   \n",
       "8912159     8912159     taxes  55.0  20103.0  Leavenworth    KS   \n",
       "8912160     8912160     taxes  66.0  20103.0  Leavenworth    KS   \n",
       "8912161     8912161     taxes  72.0  20103.0  Leavenworth    KS   \n",
       "\n",
       "                      source  rank_2  ord_weight  frac_weight  ...  \\\n",
       "0                  usa today       1       100.0     1.000000  ...   \n",
       "1             new york times       2        99.0     0.500000  ...   \n",
       "2                daily beast       3        98.0     0.333333  ...   \n",
       "3        des moines register       4        97.0     0.250000  ...   \n",
       "4                       hill       6        95.0     0.166667  ...   \n",
       "...                      ...     ...         ...          ...  ...   \n",
       "8912157       cnycentral.com      46        35.0     0.021739  ...   \n",
       "8912158               al.com      49        32.0     0.020408  ...   \n",
       "8912159              vox.com      53        28.0     0.018868  ...   \n",
       "8912160               al.com      64        17.0     0.015625  ...   \n",
       "8912161          nbcnews.com      70        11.0     0.014286  ...   \n",
       "\n",
       "                                  website          twitter  \\\n",
       "0                                     NaN              NaN   \n",
       "1                                     NaN              NaN   \n",
       "2                                     NaN              NaN   \n",
       "3        http://www.desmoinesregister.com       dmregister   \n",
       "4                                     NaN              NaN   \n",
       "...                                   ...              ...   \n",
       "8912157         http://www.cnycentral.com              NaN   \n",
       "8912158      http://www.al.com/birmingham  ALcomBirmingham   \n",
       "8912159                               NaN              NaN   \n",
       "8912160      http://www.al.com/birmingham  ALcomBirmingham   \n",
       "8912161                               NaN              NaN   \n",
       "\n",
       "                                        youtube  \\\n",
       "0                                           NaN   \n",
       "1                                           NaN   \n",
       "2                                           NaN   \n",
       "3        http://www.youtube.com/user/DMRegister   \n",
       "4                                           NaN   \n",
       "...                                         ...   \n",
       "8912157                                     NaN   \n",
       "8912158                                     NaN   \n",
       "8912159                                     NaN   \n",
       "8912160                                     NaN   \n",
       "8912161                                     NaN   \n",
       "\n",
       "                                           facebook     owner      medium  \\\n",
       "0                                               NaN       NaN         NaN   \n",
       "1                                               NaN       NaN         NaN   \n",
       "2                                               NaN       NaN         NaN   \n",
       "3        https://www.facebook.com/DesMoinesRegister       NaN  Newspapers   \n",
       "4                                               NaN       NaN         NaN   \n",
       "...                                             ...       ...         ...   \n",
       "8912157                                         NaN  Sinclair  TV station   \n",
       "8912158     https://www.facebook.com/birminghamnews       NaN  Newspapers   \n",
       "8912159                                         NaN       NaN         NaN   \n",
       "8912160     https://www.facebook.com/birminghamnews       NaN  Newspapers   \n",
       "8912161                                         NaN       NaN         NaN   \n",
       "\n",
       "                    collection_date   source.y             name  \\\n",
       "0                               NaN        NaN              NaN   \n",
       "1                               NaN        NaN              NaN   \n",
       "2                               NaN        NaN              NaN   \n",
       "3        2018-08-02 14:55:24.612585  usnpl.com              NaN   \n",
       "4                               NaN        NaN              NaN   \n",
       "...                             ...        ...              ...   \n",
       "8912157  2018-08-02 14:55:24.612585   sbgi.net             wstq   \n",
       "8912158  2018-08-02 14:55:24.612585  usnpl.com  birmingham news   \n",
       "8912159                         NaN        NaN              NaN   \n",
       "8912160  2018-08-02 14:55:24.612585  usnpl.com  birmingham news   \n",
       "8912161                         NaN        NaN              NaN   \n",
       "\n",
       "        Source_Timestamp  \n",
       "0                  today  \n",
       "1            5 hours ago  \n",
       "2              yesterday  \n",
       "3              yesterday  \n",
       "4              yesterday  \n",
       "...                  ...  \n",
       "8912157            today  \n",
       "8912158        yesterday  \n",
       "8912159      15 days ago  \n",
       "8912160       2 days ago  \n",
       "8912161      19 days ago  \n",
       "\n",
       "[8912162 rows x 25 columns]"
      ]
     },
     "execution_count": 123,
     "metadata": {},
     "output_type": "execute_result"
    }
   ],
   "source": [
    "df_national"
   ]
  },
  {
   "cell_type": "markdown",
   "metadata": {},
   "source": [
    "We will find each unique term used for queries by using the method `unqiue`  and print the unique search queries."
   ]
  },
  {
   "cell_type": "code",
   "execution_count": 173,
   "metadata": {},
   "outputs": [],
   "source": [
    "unique = df_national['term'].unique()"
   ]
  },
  {
   "cell_type": "code",
   "execution_count": 174,
   "metadata": {},
   "outputs": [
    {
     "name": "stdout",
     "output_type": "stream",
     "text": [
      "Index(['Unnamed: 0', 'term', 'fips', 'County', 'State', 'source', 'rank_2',\n",
      "       'ord_weight', 'frac_weight', 'source_timestamp', 'classification',\n",
      "       'class_2', 'local_regional', 'state.x', 'total_papers',\n",
      "       'total_circulation', 'avg_circulation', 'na_circulation', 'median_age',\n",
      "       'total_population', 'log_population', 'am_indian_pct', 'asian_pct',\n",
      "       'black_pct', 'hispanic_pct', 'nat_hawaiian_pct', 'white_non_hisp_pct',\n",
      "       'other_race_pct', 'two_races_pct', 'white_pct', 'hisp_white_pct',\n",
      "       'hisp_non_white_pct', 'pct_non_white', 'pct_below_pov_lvl_1',\n",
      "       'pct_below_pov_lvl_2', 'pct_below_pov_lvl', 'pct_no_grade_school',\n",
      "       'pct_grade_school', 'pct_some_high_school', 'pct_high_school_ged',\n",
      "       'pct_some_college', 'pct_assoc_deg', 'pct_bach_deg',\n",
      "       'pct_doctorate_deg', 'pct_master_deg', 'pct_prof_deg',\n",
      "       'pct_college_deg', 'pct_with_comp_broadband', 'log_papers',\n",
      "       'state_capital'],\n",
      "      dtype='object')\n"
     ]
    }
   ],
   "source": [
    "print(df_local.columns)"
   ]
  },
  {
   "cell_type": "markdown",
   "metadata": {},
   "source": [
    "### Step 3.1: Get the gini index for the national term: \n",
    "\n",
    "In this ste we are using the function we previously defined as `gini_local` to get the national tuple values for each of the unique search queries used. We are defining this set of tuples as `national_tuple` and then we are printing the national tuple to make sure all the queries are correct and have the right values associated with them. "
   ]
  },
  {
   "cell_type": "code",
   "execution_count": 175,
   "metadata": {},
   "outputs": [],
   "source": [
    "testtuple = gini_local(df_local)"
   ]
  },
  {
   "cell_type": "markdown",
   "metadata": {},
   "source": [
    "We are getting the `national_tuple`'s by going through the national data frame and using the previously defined function `gini_local` and getting a list of tuples. "
   ]
  },
  {
   "cell_type": "code",
   "execution_count": 176,
   "metadata": {},
   "outputs": [],
   "source": [
    "national_tuple = gini_local(df_national)"
   ]
  },
  {
   "cell_type": "code",
   "execution_count": 177,
   "metadata": {},
   "outputs": [],
   "source": [
    "national_tuple.sort(key = lambda x: x[1])"
   ]
  },
  {
   "cell_type": "markdown",
   "metadata": {},
   "source": [
    "We are printing the tuples to make sure they have the correct search term in the format that matches the original research and the right associated gini value (this is a test and it worked) "
   ]
  },
  {
   "cell_type": "code",
   "execution_count": 3,
   "metadata": {},
   "outputs": [],
   "source": [
    "#national_tuple"
   ]
  },
  {
   "cell_type": "markdown",
   "metadata": {},
   "source": [
    "### Step 3.2: Get the average gini value for the national term\n",
    "\n",
    "In this step we get the average Gini value for the national term. We do this by itterating through the local terms and coefficients of the local tuples. We add all the values associated with the terms in the `national_tuple` and then we divide by the amount of terms to get the average. "
   ]
  },
  {
   "cell_type": "code",
   "execution_count": 179,
   "metadata": {},
   "outputs": [
    {
     "data": {
      "text/plain": [
       "0.8119468480757639"
      ]
     },
     "execution_count": 179,
     "metadata": {},
     "output_type": "execute_result"
    }
   ],
   "source": [
    "total2=0\n",
    "for term, coef in national_tuple:\n",
    "    total2+=coef\n",
    "avg_national=total2/len(national_tuple)\n",
    "avg_national"
   ]
  },
  {
   "cell_type": "markdown",
   "metadata": {},
   "source": [
    "### Step 3.3: Plot the Gini Values for the National Terms \n",
    "\n",
    "For this step we used `matplotlib` and used a bar chart to recreate the original graph. \n",
    "- Iterate through the local_tuple to get the name, this is item[0] of the tuple\n",
    "- Iterate through the local_tuple to get the value associated, this is item[1] of the tuple \n",
    "- Plot the average as a dashed line by using the average we previously calculated \n",
    "- Make sure the x axis gaps match the original by assigning values increasing by +0.25 \n",
    "- Make sure the x axis is on the right side of the graph to match the style of the original graph by inverting the axis using the `invert_axis` function. \n",
    "\n",
    "By using matplotlib and the data we had collected for the Gini index we were able to perfectly recreate the original graph, we made sure to also match the style by using silver for the color of the bars and red dashed line for the average value. "
   ]
  },
  {
   "cell_type": "code",
   "execution_count": 211,
   "metadata": {},
   "outputs": [
    {
     "data": {
      "text/plain": [
       "<BarContainer object of 17 artists>"
      ]
     },
     "execution_count": 211,
     "metadata": {},
     "output_type": "execute_result"
    },
    {
     "data": {
      "image/png": "[encoded data removed]",
      "text/plain": [
       "<Figure size 400x1000 with 1 Axes>"
      ]
     },
     "metadata": {},
     "output_type": "display_data"
    }
   ],
   "source": [
    "plt.figure(figsize=(4,10))\n",
    "barg_national= plt.barh([item[0] for item in national_tuple], [item[1] for item in national_tuple], color='silver')\n",
    "plt.axvline(x=avg_national, color='red', linestyle='dashed', linewidth=1)\n",
    "plt.xlabel(\"Gini Index\")\n",
    "x=[0, 0.25,0.50,0.75,1]\n",
    "plt.xticks(x)\n",
    "plt.gca().invert_xaxis()\n",
    "plt.tick_params(axis='y', which='both', labelleft=False, labelright=True)\n",
    "barg_national"
   ]
  }
 ],
 "metadata": {
  "kernelspec": {
   "display_name": "Python 3",
   "language": "python",
   "name": "python3"
  },
  "language_info": {
   "codemirror_mode": {
    "name": "ipython",
    "version": 3
   },
   "file_extension": ".py",
   "mimetype": "text/x-python",
   "name": "python",
   "nbconvert_exporter": "python",
   "pygments_lexer": "ipython3",
   "version": "3.7.6"
  }
 },
 "nbformat": 4,
 "nbformat_minor": 5
}
